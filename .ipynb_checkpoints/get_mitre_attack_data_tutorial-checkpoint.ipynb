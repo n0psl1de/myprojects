{
 "cells": [
  {
   "cell_type": "code",
   "execution_count": 1,
   "id": "067d9329",
   "metadata": {
    "tags": []
   },
   "outputs": [],
   "source": [
    "# Import Python Libraries\n",
    "import pandas as pd\n",
    "import janitor as jn\n",
    "\n",
    "# Define Settings\n",
    "pd.set_option('display.max_rows', None)\n",
    "pd.set_option('display.max_columns', None)"
   ]
  },
  {
   "cell_type": "code",
   "execution_count": 3,
   "id": "27594e74-f690-40f6-a30a-2ded8e8ece9e",
   "metadata": {
    "tags": []
   },
   "outputs": [],
   "source": [
    "# Download MITRE Enterprise ATT&CK DATA\n",
    "url_attack = 'https://attack.mitre.org/docs/enterprise-attack-v10.1/enterprise-attack-v10.1.xlsx'\n",
    "df_datasources = pd.read_excel(url_attack, sheet_name='datasources')\n",
    "df_tactics = pd.read_excel(url_attack, sheet_name='tactics')\n",
    "df_techniques = pd.read_excel(url_attack, sheet_name='techniques')\n",
    "df_relationships = pd.read_excel(url_attack, sheet_name='relationships')\n",
    "df_mitigations = pd.read_excel(url_attack, sheet_name='mitigations')\n",
    "df_software = pd.read_excel(url_attack, sheet_name='software')\n",
    "df_groups = pd.read_excel(url_attack, sheet_name='groups')"
   ]
  },
  {
   "cell_type": "code",
   "execution_count": 6,
   "id": "2132e1ff",
   "metadata": {},
   "outputs": [
    {
     "name": "stdout",
     "output_type": "stream",
     "text": [
      "ID\n",
      "name\n",
      "description\n",
      "url\n",
      "created\n",
      "last modified\n",
      "version\n",
      "tactics\n",
      "detection\n",
      "platforms\n",
      "data sources\n",
      "is sub-technique\n",
      "sub-technique of\n",
      "contributors\n",
      "system requirements\n",
      "permissions required\n",
      "effective permissions\n",
      "defenses bypassed\n",
      "impact type\n",
      "supports remote\n"
     ]
    }
   ],
   "source": [
    "for i in df_techniques.columns: print(i)"
   ]
  },
  {
   "cell_type": "code",
   "execution_count": 7,
   "id": "e8288185-164c-46ef-9e5f-caf87f05184a",
   "metadata": {
    "tags": []
   },
   "outputs": [],
   "source": [
    "# Clean MITRE Enterprise ATT&CK DATA\n",
    "df_datasources = jn.clean_names(df_datasources)\n",
    "df_tactics = jn.clean_names(df_tactics)\n",
    "df_techniques = jn.clean_names(df_techniques)\n",
    "df_relationships = jn.clean_names(df_relationships)\n",
    "df_mitigations = jn.clean_names(df_mitigations)\n",
    "df_software = jn.clean_names(df_software)\n",
    "df_groups = jn.clean_names(df_groups)"
   ]
  },
  {
   "cell_type": "code",
   "execution_count": 8,
   "id": "0af45b8e",
   "metadata": {},
   "outputs": [
    {
     "name": "stdout",
     "output_type": "stream",
     "text": [
      "id\n",
      "name\n",
      "description\n",
      "url\n",
      "created\n",
      "last_modified\n",
      "version\n",
      "tactics\n",
      "detection\n",
      "platforms\n",
      "data_sources\n",
      "is_sub_technique\n",
      "sub_technique_of\n",
      "contributors\n",
      "system_requirements\n",
      "permissions_required\n",
      "effective_permissions\n",
      "defenses_bypassed\n",
      "impact_type\n",
      "supports_remote\n"
     ]
    }
   ],
   "source": [
    "for i in df_techniques.columns: print(i)"
   ]
  },
  {
   "cell_type": "markdown",
   "id": "c1edb224-1081-4f79-a325-19b10b3e7386",
   "metadata": {},
   "source": [
    "### Perform Basic Exploratory Data Analysis"
   ]
  },
  {
   "cell_type": "markdown",
   "id": "6ed38556-6cb3-448c-8610-ba02fffafdab",
   "metadata": {},
   "source": [
    "#### MITRE ATT&CK - Data Sources"
   ]
  },
  {
   "cell_type": "code",
   "execution_count": null,
   "id": "52b7f3d1-4178-4ff0-93ff-616f30df5035",
   "metadata": {},
   "outputs": [],
   "source": [
    "df_datasources.head(3)"
   ]
  },
  {
   "cell_type": "markdown",
   "id": "6e410992-986e-4411-9fa9-de324cac61cb",
   "metadata": {},
   "source": [
    "#### MITRE ATT&CK - Tactics"
   ]
  },
  {
   "cell_type": "code",
   "execution_count": null,
   "id": "49f3df09-813e-407c-83be-85dc0fc39360",
   "metadata": {},
   "outputs": [],
   "source": [
    "df_tactics.head(3)"
   ]
  },
  {
   "cell_type": "markdown",
   "id": "1dddeafc-b45b-405e-9ada-6ecb30bdd365",
   "metadata": {},
   "source": [
    "#### MITRE ATT&CK - Techniques & Sub-Techniques"
   ]
  },
  {
   "cell_type": "code",
   "execution_count": null,
   "id": "eb316892-26cf-4d66-a964-640c5acd9fcb",
   "metadata": {},
   "outputs": [],
   "source": [
    "df_techniques.head(3)"
   ]
  },
  {
   "cell_type": "markdown",
   "id": "88e7dd0b-7ff4-464e-aea8-e3db34b596fe",
   "metadata": {},
   "source": [
    "#### MITRE ATT&CK - Relationships"
   ]
  },
  {
   "cell_type": "code",
   "execution_count": null,
   "id": "3c0e9a11-1b90-4445-849f-7c25b8db71b8",
   "metadata": {},
   "outputs": [],
   "source": [
    "df_relationships.head(3)"
   ]
  },
  {
   "cell_type": "markdown",
   "id": "3d4bed0d-352b-4463-ae83-651dc63d713c",
   "metadata": {},
   "source": [
    "#### MITRE ATT&CK - Mitigations"
   ]
  },
  {
   "cell_type": "code",
   "execution_count": null,
   "id": "5a566967-96af-44cb-946f-3f027c550ece",
   "metadata": {},
   "outputs": [],
   "source": [
    "df_mitigations.head(3)"
   ]
  },
  {
   "cell_type": "markdown",
   "id": "fc5e74fe-e834-4461-94be-809cf36cbf3c",
   "metadata": {},
   "source": [
    "#### MITRE ATT&CK - Software"
   ]
  },
  {
   "cell_type": "code",
   "execution_count": null,
   "id": "e37be567-d321-45f2-bb27-bf8460bc094a",
   "metadata": {},
   "outputs": [],
   "source": [
    "df_software.head(3)"
   ]
  },
  {
   "cell_type": "markdown",
   "id": "116e57a2-fb38-45d1-a733-9c7fa96d5ee2",
   "metadata": {},
   "source": [
    "#### MITRE ATT&CK - Groups"
   ]
  },
  {
   "cell_type": "code",
   "execution_count": null,
   "id": "fe476eea-ff74-47a9-a129-8b8b7b997dab",
   "metadata": {},
   "outputs": [],
   "source": [
    "df_groups.head(3)"
   ]
  },
  {
   "cell_type": "markdown",
   "id": "147f103f-628c-4e9b-b546-c62e925a5dfe",
   "metadata": {},
   "source": [
    "#### List of Techniques for Testing Purposes"
   ]
  },
  {
   "cell_type": "code",
   "execution_count": null,
   "id": "3ecf30a7-6947-4e0a-bb33-e1837e1f2319",
   "metadata": {},
   "outputs": [],
   "source": [
    "list_of_techniques = ['T1562.010', 'T1620', 'T1218.014', 'T1614.001', 'T1218.013']"
   ]
  },
  {
   "cell_type": "markdown",
   "id": "a1f3f4ca-f208-419b-9cd0-ffbc9faf086c",
   "metadata": {},
   "source": [
    "#### Get List of Data Components Based on List of Techniques"
   ]
  },
  {
   "cell_type": "code",
   "execution_count": null,
   "id": "5e412bf7-4d62-4264-9a91-6b3297dd77ba",
   "metadata": {},
   "outputs": [],
   "source": [
    "df_relationships[df_relationships['target_id'].isin(list_of_techniques)  & (df_relationships[\"source_type\"] == 'datacomponent')]"
   ]
  },
  {
   "cell_type": "markdown",
   "id": "5deeb67b",
   "metadata": {},
   "source": [
    "#### Get List of Mitigations Based on List of Techniques"
   ]
  },
  {
   "cell_type": "code",
   "execution_count": null,
   "id": "0cc64e80",
   "metadata": {},
   "outputs": [],
   "source": [
    "df_relationships[df_relationships['target_id'].isin(list_of_techniques) &  (df_relationships[\"source_type\"] == 'mitigation')]"
   ]
  },
  {
   "cell_type": "code",
   "execution_count": null,
   "id": "4664fb6a-16de-4e34-afe7-6a52a2175ef6",
   "metadata": {},
   "outputs": [],
   "source": []
  },
  {
   "cell_type": "markdown",
   "id": "7a812561-a0b1-4338-9d1d-bccfaf6a16fa",
   "metadata": {},
   "source": [
    "### References\n",
    "\n",
    "https://attack.mitre.org/\n",
    "\n",
    "https://attack.mitre.org/docs/enterprise-attack-v10.1/enterprise-attack-v10.1.xlsx"
   ]
  },
  {
   "cell_type": "markdown",
   "id": "df4bdb7a-3a32-443c-822f-bd0d61a31e7e",
   "metadata": {},
   "source": []
  }
 ],
 "metadata": {
  "kernelspec": {
   "display_name": "Python 3 (ipykernel)",
   "language": "python",
   "name": "python3"
  },
  "language_info": {
   "codemirror_mode": {
    "name": "ipython",
    "version": 3
   },
   "file_extension": ".py",
   "mimetype": "text/x-python",
   "name": "python",
   "nbconvert_exporter": "python",
   "pygments_lexer": "ipython3",
   "version": "3.9.7"
  }
 },
 "nbformat": 4,
 "nbformat_minor": 5
}
