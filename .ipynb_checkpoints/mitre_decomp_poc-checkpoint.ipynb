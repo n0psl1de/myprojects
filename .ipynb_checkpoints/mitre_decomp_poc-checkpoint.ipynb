{
 "cells": [
  {
   "cell_type": "markdown",
   "id": "965f420d",
   "metadata": {},
   "source": [
    "### Import Python Libraries"
   ]
  },
  {
   "cell_type": "code",
   "execution_count": 1,
   "id": "067d9329",
   "metadata": {
    "tags": []
   },
   "outputs": [],
   "source": [
    "import pandas as pd\n",
    "import yaml\n",
    "import requests\n",
    "import networkx as nx\n",
    "import janitor as jn\n",
    "import matplotlib.pyplot as plt\n",
    "import seaborn as sns\n",
    "%matplotlib inline \n",
    "import plotly.express as px\n",
    "import plotly.io as pio"
   ]
  },
  {
   "cell_type": "markdown",
   "id": "a5295330",
   "metadata": {},
   "source": [
    "### Configure Global Settings"
   ]
  },
  {
   "cell_type": "code",
   "execution_count": 152,
   "id": "3747e39c",
   "metadata": {
    "tags": []
   },
   "outputs": [],
   "source": [
    "pd.set_option('display.max_rows', None)\n",
    "pd.set_option('display.max_columns', None)\n",
    "pd.set_option('display.width', None)\n",
    "\n",
    "pio.renderers.default = \"browser\""
   ]
  },
  {
   "cell_type": "markdown",
   "id": "c2ea026d",
   "metadata": {},
   "source": [
    "### Download Data Sets"
   ]
  },
  {
   "cell_type": "code",
   "execution_count": 4,
   "id": "d39d67a1",
   "metadata": {
    "tags": []
   },
   "outputs": [],
   "source": [
    "# Download OSSEM DATA\n",
    "url_ossem = 'https://raw.githubusercontent.com/OTRF/OSSEM-DM/main/use-cases/mitre_attack/techniques_to_events_mapping.yaml'\n",
    "yamlContent = requests.get(url_ossem)\n",
    "yamlMapping = yaml.safe_load(yamlContent.text)\n",
    "df = pd.json_normalize(yamlMapping)"
   ]
  },
  {
   "cell_type": "code",
   "execution_count": null,
   "id": "aaadffaf-e5b1-4bec-9ac8-ba37414781ae",
   "metadata": {
    "tags": []
   },
   "outputs": [],
   "source": [
    "# Download D3FEND DATA\n",
    "url_defend = 'https://raw.githubusercontent.com/mitre/d3fend/gh-pages/resources/d3fend-full-mappings.csv'\n",
    "df_defend = pd.read_csv(url_defend)"
   ]
  },
  {
   "cell_type": "code",
   "execution_count": 56,
   "id": "27594e74-f690-40f6-a30a-2ded8e8ece9e",
   "metadata": {
    "tags": []
   },
   "outputs": [],
   "source": [
    "# Download MITRE Enterprise ATT&CK DATA\n",
    "url_attack = 'https://attack.mitre.org/docs/enterprise-attack-v10.1/enterprise-attack-v10.1.xlsx'\n",
    "df_datasources = pd.read_excel(url_attack, sheet_name='datasources')\n",
    "df_tactics = pd.read_excel(url_attack, sheet_name='tactics')\n",
    "df_techniques = pd.read_excel(url_attack, sheet_name='techniques')\n",
    "df_relationships = pd.read_excel(url_attack, sheet_name='relationships')\n",
    "df_mitigations = pd.read_excel(url_attack, sheet_name='mitigations')\n",
    "df_software = pd.read_excel(url_attack, sheet_name='software')\n",
    "df_groups = pd.read_excel(url_attack, sheet_name='groups')"
   ]
  },
  {
   "cell_type": "code",
   "execution_count": 57,
   "id": "e8288185-164c-46ef-9e5f-caf87f05184a",
   "metadata": {
    "tags": []
   },
   "outputs": [],
   "source": [
    "# Clean MITRE Enterprise ATT&CK DATA\n",
    "df_datasources = jn.clean_names(df_datasources)\n",
    "df_tactics = jn.clean_names(df_tactics)\n",
    "df_techniques = jn.clean_names(df_techniques)\n",
    "df_relationships = jn.clean_names(df_relationships)\n",
    "df_mitigations = jn.clean_names(df_mitigations)\n",
    "df_software = jn.clean_names(df_software)\n",
    "df_groups = jn.clean_names(df_groups)"
   ]
  },
  {
   "cell_type": "markdown",
   "id": "4f99b342-4732-4461-a040-12ebd39aac5f",
   "metadata": {},
   "source": [
    "# Data Collection"
   ]
  },
  {
   "cell_type": "markdown",
   "id": "825ea380",
   "metadata": {},
   "source": [
    "### Display OSSEM Data Set"
   ]
  },
  {
   "cell_type": "code",
   "execution_count": 29,
   "id": "c20112bb",
   "metadata": {
    "scrolled": true,
    "tags": []
   },
   "outputs": [
    {
     "data": {
      "text/html": [
       "<div>\n",
       "<style scoped>\n",
       "    .dataframe tbody tr th:only-of-type {\n",
       "        vertical-align: middle;\n",
       "    }\n",
       "\n",
       "    .dataframe tbody tr th {\n",
       "        vertical-align: top;\n",
       "    }\n",
       "\n",
       "    .dataframe thead th {\n",
       "        text-align: right;\n",
       "    }\n",
       "</style>\n",
       "<table border=\"1\" class=\"dataframe\">\n",
       "  <thead>\n",
       "    <tr style=\"text-align: right;\">\n",
       "      <th></th>\n",
       "      <th>technique_id</th>\n",
       "      <th>is_subtechnique</th>\n",
       "      <th>technique</th>\n",
       "      <th>tactic</th>\n",
       "      <th>platform</th>\n",
       "      <th>data_source</th>\n",
       "      <th>data_component</th>\n",
       "      <th>relationship_id</th>\n",
       "      <th>name</th>\n",
       "      <th>source</th>\n",
       "      <th>relationship</th>\n",
       "      <th>target</th>\n",
       "      <th>event_id</th>\n",
       "      <th>event_name</th>\n",
       "      <th>event_platform</th>\n",
       "      <th>audit_category</th>\n",
       "      <th>audit_sub_category</th>\n",
       "      <th>log_channel</th>\n",
       "      <th>log_provider</th>\n",
       "      <th>filter_in</th>\n",
       "      <th>filter_in.ObjectType</th>\n",
       "    </tr>\n",
       "  </thead>\n",
       "  <tbody>\n",
       "    <tr>\n",
       "      <th>0</th>\n",
       "      <td>T1562.010</td>\n",
       "      <td>True</td>\n",
       "      <td>Downgrade Attack</td>\n",
       "      <td>[defense-evasion]</td>\n",
       "      <td>[Windows, Linux, macOS]</td>\n",
       "      <td>process</td>\n",
       "      <td>process creation</td>\n",
       "      <td>REL-2022-0146</td>\n",
       "      <td>User created Process</td>\n",
       "      <td>user</td>\n",
       "      <td>created</td>\n",
       "      <td>process</td>\n",
       "      <td>4688</td>\n",
       "      <td>A new process has been created.</td>\n",
       "      <td>Windows</td>\n",
       "      <td>Detailed Tracking</td>\n",
       "      <td>Process Creation</td>\n",
       "      <td>Security</td>\n",
       "      <td>Microsoft-Windows-Security-Auditing</td>\n",
       "      <td>NaN</td>\n",
       "      <td>NaN</td>\n",
       "    </tr>\n",
       "    <tr>\n",
       "      <th>1</th>\n",
       "      <td>T1562.010</td>\n",
       "      <td>True</td>\n",
       "      <td>Downgrade Attack</td>\n",
       "      <td>[defense-evasion]</td>\n",
       "      <td>[Windows, Linux, macOS]</td>\n",
       "      <td>process</td>\n",
       "      <td>process creation</td>\n",
       "      <td>REL-2022-0146</td>\n",
       "      <td>User created Process</td>\n",
       "      <td>user</td>\n",
       "      <td>created</td>\n",
       "      <td>process</td>\n",
       "      <td>1</td>\n",
       "      <td>Process Creation.</td>\n",
       "      <td>Windows</td>\n",
       "      <td>ProcessCreate</td>\n",
       "      <td>NaN</td>\n",
       "      <td>Microsoft-Windows-Sysmon/Operational</td>\n",
       "      <td>Microsoft-Windows-Sysmon</td>\n",
       "      <td>NaN</td>\n",
       "      <td>NaN</td>\n",
       "    </tr>\n",
       "  </tbody>\n",
       "</table>\n",
       "</div>"
      ],
      "text/plain": [
       "  technique_id  is_subtechnique         technique             tactic  \\\n",
       "0    T1562.010             True  Downgrade Attack  [defense-evasion]   \n",
       "1    T1562.010             True  Downgrade Attack  [defense-evasion]   \n",
       "\n",
       "                  platform data_source    data_component relationship_id  \\\n",
       "0  [Windows, Linux, macOS]     process  process creation   REL-2022-0146   \n",
       "1  [Windows, Linux, macOS]     process  process creation   REL-2022-0146   \n",
       "\n",
       "                   name source relationship   target event_id  \\\n",
       "0  User created Process   user      created  process     4688   \n",
       "1  User created Process   user      created  process        1   \n",
       "\n",
       "                        event_name event_platform     audit_category  \\\n",
       "0  A new process has been created.        Windows  Detailed Tracking   \n",
       "1                Process Creation.        Windows      ProcessCreate   \n",
       "\n",
       "  audit_sub_category                           log_channel  \\\n",
       "0   Process Creation                              Security   \n",
       "1                NaN  Microsoft-Windows-Sysmon/Operational   \n",
       "\n",
       "                          log_provider filter_in filter_in.ObjectType  \n",
       "0  Microsoft-Windows-Security-Auditing       NaN                  NaN  \n",
       "1             Microsoft-Windows-Sysmon       NaN                  NaN  "
      ]
     },
     "execution_count": 29,
     "metadata": {},
     "output_type": "execute_result"
    }
   ],
   "source": [
    "# Get sample \n",
    "df.head(2)"
   ]
  },
  {
   "cell_type": "markdown",
   "id": "21b91c57",
   "metadata": {},
   "source": [
    "### A list of functions we might use later"
   ]
  },
  {
   "cell_type": "code",
   "execution_count": 7,
   "id": "36d6762a",
   "metadata": {
    "tags": []
   },
   "outputs": [],
   "source": [
    "def get_list_of_platforms():\n",
    "    for i in df['event_platform'].sort_values().unique(): print(i)\n",
    "\n",
    "def get_list_of_techniques():\n",
    "    for i in df['technique_id'].sort_values().unique(): print(i)\n",
    "\n",
    "def get_list_of_data_sources():\n",
    "    for i in df['data_sources'].sort_values().unique(): print(i)\n",
    "    \n",
    "def get_list_of_data_components():\n",
    "    for i in df['data_components'].sort_values().unique(): print(i)\n",
    "    \n",
    "def get_list_of_log_providers():\n",
    "    for i in df['log_provider'].sort_values().unique(): print(i)\n",
    "\n",
    "def get_column_unique_values(column_name):\n",
    "    for i in df[column_name].sort_value().unique(): print(i)\n",
    "        \n",
    "def get_dc_to_events_flat_list():\n",
    "    '''Data component to event ID mapping returned as flat data frame'''\n",
    "    flat_list = df.groupby(['data_component','log_provider','event_id','technique_id']).sum().reset_index()\n",
    "    return flat_list\n",
    "\n",
    "def get_groupby_data_component():\n",
    "    _grouped_data = df.groupby(['data_component','log_provider','event_id','event_name']).sum()\n",
    "    return _grouped_data"
   ]
  },
  {
   "cell_type": "markdown",
   "id": "f108cd16",
   "metadata": {},
   "source": [
    "### Organize OSSEM Data for Bar Charts"
   ]
  },
  {
   "cell_type": "code",
   "execution_count": 12,
   "id": "5db8c556",
   "metadata": {
    "tags": []
   },
   "outputs": [],
   "source": [
    "df_ds_dc_list= df[df['is_subtechnique'] == True][['technique_id','data_source','data_component']].drop_duplicates() # get list of unique data sources and data components\n",
    "\n",
    "df_ds_count = df_ds_dc_list['data_source'].value_counts().to_frame().reset_index() # generate a list of unique data sources\n",
    "df_ds_count.rename(columns={\"index\": \"data_source\", \"data_source\": \"count\"},inplace=True) # clean up data source column names\n",
    "\n",
    "df_dc_count = df_ds_dc_list['data_component'].value_counts().to_frame().reset_index() # generate a list of unique data components\n",
    "df_dc_count.rename(columns={\"index\": \"data_component\", \"data_component\": \"count\"},inplace=True) # clean up data component column names"
   ]
  },
  {
   "cell_type": "markdown",
   "id": "b3b16033",
   "metadata": {},
   "source": [
    "### MITRE Data Sources Mapped to Techniques"
   ]
  },
  {
   "attachments": {
    "587cff91-f3bb-4922-b3f5-8007470a6d0d.png": {
     "image/png": "[encoded data removed]"
    }
   },
   "cell_type": "markdown",
   "id": "3b6e3ee3-6aa0-4b3a-a8bb-c5db097ccfb9",
   "metadata": {},
   "source": [
    "![image.png](attachment:587cff91-f3bb-4922-b3f5-8007470a6d0d.png)"
   ]
  },
  {
   "cell_type": "code",
   "execution_count": 13,
   "id": "92f8aff0",
   "metadata": {
    "scrolled": true,
    "tags": []
   },
   "outputs": [],
   "source": [
    "fig = px.bar(df_ds_count, x='data_source', y='count', title=\"MITRE ATT&CK: Count of Techniques by Data Source\",\n",
    "             labels={\n",
    "                     \"data_source\": \"Data Source\",\n",
    "                     \"count\": \"Techniques\",\n",
    "                 })\n",
    "fig.show()"
   ]
  },
  {
   "cell_type": "markdown",
   "id": "d65e6039-649a-436e-908e-941f20443426",
   "metadata": {},
   "source": [
    "### MITRE Data Components Mapped to Techniques"
   ]
  },
  {
   "attachments": {
    "e9dda681-5ac4-4471-85dc-f09ed3b516c2.png": {
     "image/png": "[encoded data removed]"
    }
   },
   "cell_type": "markdown",
   "id": "98ccbbed-632b-4c4d-8a9c-87f405e94665",
   "metadata": {},
   "source": [
    "![image.png](attachment:e9dda681-5ac4-4471-85dc-f09ed3b516c2.png)"
   ]
  },
  {
   "cell_type": "code",
   "execution_count": 17,
   "id": "ea6cca12",
   "metadata": {
    "tags": []
   },
   "outputs": [],
   "source": [
    "fig = px.bar(df_dc_count, x='data_component', y='count', title=\"MITRE ATT&CK: Count of Techniques by Data Component\",\n",
    "             labels={\n",
    "                     \"data_source\": \"Data Component\",\n",
    "                     \"count\": \"Techniques\",\n",
    "                 })\n",
    "fig.show()"
   ]
  },
  {
   "cell_type": "markdown",
   "id": "31b5ac5f",
   "metadata": {},
   "source": [
    "### Get List of Event IDs by Log Provider (Windows & Linux Only)"
   ]
  },
  {
   "cell_type": "code",
   "execution_count": 18,
   "id": "8f3e842e",
   "metadata": {
    "tags": []
   },
   "outputs": [],
   "source": [
    "windows_events = df[((df[\"is_subtechnique\"]== True) & (df[\"event_platform\"] == 'Windows') & (df['log_provider'] != 'Microsoft Defender for Endpoint') & (df['log_provider'] != 'Linux-Sysmon') )]\n",
    "linux_events = df[((df[\"is_subtechnique\"]== True) & (df[\"event_platform\"] == 'Linux'))]"
   ]
  },
  {
   "cell_type": "markdown",
   "id": "227ac505-93ed-4da4-b5fe-12b9c9fee028",
   "metadata": {},
   "source": [
    "### Display Sample Data"
   ]
  },
  {
   "cell_type": "code",
   "execution_count": 20,
   "id": "78d7ca65-e855-42fd-bc86-2896e1cb2b6d",
   "metadata": {
    "tags": []
   },
   "outputs": [
    {
     "data": {
      "text/html": [
       "<div>\n",
       "<style scoped>\n",
       "    .dataframe tbody tr th:only-of-type {\n",
       "        vertical-align: middle;\n",
       "    }\n",
       "\n",
       "    .dataframe tbody tr th {\n",
       "        vertical-align: top;\n",
       "    }\n",
       "\n",
       "    .dataframe thead th {\n",
       "        text-align: right;\n",
       "    }\n",
       "</style>\n",
       "<table border=\"1\" class=\"dataframe\">\n",
       "  <thead>\n",
       "    <tr style=\"text-align: right;\">\n",
       "      <th></th>\n",
       "      <th>technique_id</th>\n",
       "      <th>is_subtechnique</th>\n",
       "      <th>technique</th>\n",
       "      <th>tactic</th>\n",
       "      <th>platform</th>\n",
       "      <th>data_source</th>\n",
       "      <th>data_component</th>\n",
       "      <th>relationship_id</th>\n",
       "      <th>name</th>\n",
       "      <th>source</th>\n",
       "      <th>relationship</th>\n",
       "      <th>target</th>\n",
       "      <th>event_id</th>\n",
       "      <th>event_name</th>\n",
       "      <th>event_platform</th>\n",
       "      <th>audit_category</th>\n",
       "      <th>audit_sub_category</th>\n",
       "      <th>log_channel</th>\n",
       "      <th>log_provider</th>\n",
       "      <th>filter_in</th>\n",
       "      <th>filter_in.ObjectType</th>\n",
       "    </tr>\n",
       "  </thead>\n",
       "  <tbody>\n",
       "    <tr>\n",
       "      <th>0</th>\n",
       "      <td>T1562.010</td>\n",
       "      <td>True</td>\n",
       "      <td>Downgrade Attack</td>\n",
       "      <td>[defense-evasion]</td>\n",
       "      <td>[Windows, Linux, macOS]</td>\n",
       "      <td>process</td>\n",
       "      <td>process creation</td>\n",
       "      <td>REL-2022-0146</td>\n",
       "      <td>User created Process</td>\n",
       "      <td>user</td>\n",
       "      <td>created</td>\n",
       "      <td>process</td>\n",
       "      <td>4688</td>\n",
       "      <td>A new process has been created.</td>\n",
       "      <td>Windows</td>\n",
       "      <td>Detailed Tracking</td>\n",
       "      <td>Process Creation</td>\n",
       "      <td>Security</td>\n",
       "      <td>Microsoft-Windows-Security-Auditing</td>\n",
       "      <td>NaN</td>\n",
       "      <td>NaN</td>\n",
       "    </tr>\n",
       "    <tr>\n",
       "      <th>1</th>\n",
       "      <td>T1562.010</td>\n",
       "      <td>True</td>\n",
       "      <td>Downgrade Attack</td>\n",
       "      <td>[defense-evasion]</td>\n",
       "      <td>[Windows, Linux, macOS]</td>\n",
       "      <td>process</td>\n",
       "      <td>process creation</td>\n",
       "      <td>REL-2022-0146</td>\n",
       "      <td>User created Process</td>\n",
       "      <td>user</td>\n",
       "      <td>created</td>\n",
       "      <td>process</td>\n",
       "      <td>1</td>\n",
       "      <td>Process Creation.</td>\n",
       "      <td>Windows</td>\n",
       "      <td>ProcessCreate</td>\n",
       "      <td>NaN</td>\n",
       "      <td>Microsoft-Windows-Sysmon/Operational</td>\n",
       "      <td>Microsoft-Windows-Sysmon</td>\n",
       "      <td>NaN</td>\n",
       "      <td>NaN</td>\n",
       "    </tr>\n",
       "  </tbody>\n",
       "</table>\n",
       "</div>"
      ],
      "text/plain": [
       "  technique_id  is_subtechnique         technique             tactic  \\\n",
       "0    T1562.010             True  Downgrade Attack  [defense-evasion]   \n",
       "1    T1562.010             True  Downgrade Attack  [defense-evasion]   \n",
       "\n",
       "                  platform data_source    data_component relationship_id  \\\n",
       "0  [Windows, Linux, macOS]     process  process creation   REL-2022-0146   \n",
       "1  [Windows, Linux, macOS]     process  process creation   REL-2022-0146   \n",
       "\n",
       "                   name source relationship   target event_id  \\\n",
       "0  User created Process   user      created  process     4688   \n",
       "1  User created Process   user      created  process        1   \n",
       "\n",
       "                        event_name event_platform     audit_category  \\\n",
       "0  A new process has been created.        Windows  Detailed Tracking   \n",
       "1                Process Creation.        Windows      ProcessCreate   \n",
       "\n",
       "  audit_sub_category                           log_channel  \\\n",
       "0   Process Creation                              Security   \n",
       "1                NaN  Microsoft-Windows-Sysmon/Operational   \n",
       "\n",
       "                          log_provider filter_in filter_in.ObjectType  \n",
       "0  Microsoft-Windows-Security-Auditing       NaN                  NaN  \n",
       "1             Microsoft-Windows-Sysmon       NaN                  NaN  "
      ]
     },
     "execution_count": 20,
     "metadata": {},
     "output_type": "execute_result"
    }
   ],
   "source": [
    "windows_events.head(2)"
   ]
  },
  {
   "cell_type": "code",
   "execution_count": 21,
   "id": "d60c1478-22c3-497a-965c-69e011eb3399",
   "metadata": {
    "tags": []
   },
   "outputs": [
    {
     "data": {
      "text/html": [
       "<div>\n",
       "<style scoped>\n",
       "    .dataframe tbody tr th:only-of-type {\n",
       "        vertical-align: middle;\n",
       "    }\n",
       "\n",
       "    .dataframe tbody tr th {\n",
       "        vertical-align: top;\n",
       "    }\n",
       "\n",
       "    .dataframe thead th {\n",
       "        text-align: right;\n",
       "    }\n",
       "</style>\n",
       "<table border=\"1\" class=\"dataframe\">\n",
       "  <thead>\n",
       "    <tr style=\"text-align: right;\">\n",
       "      <th></th>\n",
       "      <th>technique_id</th>\n",
       "      <th>is_subtechnique</th>\n",
       "      <th>technique</th>\n",
       "      <th>tactic</th>\n",
       "      <th>platform</th>\n",
       "      <th>data_source</th>\n",
       "      <th>data_component</th>\n",
       "      <th>relationship_id</th>\n",
       "      <th>name</th>\n",
       "      <th>source</th>\n",
       "      <th>relationship</th>\n",
       "      <th>target</th>\n",
       "      <th>event_id</th>\n",
       "      <th>event_name</th>\n",
       "      <th>event_platform</th>\n",
       "      <th>audit_category</th>\n",
       "      <th>audit_sub_category</th>\n",
       "      <th>log_channel</th>\n",
       "      <th>log_provider</th>\n",
       "      <th>filter_in</th>\n",
       "      <th>filter_in.ObjectType</th>\n",
       "    </tr>\n",
       "  </thead>\n",
       "  <tbody>\n",
       "    <tr>\n",
       "      <th>8</th>\n",
       "      <td>T1562.010</td>\n",
       "      <td>True</td>\n",
       "      <td>Downgrade Attack</td>\n",
       "      <td>[defense-evasion]</td>\n",
       "      <td>[Windows, Linux, macOS]</td>\n",
       "      <td>process</td>\n",
       "      <td>process creation</td>\n",
       "      <td>REL-2022-0175</td>\n",
       "      <td>Process created Process</td>\n",
       "      <td>process</td>\n",
       "      <td>created</td>\n",
       "      <td>process</td>\n",
       "      <td>1</td>\n",
       "      <td>Process Creation.</td>\n",
       "      <td>Linux</td>\n",
       "      <td>ProcessCreate</td>\n",
       "      <td>NaN</td>\n",
       "      <td>Linux-Sysmon/Operational</td>\n",
       "      <td>Linux-Sysmon</td>\n",
       "      <td>NaN</td>\n",
       "      <td>NaN</td>\n",
       "    </tr>\n",
       "    <tr>\n",
       "      <th>16</th>\n",
       "      <td>T1562.010</td>\n",
       "      <td>True</td>\n",
       "      <td>Downgrade Attack</td>\n",
       "      <td>[defense-evasion]</td>\n",
       "      <td>[Windows, Linux, macOS]</td>\n",
       "      <td>command</td>\n",
       "      <td>command execution</td>\n",
       "      <td>REL-2022-0131</td>\n",
       "      <td>Process executed Command</td>\n",
       "      <td>process</td>\n",
       "      <td>executed</td>\n",
       "      <td>command</td>\n",
       "      <td>1</td>\n",
       "      <td>Process Creation.</td>\n",
       "      <td>Linux</td>\n",
       "      <td>ProcessCreate</td>\n",
       "      <td>NaN</td>\n",
       "      <td>Linux-Sysmon/Operational</td>\n",
       "      <td>Linux-Sysmon</td>\n",
       "      <td>NaN</td>\n",
       "      <td>NaN</td>\n",
       "    </tr>\n",
       "  </tbody>\n",
       "</table>\n",
       "</div>"
      ],
      "text/plain": [
       "   technique_id  is_subtechnique         technique             tactic  \\\n",
       "8     T1562.010             True  Downgrade Attack  [defense-evasion]   \n",
       "16    T1562.010             True  Downgrade Attack  [defense-evasion]   \n",
       "\n",
       "                   platform data_source     data_component relationship_id  \\\n",
       "8   [Windows, Linux, macOS]     process   process creation   REL-2022-0175   \n",
       "16  [Windows, Linux, macOS]     command  command execution   REL-2022-0131   \n",
       "\n",
       "                        name   source relationship   target event_id  \\\n",
       "8    Process created Process  process      created  process        1   \n",
       "16  Process executed Command  process     executed  command        1   \n",
       "\n",
       "           event_name event_platform audit_category audit_sub_category  \\\n",
       "8   Process Creation.          Linux  ProcessCreate                NaN   \n",
       "16  Process Creation.          Linux  ProcessCreate                NaN   \n",
       "\n",
       "                 log_channel  log_provider filter_in filter_in.ObjectType  \n",
       "8   Linux-Sysmon/Operational  Linux-Sysmon       NaN                  NaN  \n",
       "16  Linux-Sysmon/Operational  Linux-Sysmon       NaN                  NaN  "
      ]
     },
     "execution_count": 21,
     "metadata": {},
     "output_type": "execute_result"
    }
   ],
   "source": [
    "linux_events.head(2)"
   ]
  },
  {
   "cell_type": "markdown",
   "id": "b086f519",
   "metadata": {},
   "source": [
    "### Group Windows Event IDs by Log Provider/Channel"
   ]
  },
  {
   "cell_type": "code",
   "execution_count": 26,
   "id": "5e1c3f82",
   "metadata": {},
   "outputs": [
    {
     "data": {
      "text/html": [
       "<div>\n",
       "<style scoped>\n",
       "    .dataframe tbody tr th:only-of-type {\n",
       "        vertical-align: middle;\n",
       "    }\n",
       "\n",
       "    .dataframe tbody tr th {\n",
       "        vertical-align: top;\n",
       "    }\n",
       "\n",
       "    .dataframe thead th {\n",
       "        text-align: right;\n",
       "    }\n",
       "</style>\n",
       "<table border=\"1\" class=\"dataframe\">\n",
       "  <thead>\n",
       "    <tr style=\"text-align: right;\">\n",
       "      <th></th>\n",
       "      <th></th>\n",
       "      <th></th>\n",
       "      <th></th>\n",
       "      <th>is_subtechnique</th>\n",
       "    </tr>\n",
       "    <tr>\n",
       "      <th>log_provider</th>\n",
       "      <th>log_channel</th>\n",
       "      <th>event_id</th>\n",
       "      <th>event_name</th>\n",
       "      <th></th>\n",
       "    </tr>\n",
       "  </thead>\n",
       "  <tbody>\n",
       "    <tr>\n",
       "      <th rowspan=\"6\" valign=\"top\">Eventlog</th>\n",
       "      <th rowspan=\"4\" valign=\"top\">Security</th>\n",
       "      <th>1100</th>\n",
       "      <th>The event logging service has shut down.</th>\n",
       "      <td>10</td>\n",
       "    </tr>\n",
       "    <tr>\n",
       "      <th>1101</th>\n",
       "      <th>Audit events have been dropped by the transport.</th>\n",
       "      <td>10</td>\n",
       "    </tr>\n",
       "    <tr>\n",
       "      <th>1102</th>\n",
       "      <th>The audit log was cleared.</th>\n",
       "      <td>10</td>\n",
       "    </tr>\n",
       "    <tr>\n",
       "      <th>1104</th>\n",
       "      <th>The security Log is now full.</th>\n",
       "      <td>10</td>\n",
       "    </tr>\n",
       "    <tr>\n",
       "      <th rowspan=\"2\" valign=\"top\">System</th>\n",
       "      <th>6005</th>\n",
       "      <th>The Event log service was started.</th>\n",
       "      <td>16</td>\n",
       "    </tr>\n",
       "    <tr>\n",
       "      <th>6006</th>\n",
       "      <th>The Event log service was stopped.</th>\n",
       "      <td>16</td>\n",
       "    </tr>\n",
       "    <tr>\n",
       "      <th rowspan=\"2\" valign=\"top\">Microsoft-Windows-PowerShell</th>\n",
       "      <th rowspan=\"2\" valign=\"top\">Microsoft-Windows-PowerShell/Operational</th>\n",
       "      <th>4103</th>\n",
       "      <th>Module logging.</th>\n",
       "      <td>262</td>\n",
       "    </tr>\n",
       "    <tr>\n",
       "      <th>4104</th>\n",
       "      <th>Script Block Logging.</th>\n",
       "      <td>12</td>\n",
       "    </tr>\n",
       "    <tr>\n",
       "      <th rowspan=\"12\" valign=\"top\">Microsoft-Windows-Security-Auditing</th>\n",
       "      <th rowspan=\"12\" valign=\"top\">Security</th>\n",
       "      <th>4610</th>\n",
       "      <th>An authentication package has been loaded by the Local Security Authority.</th>\n",
       "      <td>4</td>\n",
       "    </tr>\n",
       "    <tr>\n",
       "      <th>4611</th>\n",
       "      <th>A trusted logon process has been registered with the Local Security Authority.</th>\n",
       "      <td>8</td>\n",
       "    </tr>\n",
       "    <tr>\n",
       "      <th>4614</th>\n",
       "      <th>A notification package has been loaded by the Security Account Manager.</th>\n",
       "      <td>4</td>\n",
       "    </tr>\n",
       "    <tr>\n",
       "      <th>4616</th>\n",
       "      <th>The system time was changed.</th>\n",
       "      <td>10</td>\n",
       "    </tr>\n",
       "    <tr>\n",
       "      <th>4622</th>\n",
       "      <th>A security package has been loaded by the Local Security Authority.</th>\n",
       "      <td>4</td>\n",
       "    </tr>\n",
       "    <tr>\n",
       "      <th>4624</th>\n",
       "      <th>An account was successfully logged on.</th>\n",
       "      <td>65</td>\n",
       "    </tr>\n",
       "    <tr>\n",
       "      <th>4625</th>\n",
       "      <th>An account failed to log on.</th>\n",
       "      <td>20</td>\n",
       "    </tr>\n",
       "    <tr>\n",
       "      <th>4648</th>\n",
       "      <th>A logon was attempted using explicit credentials.</th>\n",
       "      <td>20</td>\n",
       "    </tr>\n",
       "    <tr>\n",
       "      <th>4656</th>\n",
       "      <th>A handle to an object was requested.</th>\n",
       "      <td>56</td>\n",
       "    </tr>\n",
       "    <tr>\n",
       "      <th>4657</th>\n",
       "      <th>A registry value was modified.</th>\n",
       "      <td>100</td>\n",
       "    </tr>\n",
       "    <tr>\n",
       "      <th>4660</th>\n",
       "      <th>An object was deleted.</th>\n",
       "      <td>10</td>\n",
       "    </tr>\n",
       "    <tr>\n",
       "      <th>4661</th>\n",
       "      <th>A handle to an object was requested.</th>\n",
       "      <td>20</td>\n",
       "    </tr>\n",
       "  </tbody>\n",
       "</table>\n",
       "</div>"
      ],
      "text/plain": [
       "                                                                                                                                          is_subtechnique\n",
       "log_provider                        log_channel                              event_id event_name                                                         \n",
       "Eventlog                            Security                                 1100     The event logging service has shut down.                         10\n",
       "                                                                             1101     Audit events have been dropped by the transport.                 10\n",
       "                                                                             1102     The audit log was cleared.                                       10\n",
       "                                                                             1104     The security Log is now full.                                    10\n",
       "                                    System                                   6005     The Event log service was started.                               16\n",
       "                                                                             6006     The Event log service was stopped.                               16\n",
       "Microsoft-Windows-PowerShell        Microsoft-Windows-PowerShell/Operational 4103     Module logging.                                                 262\n",
       "                                                                             4104     Script Block Logging.                                            12\n",
       "Microsoft-Windows-Security-Auditing Security                                 4610     An authentication package has been loaded by th...                4\n",
       "                                                                             4611     A trusted logon process has been registered wit...                8\n",
       "                                                                             4614     A notification package has been loaded by the S...                4\n",
       "                                                                             4616     The system time was changed.                                     10\n",
       "                                                                             4622     A security package has been loaded by the Local...                4\n",
       "                                                                             4624     An account was successfully logged on.                           65\n",
       "                                                                             4625     An account failed to log on.                                     20\n",
       "                                                                             4648     A logon was attempted using explicit credentials.                20\n",
       "                                                                             4656     A handle to an object was requested.                             56\n",
       "                                                                             4657     A registry value was modified.                                  100\n",
       "                                                                             4660     An object was deleted.                                           10\n",
       "                                                                             4661     A handle to an object was requested.                             20"
      ]
     },
     "execution_count": 26,
     "metadata": {},
     "output_type": "execute_result"
    }
   ],
   "source": [
    "windows_events.groupby(['log_provider','log_channel','event_id','event_name']).sum().head(20)"
   ]
  },
  {
   "cell_type": "markdown",
   "id": "a9ac4640",
   "metadata": {},
   "source": [
    "### Group Linux Event IDs by Log Provider/Channel"
   ]
  },
  {
   "cell_type": "code",
   "execution_count": 27,
   "id": "81535568",
   "metadata": {},
   "outputs": [
    {
     "data": {
      "text/html": [
       "<div>\n",
       "<style scoped>\n",
       "    .dataframe tbody tr th:only-of-type {\n",
       "        vertical-align: middle;\n",
       "    }\n",
       "\n",
       "    .dataframe tbody tr th {\n",
       "        vertical-align: top;\n",
       "    }\n",
       "\n",
       "    .dataframe thead th {\n",
       "        text-align: right;\n",
       "    }\n",
       "</style>\n",
       "<table border=\"1\" class=\"dataframe\">\n",
       "  <thead>\n",
       "    <tr style=\"text-align: right;\">\n",
       "      <th></th>\n",
       "      <th></th>\n",
       "      <th></th>\n",
       "      <th></th>\n",
       "      <th>is_subtechnique</th>\n",
       "    </tr>\n",
       "    <tr>\n",
       "      <th>log_provider</th>\n",
       "      <th>log_channel</th>\n",
       "      <th>event_id</th>\n",
       "      <th>event_name</th>\n",
       "      <th></th>\n",
       "    </tr>\n",
       "  </thead>\n",
       "  <tbody>\n",
       "    <tr>\n",
       "      <th rowspan=\"5\" valign=\"top\">Linux-Sysmon</th>\n",
       "      <th rowspan=\"5\" valign=\"top\">Linux-Sysmon/Operational</th>\n",
       "      <th>1</th>\n",
       "      <th>Process Creation.</th>\n",
       "      <td>112</td>\n",
       "    </tr>\n",
       "    <tr>\n",
       "      <th>3</th>\n",
       "      <th>Network connection.</th>\n",
       "      <td>180</td>\n",
       "    </tr>\n",
       "    <tr>\n",
       "      <th>5</th>\n",
       "      <th>Process terminated.</th>\n",
       "      <td>1</td>\n",
       "    </tr>\n",
       "    <tr>\n",
       "      <th>11</th>\n",
       "      <th>FileCreate.</th>\n",
       "      <td>50</td>\n",
       "    </tr>\n",
       "    <tr>\n",
       "      <th>23</th>\n",
       "      <th>File Delete archived.</th>\n",
       "      <td>10</td>\n",
       "    </tr>\n",
       "  </tbody>\n",
       "</table>\n",
       "</div>"
      ],
      "text/plain": [
       "                                                                      is_subtechnique\n",
       "log_provider log_channel              event_id event_name                            \n",
       "Linux-Sysmon Linux-Sysmon/Operational 1        Process Creation.                  112\n",
       "                                      3        Network connection.                180\n",
       "                                      5        Process terminated.                  1\n",
       "                                      11       FileCreate.                         50\n",
       "                                      23       File Delete archived.               10"
      ]
     },
     "execution_count": 27,
     "metadata": {},
     "output_type": "execute_result"
    }
   ],
   "source": [
    "linux_events.groupby(['log_provider','log_channel','event_id','event_name']).sum()"
   ]
  },
  {
   "cell_type": "markdown",
   "id": "fc153436",
   "metadata": {},
   "source": [
    "# DECOMP POC"
   ]
  },
  {
   "cell_type": "markdown",
   "id": "7f119dbf",
   "metadata": {},
   "source": [
    "### Get Data Sources Based on List of Techniques"
   ]
  },
  {
   "cell_type": "code",
   "execution_count": 73,
   "id": "cdf85b8a",
   "metadata": {},
   "outputs": [],
   "source": [
    "list_of_techniques = ['T1562.010', 'T1620', 'T1218.014', 'T1614.001', 'T1218.013']"
   ]
  },
  {
   "cell_type": "code",
   "execution_count": 74,
   "id": "4149014b",
   "metadata": {
    "tags": []
   },
   "outputs": [
    {
     "data": {
      "text/html": [
       "<div>\n",
       "<style scoped>\n",
       "    .dataframe tbody tr th:only-of-type {\n",
       "        vertical-align: middle;\n",
       "    }\n",
       "\n",
       "    .dataframe tbody tr th {\n",
       "        vertical-align: top;\n",
       "    }\n",
       "\n",
       "    .dataframe thead th {\n",
       "        text-align: right;\n",
       "    }\n",
       "</style>\n",
       "<table border=\"1\" class=\"dataframe\">\n",
       "  <thead>\n",
       "    <tr style=\"text-align: right;\">\n",
       "      <th></th>\n",
       "      <th></th>\n",
       "      <th></th>\n",
       "      <th></th>\n",
       "      <th></th>\n",
       "      <th></th>\n",
       "      <th>is_subtechnique</th>\n",
       "    </tr>\n",
       "    <tr>\n",
       "      <th>technique_id</th>\n",
       "      <th>event_platform</th>\n",
       "      <th>log_provider</th>\n",
       "      <th>event_id</th>\n",
       "      <th>event_name</th>\n",
       "      <th>log_channel</th>\n",
       "      <th></th>\n",
       "    </tr>\n",
       "  </thead>\n",
       "  <tbody>\n",
       "    <tr>\n",
       "      <th rowspan=\"7\" valign=\"top\">T1218.013</th>\n",
       "      <th rowspan=\"7\" valign=\"top\">Windows</th>\n",
       "      <th>Linux-Sysmon</th>\n",
       "      <th>1</th>\n",
       "      <th>Process Creation.</th>\n",
       "      <th>Linux-Sysmon/Operational</th>\n",
       "      <td>1</td>\n",
       "    </tr>\n",
       "    <tr>\n",
       "      <th rowspan=\"2\" valign=\"top\">Microsoft Defender for Endpoint</th>\n",
       "      <th>CreateRemoteThreadApiCall</th>\n",
       "      <th>CreateRemoteThreadApiCall</th>\n",
       "      <th>DeviceEvents</th>\n",
       "      <td>1</td>\n",
       "    </tr>\n",
       "    <tr>\n",
       "      <th>ProcessCreated</th>\n",
       "      <th>ProcessCreated</th>\n",
       "      <th>DeviceProcessEvents</th>\n",
       "      <td>4</td>\n",
       "    </tr>\n",
       "    <tr>\n",
       "      <th>Microsoft-Windows-PowerShell</th>\n",
       "      <th>4103</th>\n",
       "      <th>Module logging.</th>\n",
       "      <th>Microsoft-Windows-PowerShell/Operational</th>\n",
       "      <td>2</td>\n",
       "    </tr>\n",
       "    <tr>\n",
       "      <th>Microsoft-Windows-Security-Auditing</th>\n",
       "      <th>4688</th>\n",
       "      <th>A new process has been created.</th>\n",
       "      <th>Security</th>\n",
       "      <td>4</td>\n",
       "    </tr>\n",
       "    <tr>\n",
       "      <th rowspan=\"2\" valign=\"top\">Microsoft-Windows-Sysmon</th>\n",
       "      <th>1</th>\n",
       "      <th>Process Creation.</th>\n",
       "      <th>Microsoft-Windows-Sysmon/Operational</th>\n",
       "      <td>4</td>\n",
       "    </tr>\n",
       "    <tr>\n",
       "      <th>8</th>\n",
       "      <th>CreateRemoteThread.</th>\n",
       "      <th>Microsoft-Windows-Sysmon/Operational</th>\n",
       "      <td>1</td>\n",
       "    </tr>\n",
       "    <tr>\n",
       "      <th rowspan=\"10\" valign=\"top\">T1218.014</th>\n",
       "      <th rowspan=\"10\" valign=\"top\">Windows</th>\n",
       "      <th>Linux-Sysmon</th>\n",
       "      <th>1</th>\n",
       "      <th>Process Creation.</th>\n",
       "      <th>Linux-Sysmon/Operational</th>\n",
       "      <td>1</td>\n",
       "    </tr>\n",
       "    <tr>\n",
       "      <th rowspan=\"3\" valign=\"top\">Microsoft Defender for Endpoint</th>\n",
       "      <th>CreateRemoteThreadApiCall</th>\n",
       "      <th>CreateRemoteThreadApiCall</th>\n",
       "      <th>DeviceEvents</th>\n",
       "      <td>1</td>\n",
       "    </tr>\n",
       "    <tr>\n",
       "      <th>FileCreated</th>\n",
       "      <th>FileCreated</th>\n",
       "      <th>DeviceFileEvents</th>\n",
       "      <td>2</td>\n",
       "    </tr>\n",
       "    <tr>\n",
       "      <th>ProcessCreated</th>\n",
       "      <th>ProcessCreated</th>\n",
       "      <th>DeviceProcessEvents</th>\n",
       "      <td>4</td>\n",
       "    </tr>\n",
       "    <tr>\n",
       "      <th>Microsoft-Windows-PowerShell</th>\n",
       "      <th>4103</th>\n",
       "      <th>Module logging.</th>\n",
       "      <th>Microsoft-Windows-PowerShell/Operational</th>\n",
       "      <td>2</td>\n",
       "    </tr>\n",
       "    <tr>\n",
       "      <th rowspan=\"2\" valign=\"top\">Microsoft-Windows-Security-Auditing</th>\n",
       "      <th>4663</th>\n",
       "      <th>An attempt was made to access an object.</th>\n",
       "      <th>Security</th>\n",
       "      <td>2</td>\n",
       "    </tr>\n",
       "    <tr>\n",
       "      <th>4688</th>\n",
       "      <th>A new process has been created.</th>\n",
       "      <th>Security</th>\n",
       "      <td>4</td>\n",
       "    </tr>\n",
       "    <tr>\n",
       "      <th rowspan=\"3\" valign=\"top\">Microsoft-Windows-Sysmon</th>\n",
       "      <th>1</th>\n",
       "      <th>Process Creation.</th>\n",
       "      <th>Microsoft-Windows-Sysmon/Operational</th>\n",
       "      <td>4</td>\n",
       "    </tr>\n",
       "    <tr>\n",
       "      <th>8</th>\n",
       "      <th>CreateRemoteThread.</th>\n",
       "      <th>Microsoft-Windows-Sysmon/Operational</th>\n",
       "      <td>1</td>\n",
       "    </tr>\n",
       "    <tr>\n",
       "      <th>11</th>\n",
       "      <th>FileCreate.</th>\n",
       "      <th>Microsoft-Windows-Sysmon/Operational</th>\n",
       "      <td>1</td>\n",
       "    </tr>\n",
       "    <tr>\n",
       "      <th rowspan=\"3\" valign=\"top\">T1562.010</th>\n",
       "      <th>Linux</th>\n",
       "      <th>Linux-Sysmon</th>\n",
       "      <th>1</th>\n",
       "      <th>Process Creation.</th>\n",
       "      <th>Linux-Sysmon/Operational</th>\n",
       "      <td>2</td>\n",
       "    </tr>\n",
       "    <tr>\n",
       "      <th rowspan=\"2\" valign=\"top\">Windows</th>\n",
       "      <th>Linux-Sysmon</th>\n",
       "      <th>1</th>\n",
       "      <th>Process Creation.</th>\n",
       "      <th>Linux-Sysmon/Operational</th>\n",
       "      <td>1</td>\n",
       "    </tr>\n",
       "    <tr>\n",
       "      <th>Microsoft Defender for Endpoint</th>\n",
       "      <th>CreateRemoteThreadApiCall</th>\n",
       "      <th>CreateRemoteThreadApiCall</th>\n",
       "      <th>DeviceEvents</th>\n",
       "      <td>1</td>\n",
       "    </tr>\n",
       "  </tbody>\n",
       "</table>\n",
       "</div>"
      ],
      "text/plain": [
       "                                                                                                                                                                             is_subtechnique\n",
       "technique_id event_platform log_provider                        event_id                  event_name                               log_channel                                              \n",
       "T1218.013    Windows        Linux-Sysmon                        1                         Process Creation.                        Linux-Sysmon/Operational                                1\n",
       "                            Microsoft Defender for Endpoint     CreateRemoteThreadApiCall CreateRemoteThreadApiCall                DeviceEvents                                            1\n",
       "                                                                ProcessCreated            ProcessCreated                           DeviceProcessEvents                                     4\n",
       "                            Microsoft-Windows-PowerShell        4103                      Module logging.                          Microsoft-Windows-PowerShell/Operational                2\n",
       "                            Microsoft-Windows-Security-Auditing 4688                      A new process has been created.          Security                                                4\n",
       "                            Microsoft-Windows-Sysmon            1                         Process Creation.                        Microsoft-Windows-Sysmon/Operational                    4\n",
       "                                                                8                         CreateRemoteThread.                      Microsoft-Windows-Sysmon/Operational                    1\n",
       "T1218.014    Windows        Linux-Sysmon                        1                         Process Creation.                        Linux-Sysmon/Operational                                1\n",
       "                            Microsoft Defender for Endpoint     CreateRemoteThreadApiCall CreateRemoteThreadApiCall                DeviceEvents                                            1\n",
       "                                                                FileCreated               FileCreated                              DeviceFileEvents                                        2\n",
       "                                                                ProcessCreated            ProcessCreated                           DeviceProcessEvents                                     4\n",
       "                            Microsoft-Windows-PowerShell        4103                      Module logging.                          Microsoft-Windows-PowerShell/Operational                2\n",
       "                            Microsoft-Windows-Security-Auditing 4663                      An attempt was made to access an object. Security                                                2\n",
       "                                                                4688                      A new process has been created.          Security                                                4\n",
       "                            Microsoft-Windows-Sysmon            1                         Process Creation.                        Microsoft-Windows-Sysmon/Operational                    4\n",
       "                                                                8                         CreateRemoteThread.                      Microsoft-Windows-Sysmon/Operational                    1\n",
       "                                                                11                        FileCreate.                              Microsoft-Windows-Sysmon/Operational                    1\n",
       "T1562.010    Linux          Linux-Sysmon                        1                         Process Creation.                        Linux-Sysmon/Operational                                2\n",
       "             Windows        Linux-Sysmon                        1                         Process Creation.                        Linux-Sysmon/Operational                                1\n",
       "                            Microsoft Defender for Endpoint     CreateRemoteThreadApiCall CreateRemoteThreadApiCall                DeviceEvents                                            1"
      ]
     },
     "execution_count": 74,
     "metadata": {},
     "output_type": "execute_result"
    }
   ],
   "source": [
    "df[df['technique_id'].isin(list_of_techniques)].groupby(['technique_id','event_platform','log_provider', 'event_id','event_name','log_channel']).sum().head(20)"
   ]
  },
  {
   "cell_type": "markdown",
   "id": "5deeb67b",
   "metadata": {},
   "source": [
    "### Get Mitigations based on List of Techniques"
   ]
  },
  {
   "cell_type": "code",
   "execution_count": 64,
   "id": "0cc64e80",
   "metadata": {},
   "outputs": [
    {
     "data": {
      "text/html": [
       "<div>\n",
       "<style scoped>\n",
       "    .dataframe tbody tr th:only-of-type {\n",
       "        vertical-align: middle;\n",
       "    }\n",
       "\n",
       "    .dataframe tbody tr th {\n",
       "        vertical-align: top;\n",
       "    }\n",
       "\n",
       "    .dataframe thead th {\n",
       "        text-align: right;\n",
       "    }\n",
       "</style>\n",
       "<table border=\"1\" class=\"dataframe\">\n",
       "  <thead>\n",
       "    <tr style=\"text-align: right;\">\n",
       "      <th></th>\n",
       "      <th>source_id</th>\n",
       "      <th>source_name</th>\n",
       "      <th>source_type</th>\n",
       "      <th>mapping_type</th>\n",
       "      <th>target_id</th>\n",
       "      <th>target_name</th>\n",
       "      <th>target_type</th>\n",
       "      <th>mapping_description</th>\n",
       "    </tr>\n",
       "  </thead>\n",
       "  <tbody>\n",
       "    <tr>\n",
       "      <th>1893</th>\n",
       "      <td>M1042</td>\n",
       "      <td>Disable or Remove Feature or Program</td>\n",
       "      <td>mitigation</td>\n",
       "      <td>mitigates</td>\n",
       "      <td>T1562.010</td>\n",
       "      <td>Downgrade Attack</td>\n",
       "      <td>technique</td>\n",
       "      <td>Consider removing previous versions of tools t...</td>\n",
       "    </tr>\n",
       "    <tr>\n",
       "      <th>1906</th>\n",
       "      <td>M1042</td>\n",
       "      <td>Disable or Remove Feature or Program</td>\n",
       "      <td>mitigation</td>\n",
       "      <td>mitigates</td>\n",
       "      <td>T1218.014</td>\n",
       "      <td>MMC</td>\n",
       "      <td>technique</td>\n",
       "      <td>MMC may not be necessary within a given enviro...</td>\n",
       "    </tr>\n",
       "    <tr>\n",
       "      <th>1908</th>\n",
       "      <td>M1042</td>\n",
       "      <td>Disable or Remove Feature or Program</td>\n",
       "      <td>mitigation</td>\n",
       "      <td>mitigates</td>\n",
       "      <td>T1218.013</td>\n",
       "      <td>Mavinject</td>\n",
       "      <td>technique</td>\n",
       "      <td>Consider removing mavinject.exe if Microsoft A...</td>\n",
       "    </tr>\n",
       "    <tr>\n",
       "      <th>1996</th>\n",
       "      <td>M1038</td>\n",
       "      <td>Execution Prevention</td>\n",
       "      <td>mitigation</td>\n",
       "      <td>mitigates</td>\n",
       "      <td>T1218.014</td>\n",
       "      <td>MMC</td>\n",
       "      <td>technique</td>\n",
       "      <td>Use application control configured to block ex...</td>\n",
       "    </tr>\n",
       "    <tr>\n",
       "      <th>2002</th>\n",
       "      <td>M1038</td>\n",
       "      <td>Execution Prevention</td>\n",
       "      <td>mitigation</td>\n",
       "      <td>mitigates</td>\n",
       "      <td>T1218.013</td>\n",
       "      <td>Mavinject</td>\n",
       "      <td>technique</td>\n",
       "      <td>Use application control configured to block ex...</td>\n",
       "    </tr>\n",
       "  </tbody>\n",
       "</table>\n",
       "</div>"
      ],
      "text/plain": [
       "     source_id                           source_name source_type mapping_type  \\\n",
       "1893     M1042  Disable or Remove Feature or Program  mitigation    mitigates   \n",
       "1906     M1042  Disable or Remove Feature or Program  mitigation    mitigates   \n",
       "1908     M1042  Disable or Remove Feature or Program  mitigation    mitigates   \n",
       "1996     M1038                  Execution Prevention  mitigation    mitigates   \n",
       "2002     M1038                  Execution Prevention  mitigation    mitigates   \n",
       "\n",
       "      target_id       target_name target_type  \\\n",
       "1893  T1562.010  Downgrade Attack   technique   \n",
       "1906  T1218.014               MMC   technique   \n",
       "1908  T1218.013         Mavinject   technique   \n",
       "1996  T1218.014               MMC   technique   \n",
       "2002  T1218.013         Mavinject   technique   \n",
       "\n",
       "                                    mapping_description  \n",
       "1893  Consider removing previous versions of tools t...  \n",
       "1906  MMC may not be necessary within a given enviro...  \n",
       "1908  Consider removing mavinject.exe if Microsoft A...  \n",
       "1996  Use application control configured to block ex...  \n",
       "2002  Use application control configured to block ex...  "
      ]
     },
     "execution_count": 64,
     "metadata": {},
     "output_type": "execute_result"
    }
   ],
   "source": [
    "df_relationships[df_relationships['target_id'].isin(list_of_techniques) &  (df_relationships[\"source_type\"] == 'mitigation')]"
   ]
  },
  {
   "cell_type": "markdown",
   "id": "155099f1",
   "metadata": {},
   "source": [
    "### Get Related D3FEND Techniques Based on List of Techniques"
   ]
  },
  {
   "cell_type": "code",
   "execution_count": 75,
   "id": "982d7dc9",
   "metadata": {},
   "outputs": [],
   "source": [
    "df_defend_mitigations = pd.read_excel('defend_attack_mitigations.xlsx', sheet_name='defend_mitigations')"
   ]
  },
  {
   "cell_type": "code",
   "execution_count": 77,
   "id": "0688e52f",
   "metadata": {},
   "outputs": [
    {
     "data": {
      "text/html": [
       "<div>\n",
       "<style scoped>\n",
       "    .dataframe tbody tr th:only-of-type {\n",
       "        vertical-align: middle;\n",
       "    }\n",
       "\n",
       "    .dataframe tbody tr th {\n",
       "        vertical-align: top;\n",
       "    }\n",
       "\n",
       "    .dataframe thead th {\n",
       "        text-align: right;\n",
       "    }\n",
       "</style>\n",
       "<table border=\"1\" class=\"dataframe\">\n",
       "  <thead>\n",
       "    <tr style=\"text-align: right;\">\n",
       "      <th></th>\n",
       "      <th>ATT&amp;CK ID</th>\n",
       "      <th>ATT&amp;CK Mitigation</th>\n",
       "      <th>Related D3FEND Techniques</th>\n",
       "      <th>Comment</th>\n",
       "    </tr>\n",
       "  </thead>\n",
       "  <tbody>\n",
       "    <tr>\n",
       "      <th>0</th>\n",
       "      <td>M1013</td>\n",
       "      <td>Application Developer Guidance</td>\n",
       "      <td>NaN</td>\n",
       "      <td>A future release of D3FEND will define a taxon...</td>\n",
       "    </tr>\n",
       "    <tr>\n",
       "      <th>1</th>\n",
       "      <td>M1015</td>\n",
       "      <td>Active Directory Configuration</td>\n",
       "      <td>D3-ANCI Authentication Cache Invalidation</td>\n",
       "      <td>M1015 scope is broad, touches on an wide varie...</td>\n",
       "    </tr>\n",
       "    <tr>\n",
       "      <th>2</th>\n",
       "      <td>NaN</td>\n",
       "      <td>NaN</td>\n",
       "      <td>D3-DTP Domain Trust Policy</td>\n",
       "      <td>NaN</td>\n",
       "    </tr>\n",
       "    <tr>\n",
       "      <th>3</th>\n",
       "      <td>NaN</td>\n",
       "      <td>NaN</td>\n",
       "      <td>D3-UAP User Account Permissions</td>\n",
       "      <td>NaN</td>\n",
       "    </tr>\n",
       "    <tr>\n",
       "      <th>4</th>\n",
       "      <td>M1016</td>\n",
       "      <td>Vulnerability Scanning</td>\n",
       "      <td>NaN</td>\n",
       "      <td>Future D3FEND releases will model the scanning...</td>\n",
       "    </tr>\n",
       "  </tbody>\n",
       "</table>\n",
       "</div>"
      ],
      "text/plain": [
       "  ATT&CK ID               ATT&CK Mitigation  \\\n",
       "0     M1013  Application Developer Guidance   \n",
       "1     M1015  Active Directory Configuration   \n",
       "2       NaN                             NaN   \n",
       "3       NaN                             NaN   \n",
       "4     M1016          Vulnerability Scanning   \n",
       "\n",
       "                   Related D3FEND Techniques  \\\n",
       "0                                        NaN   \n",
       "1  D3-ANCI Authentication Cache Invalidation   \n",
       "2                 D3-DTP Domain Trust Policy   \n",
       "3            D3-UAP User Account Permissions   \n",
       "4                                        NaN   \n",
       "\n",
       "                                             Comment  \n",
       "0  A future release of D3FEND will define a taxon...  \n",
       "1  M1015 scope is broad, touches on an wide varie...  \n",
       "2                                                NaN  \n",
       "3                                                NaN  \n",
       "4  Future D3FEND releases will model the scanning...  "
      ]
     },
     "execution_count": 77,
     "metadata": {},
     "output_type": "execute_result"
    }
   ],
   "source": [
    "df_defend_mitigations.head(5)"
   ]
  },
  {
   "cell_type": "markdown",
   "id": "b4d70b8b-8098-420d-99c6-0ae134f5322a",
   "metadata": {},
   "source": [
    "### Sample D3FEND Mapping Data"
   ]
  },
  {
   "cell_type": "code",
   "execution_count": 72,
   "id": "ee65fb94-bccb-4fe6-94c4-1994865354e8",
   "metadata": {},
   "outputs": [
    {
     "data": {
      "text/html": [
       "<div>\n",
       "<style scoped>\n",
       "    .dataframe tbody tr th:only-of-type {\n",
       "        vertical-align: middle;\n",
       "    }\n",
       "\n",
       "    .dataframe tbody tr th {\n",
       "        vertical-align: top;\n",
       "    }\n",
       "\n",
       "    .dataframe thead th {\n",
       "        text-align: right;\n",
       "    }\n",
       "</style>\n",
       "<table border=\"1\" class=\"dataframe\">\n",
       "  <thead>\n",
       "    <tr style=\"text-align: right;\">\n",
       "      <th></th>\n",
       "      <th>query_def_tech_label</th>\n",
       "      <th>top_def_tech_label</th>\n",
       "      <th>def_tactic_label</th>\n",
       "      <th>def_tactic_rel_label</th>\n",
       "      <th>def_tech_label</th>\n",
       "      <th>def_artifact_rel_label</th>\n",
       "      <th>def_artifact_label</th>\n",
       "      <th>off_artifact_label</th>\n",
       "      <th>off_artifact_rel_label</th>\n",
       "      <th>off_tech_label</th>\n",
       "      <th>off_tech_parent_label</th>\n",
       "      <th>off_tech_parent_is_toplevel</th>\n",
       "      <th>off_tactic_rel_label</th>\n",
       "      <th>off_tactic_label</th>\n",
       "      <th>def_tactic</th>\n",
       "      <th>def_tactic_rel</th>\n",
       "      <th>tactic_def_tech</th>\n",
       "      <th>def_tech</th>\n",
       "      <th>def_artifact_rel</th>\n",
       "      <th>def_artifact</th>\n",
       "      <th>off_artifact</th>\n",
       "      <th>off_artifact_rel</th>\n",
       "      <th>off_tech</th>\n",
       "      <th>off_tech_parent</th>\n",
       "      <th>off_tactic_rel</th>\n",
       "      <th>off_tactic</th>\n",
       "    </tr>\n",
       "  </thead>\n",
       "  <tbody>\n",
       "    <tr>\n",
       "      <th>0</th>\n",
       "      <td>Account Locking</td>\n",
       "      <td>Credential Eviction</td>\n",
       "      <td>Evict</td>\n",
       "      <td>enables</td>\n",
       "      <td>Account Locking</td>\n",
       "      <td>disables</td>\n",
       "      <td>User Account</td>\n",
       "      <td>User Account</td>\n",
       "      <td>uses</td>\n",
       "      <td>Valid Accounts</td>\n",
       "      <td>Defense Evasion Technique</td>\n",
       "      <td>False</td>\n",
       "      <td>enables</td>\n",
       "      <td>Persistence</td>\n",
       "      <td>http://d3fend.mitre.org/ontologies/d3fend.owl#...</td>\n",
       "      <td>http://d3fend.mitre.org/ontologies/d3fend.owl#...</td>\n",
       "      <td>NaN</td>\n",
       "      <td>http://d3fend.mitre.org/ontologies/d3fend.owl#...</td>\n",
       "      <td>http://d3fend.mitre.org/ontologies/d3fend.owl#...</td>\n",
       "      <td>http://d3fend.mitre.org/ontologies/d3fend.owl#...</td>\n",
       "      <td>http://d3fend.mitre.org/ontologies/d3fend.owl#...</td>\n",
       "      <td>http://d3fend.mitre.org/ontologies/d3fend.owl#...</td>\n",
       "      <td>http://d3fend.mitre.org/ontologies/d3fend.owl#...</td>\n",
       "      <td>http://d3fend.mitre.org/ontologies/d3fend.owl#...</td>\n",
       "      <td>http://d3fend.mitre.org/ontologies/d3fend.owl#...</td>\n",
       "      <td>http://d3fend.mitre.org/ontologies/d3fend.owl#...</td>\n",
       "    </tr>\n",
       "  </tbody>\n",
       "</table>\n",
       "</div>"
      ],
      "text/plain": [
       "  query_def_tech_label   top_def_tech_label def_tactic_label  \\\n",
       "0      Account Locking  Credential Eviction            Evict   \n",
       "\n",
       "  def_tactic_rel_label   def_tech_label def_artifact_rel_label  \\\n",
       "0              enables  Account Locking               disables   \n",
       "\n",
       "  def_artifact_label off_artifact_label off_artifact_rel_label  \\\n",
       "0       User Account       User Account                   uses   \n",
       "\n",
       "   off_tech_label      off_tech_parent_label  off_tech_parent_is_toplevel  \\\n",
       "0  Valid Accounts  Defense Evasion Technique                        False   \n",
       "\n",
       "  off_tactic_rel_label off_tactic_label  \\\n",
       "0              enables      Persistence   \n",
       "\n",
       "                                          def_tactic  \\\n",
       "0  http://d3fend.mitre.org/ontologies/d3fend.owl#...   \n",
       "\n",
       "                                      def_tactic_rel  tactic_def_tech  \\\n",
       "0  http://d3fend.mitre.org/ontologies/d3fend.owl#...              NaN   \n",
       "\n",
       "                                            def_tech  \\\n",
       "0  http://d3fend.mitre.org/ontologies/d3fend.owl#...   \n",
       "\n",
       "                                    def_artifact_rel  \\\n",
       "0  http://d3fend.mitre.org/ontologies/d3fend.owl#...   \n",
       "\n",
       "                                        def_artifact  \\\n",
       "0  http://d3fend.mitre.org/ontologies/d3fend.owl#...   \n",
       "\n",
       "                                        off_artifact  \\\n",
       "0  http://d3fend.mitre.org/ontologies/d3fend.owl#...   \n",
       "\n",
       "                                    off_artifact_rel  \\\n",
       "0  http://d3fend.mitre.org/ontologies/d3fend.owl#...   \n",
       "\n",
       "                                            off_tech  \\\n",
       "0  http://d3fend.mitre.org/ontologies/d3fend.owl#...   \n",
       "\n",
       "                                     off_tech_parent  \\\n",
       "0  http://d3fend.mitre.org/ontologies/d3fend.owl#...   \n",
       "\n",
       "                                      off_tactic_rel  \\\n",
       "0  http://d3fend.mitre.org/ontologies/d3fend.owl#...   \n",
       "\n",
       "                                          off_tactic  \n",
       "0  http://d3fend.mitre.org/ontologies/d3fend.owl#...  "
      ]
     },
     "execution_count": 72,
     "metadata": {},
     "output_type": "execute_result"
    }
   ],
   "source": [
    "df_defend.head(1)"
   ]
  },
  {
   "cell_type": "markdown",
   "id": "e0eb2bbb",
   "metadata": {},
   "source": []
  },
  {
   "cell_type": "code",
   "execution_count": null,
   "id": "8912e136-615f-4a58-a1ef-eadb2845c97c",
   "metadata": {},
   "outputs": [],
   "source": []
  },
  {
   "cell_type": "code",
   "execution_count": null,
   "id": "7c79e785-98e7-4fd5-a0ae-42c4a8f566fc",
   "metadata": {},
   "outputs": [],
   "source": []
  },
  {
   "cell_type": "markdown",
   "id": "26b859d7-b5b4-4a40-a4fa-70e9e00f5993",
   "metadata": {},
   "source": [
    "# DECOMP AUTOMATION POC"
   ]
  },
  {
   "cell_type": "markdown",
   "id": "8a9e9dfe",
   "metadata": {},
   "source": [
    "# Jupyter Widgets POC"
   ]
  },
  {
   "cell_type": "markdown",
   "id": "4011b8bb-b3f9-4d76-9733-5895072e1920",
   "metadata": {},
   "source": [
    "### Install Python Libaries"
   ]
  },
  {
   "cell_type": "code",
   "execution_count": 234,
   "id": "e22cde1b-8b9d-4567-a3c7-6de355ad21d3",
   "metadata": {},
   "outputs": [],
   "source": [
    "import ipywidgets as widgets\n",
    "from IPython.display import display"
   ]
  },
  {
   "cell_type": "markdown",
   "id": "af5353a7-1880-4400-a18d-a0c4c9a3dada",
   "metadata": {},
   "source": [
    "### Collect Data for Decomp Automation"
   ]
  },
  {
   "cell_type": "code",
   "execution_count": 314,
   "id": "2cd6d84f-e033-4c39-a985-043c2a4c7c6a",
   "metadata": {},
   "outputs": [],
   "source": [
    "# Get list of all techniques\n",
    "list_of_techniques = df_techniques['id'].tolist()\n",
    "list_of_techniques.sort()\n",
    "\n",
    "# Get list of all platforms\n",
    "list_of_platforms = df_datasources['platforms'].dropna().unique().tolist()\n",
    "list_of_platforms = [i.split(',') for i in  df_list_of_platforms]\n",
    "list_of_platforms = [item for sublist in list_of_platforms for item in sublist]\n",
    "list_of_platforms = list(set(list_of_platforms))\n",
    "\n",
    "# Get list of all data sources\n",
    "list_of_data_sources = df_datasources[df_datasources['type'] == 'datasource']['name'].tolist()\n",
    "list_of_data_sources.sort\n",
    "\n",
    "# Get list of all data components\n",
    "list_of_data_components = df_datasources[df_datasources['type'] == 'datacomponent']['name'].tolist()\n",
    "list_of_data_components.sort()"
   ]
  },
  {
   "cell_type": "markdown",
   "id": "0c279711-f201-4a51-99fa-6075b08588c1",
   "metadata": {},
   "source": [
    "### Functions"
   ]
  },
  {
   "cell_type": "code",
   "execution_count": 360,
   "id": "834e4543-f927-4580-a6e4-fb9961434e77",
   "metadata": {},
   "outputs": [],
   "source": [
    "# Functons\n",
    "def get_technique_info(mitre_id):\n",
    "    mitre_id = str(mitre_id)\n",
    "    df_tech = df[(df['technique_id']== mitre_id)].head(10)\n",
    "    return df_tech\n",
    "\n",
    "def main_func(a, b, c, d):\n",
    "    #df_out = df[(df['technique_id']== a )]\n",
    "    df_out = df[df['technique_id'] == a].groupby(['technique_id','event_platform','log_provider', 'event_id','event_name','log_channel']).sum()\n",
    "    print(df_out)\n",
    "    #return a,b,c,d\n"
   ]
  },
  {
   "cell_type": "markdown",
   "id": "89e81665-282c-4430-9b0a-5bd2a51d08f7",
   "metadata": {},
   "source": [
    "### Configure Widgets"
   ]
  },
  {
   "cell_type": "code",
   "execution_count": 361,
   "id": "eb261817-bee7-4743-a892-75428009c600",
   "metadata": {
    "slideshow": {
     "slide_type": "slide"
    },
    "tags": [
     "hide-input"
    ]
   },
   "outputs": [],
   "source": [
    "a = widgets.Dropdown(description='ID:', options=list_of_techniques) # technique_id\n",
    "b = widgets.Dropdown(description='Platform:', options=list_of_platforms) # event_platform\n",
    "c = widgets.Dropdown(description='Data Source:', options=list_of_data_sources) # data_source\n",
    "d = widgets.Dropdown(description='Data Component:', options=list_of_data_components) # data_component\n",
    "ui = widgets.HBox([a, b, c, d])\n",
    "\n",
    "\n",
    "out = widgets.interactive_output(main_func, {'a': a, 'b': b, 'c': c, 'd': d})"
   ]
  },
  {
   "cell_type": "markdown",
   "id": "a494bb05-d1a6-4ca0-977c-a556564827c4",
   "metadata": {
    "tags": []
   },
   "source": [
    "### SEARCH MENU\n",
    "Example IDs: T1003, T1059"
   ]
  },
  {
   "cell_type": "code",
   "execution_count": 1,
   "id": "060375ed-847f-4eab-b839-86a54a51893b",
   "metadata": {
    "tags": []
   },
   "outputs": [
    {
     "ename": "NameError",
     "evalue": "name 'ui' is not defined",
     "output_type": "error",
     "traceback": [
      "\u001b[1;31m---------------------------------------------------------------------------\u001b[0m",
      "\u001b[1;31mNameError\u001b[0m                                 Traceback (most recent call last)",
      "\u001b[1;32m~\\AppData\\Local\\Temp/ipykernel_27204/1503760922.py\u001b[0m in \u001b[0;36m<module>\u001b[1;34m\u001b[0m\n\u001b[1;32m----> 1\u001b[1;33m \u001b[0mdisplay\u001b[0m\u001b[1;33m(\u001b[0m\u001b[0mui\u001b[0m\u001b[1;33m,\u001b[0m \u001b[0mout\u001b[0m\u001b[1;33m)\u001b[0m\u001b[1;33m\u001b[0m\u001b[1;33m\u001b[0m\u001b[0m\n\u001b[0m",
      "\u001b[1;31mNameError\u001b[0m: name 'ui' is not defined"
     ]
    }
   ],
   "source": [
    "display(ui, out)"
   ]
  },
  {
   "cell_type": "markdown",
   "id": "fa11eef9-0d2a-4342-9b5f-41fcb0de69f9",
   "metadata": {},
   "source": [
    "### Visualizing Relationships using OpenHunt Library"
   ]
  },
  {
   "cell_type": "code",
   "execution_count": 78,
   "id": "301e9228-96da-447f-ab80-e9450b26c7d1",
   "metadata": {},
   "outputs": [
    {
     "data": {
      "image/png": "[encoded data removed]",
      "text/plain": [
       "<Figure size 1080x720 with 1 Axes>"
      ]
     },
     "metadata": {},
     "output_type": "display_data"
    }
   ],
   "source": [
    "from openhunt import visualizations as vis\n",
    "df_network_graph = df[(df['technique_id']=='T1562.010')]\n",
    "vis.attack_network_graph(df_network_graph)"
   ]
  },
  {
   "cell_type": "markdown",
   "id": "7a812561-a0b1-4338-9d1d-bccfaf6a16fa",
   "metadata": {},
   "source": [
    "### References\n",
    "\n",
    "https://attack.mitre.org/\n",
    "\n",
    "https://github.com/OTRF/openhunt\n",
    "\n",
    "https://github.com/OTRF/OSSEM\n",
    "\n"
   ]
  },
  {
   "cell_type": "markdown",
   "id": "df4bdb7a-3a32-443c-822f-bd0d61a31e7e",
   "metadata": {},
   "source": []
  }
 ],
 "metadata": {
  "kernelspec": {
   "display_name": "Python 3 (ipykernel)",
   "language": "python",
   "name": "python3"
  },
  "language_info": {
   "codemirror_mode": {
    "name": "ipython",
    "version": 3
   },
   "file_extension": ".py",
   "mimetype": "text/x-python",
   "name": "python",
   "nbconvert_exporter": "python",
   "pygments_lexer": "ipython3",
   "version": "3.9.7"
  }
 },
 "nbformat": 4,
 "nbformat_minor": 5
}
