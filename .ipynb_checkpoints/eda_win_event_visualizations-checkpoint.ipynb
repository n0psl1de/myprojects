{
 "cells": [
  {
   "cell_type": "code",
   "execution_count": 1,
   "id": "5fb39e23",
   "metadata": {},
   "outputs": [],
   "source": [
    "import pandas as pd\n",
    "import requests\n",
    "import yaml\n",
    "import janitor as jn\n",
    "import matplotlib.pyplot as plt\n",
    "%matplotlib inline \n",
    "#from tqdm.notebook import tqdm_notebook\n",
    "import ipywidgets as widgets\n",
    "#from tqdm import tqdm\n",
    "#from IPython.display import display\n",
    "#import csv\n",
    "import plotly.express as px\n",
    "import plotly.io as pio\n",
    "#import seaborn as sns"
   ]
  },
  {
   "cell_type": "code",
   "execution_count": 2,
   "id": "208eccfa",
   "metadata": {},
   "outputs": [],
   "source": [
    "# Pandas\n",
    "pd.set_option('display.max_rows', None)\n",
    "pd.set_option('display.max_columns', None)\n",
    "pd.set_option('display.width', None)\n",
    "\n",
    "# Plotly\n",
    "pio.renderers.default = \"browser\" #'notebook' # 'notebook_connected' # 'notebook_connected'"
   ]
  },
  {
   "cell_type": "code",
   "execution_count": 3,
   "id": "8dad80b1",
   "metadata": {},
   "outputs": [],
   "source": [
    "# Download OSSEM data set and convert it to a Pandas data frame. \n",
    "url_ossem = 'https://raw.githubusercontent.com/OTRF/OSSEM-DM/main/use-cases/mitre_attack/techniques_to_events_mapping.yaml'\n",
    "yamlContent = requests.get(url_ossem)\n",
    "yamlMapping = yaml.safe_load(yamlContent.text)\n",
    "df_ossem = pd.json_normalize(yamlMapping)"
   ]
  },
  {
   "cell_type": "code",
   "execution_count": 4,
   "id": "f38bc791",
   "metadata": {},
   "outputs": [],
   "source": [
    "df = df_ossem.copy()"
   ]
  },
  {
   "cell_type": "code",
   "execution_count": 5,
   "id": "5de9d734",
   "metadata": {},
   "outputs": [],
   "source": [
    "#Drops Rows with Linux Sysmon and MDE sa Log Provider\n",
    "df.drop(df[(df['log_provider'] == 'Linux-Sysmon') | (df['log_provider'] == 'Microsoft Defender for Endpoint')].index, inplace=True)"
   ]
  },
  {
   "cell_type": "code",
   "execution_count": 6,
   "id": "9fe2815c",
   "metadata": {},
   "outputs": [
    {
     "data": {
      "text/plain": [
       "Microsoft-Windows-Security-Auditing                          3656\n",
       "Microsoft-Windows-Sysmon                                     2509\n",
       "Microsoft-Windows-PowerShell                                  480\n",
       "Eventlog                                                      114\n",
       "Service Control Manager                                        10\n",
       "Microsoft-Windows-WMI-Activity                                 10\n",
       "Microsoft-Windows-Windows Firewall With Advanced Security       8\n",
       "Windows Firewall With Advanced Security                         2\n",
       "Name: log_provider, dtype: int64"
      ]
     },
     "execution_count": 6,
     "metadata": {},
     "output_type": "execute_result"
    }
   ],
   "source": [
    "df['log_provider'].value_counts()"
   ]
  },
  {
   "cell_type": "markdown",
   "id": "a23c3913",
   "metadata": {},
   "source": [
    "---\n",
    "#### OSSEM: Count of Techniques by Log Provider\n",
    "- This graph shows the number of techniques by log provider. "
   ]
  },
  {
   "cell_type": "code",
   "execution_count": 86,
   "id": "326015db",
   "metadata": {},
   "outputs": [],
   "source": [
    "lp = df[['log_provider','technique_id']].drop_duplicates().groupby(['log_provider']).size().reset_index()\n",
    "#lp = lp[lp['is_subtechnique']==True]\n",
    "lp.columns = lp.columns.map(str)\n",
    "lp = lp.rename(columns={\"0\": \"count\"})"
   ]
  },
  {
   "cell_type": "code",
   "execution_count": 87,
   "id": "0ce31c14",
   "metadata": {},
   "outputs": [],
   "source": [
    "count_of_te_by_lp = px.bar(lp, x='log_provider',\n",
    "                           y='count',\n",
    "                           title='OSSEM: Count of MITRE ATT&CK Techniques by Log Provider',\n",
    "                           labels={'log_provider':'Log Provider','count':'Techniques'});\n",
    "count_of_te_by_lp.update_xaxes(type='category');\n",
    "count_of_te_by_lp.update_xaxes(categoryorder='total descending');"
   ]
  },
  {
   "cell_type": "markdown",
   "id": "5f92670c",
   "metadata": {},
   "source": [
    "---\n",
    "#### OSSEM: Count of Techniques by Log Provider including Data Sources\n",
    "- This graph shows the number of techniques by log provider and includes data sources"
   ]
  },
  {
   "cell_type": "code",
   "execution_count": 88,
   "id": "fb76108c",
   "metadata": {},
   "outputs": [],
   "source": [
    "lp_ds = df[['log_provider','data_source','technique_id']].drop_duplicates().groupby(['log_provider','data_source']).size().reset_index()\n",
    "#lp = lp[lp['is_subtechnique']==True]\n",
    "lp_ds.columns = lp_ds.columns.map(str)\n",
    "lp_ds = lp_ds.rename(columns={\"0\": \"count\"})"
   ]
  },
  {
   "cell_type": "code",
   "execution_count": 89,
   "id": "17f06344",
   "metadata": {},
   "outputs": [],
   "source": [
    "count_of_te_by_lp_and_ds = px.bar(lp_ds, \n",
    "                                  x='log_provider',\n",
    "                                  y='count', \n",
    "                                  color='data_source',\n",
    "                                  title='OSSEM: Count of MITRE ATT&CK Techniques by Log Provider',\n",
    "                                  labels={'log_provider':'Log Provider',\n",
    "                                          'count':'Techniques',\n",
    "                                          'data_source':'Data Source'});\n",
    "count_of_te_by_lp_and_ds.update_xaxes(type='category');\n",
    "count_of_te_by_lp_and_ds.update_xaxes(categoryorder='total descending');"
   ]
  },
  {
   "cell_type": "markdown",
   "id": "6e1f6ce3",
   "metadata": {},
   "source": [
    "---\n",
    "#### OSSEM: Count of Techniques by Data Source"
   ]
  },
  {
   "cell_type": "code",
   "execution_count": 90,
   "id": "961afe34",
   "metadata": {},
   "outputs": [],
   "source": [
    "ds = df[['data_source','technique_id']].drop_duplicates().groupby(['data_source']).size().reset_index()\n",
    "ds.columns = ds.columns.map(str)\n",
    "ds = ds.rename(columns={\"0\": \"count\"})"
   ]
  },
  {
   "cell_type": "code",
   "execution_count": 91,
   "id": "a4e1a047",
   "metadata": {},
   "outputs": [],
   "source": [
    "count_of_te_by_ds = px.bar(ds, x='data_source',y='count',title='OSSEM: Count of MITRE ATT&CK Techniques by Data Source',labels={'data_source':'Data Source','count':'Techniques'});\n",
    "count_of_te_by_ds.update_xaxes(type='category');\n",
    "count_of_te_by_ds.update_xaxes(categoryorder='total descending');"
   ]
  },
  {
   "cell_type": "markdown",
   "id": "53410579",
   "metadata": {},
   "source": [
    "---\n",
    "#### OSSEM: Count of MITRE ATT&CK Techniques by Data Component"
   ]
  },
  {
   "cell_type": "code",
   "execution_count": 92,
   "id": "7ad94228",
   "metadata": {},
   "outputs": [],
   "source": [
    "dc = df[['data_component','technique_id']].drop_duplicates().groupby(['data_component']).size().reset_index()\n",
    "dc.columns = dc.columns.map(str)\n",
    "dc = dc.rename(columns={\"0\": \"count\"})"
   ]
  },
  {
   "cell_type": "code",
   "execution_count": 93,
   "id": "bc154a0e",
   "metadata": {},
   "outputs": [],
   "source": [
    "count_of_te_by_dc = px.bar(dc, x='data_component',\n",
    "                           y='count',\n",
    "                           title='OSSEM: Count of MITRE ATT&CK Techniques by Data Component',\n",
    "                           labels={'data_component':'Data Component','count':'Techniques'});\n",
    "count_of_te_by_dc.update_xaxes(type='category');\n",
    "count_of_te_by_dc.update_xaxes(categoryorder='total descending');"
   ]
  },
  {
   "cell_type": "markdown",
   "id": "708cf854",
   "metadata": {},
   "source": [
    "---\n",
    "#### OSSEM: Count of MITRE ATT&CK Techniques by Data Component including Log Provider"
   ]
  },
  {
   "cell_type": "code",
   "execution_count": 94,
   "id": "0c4f1417",
   "metadata": {},
   "outputs": [],
   "source": [
    "dc_lp = df[['data_component','technique_id','log_provider']].drop_duplicates().groupby(['data_component','log_provider']).size().reset_index()\n",
    "dc_lp.columns = dc_lp.columns.map(str)\n",
    "dc_lp = dc_lp.rename(columns={\"0\": \"count\"})"
   ]
  },
  {
   "cell_type": "code",
   "execution_count": 95,
   "id": "355c08ca",
   "metadata": {},
   "outputs": [],
   "source": [
    "count_of_te_by_dc_and_lp = px.bar(dc_lp, x='data_component',\n",
    "                                  y='count',\n",
    "                                  color='log_provider',\n",
    "                                  title='OSSEM: Count of MITRE ATT&CK Techniques by Data Component',\n",
    "                                  labels={'data_component':'Data Component','count':'Techniques','log_provider':'Log Provider'})\n",
    "count_of_te_by_dc_and_lp.update_xaxes(type='category');\n",
    "count_of_te_by_dc_and_lp.update_xaxes(categoryorder='total descending');"
   ]
  },
  {
   "cell_type": "code",
   "execution_count": 96,
   "id": "53727004",
   "metadata": {},
   "outputs": [],
   "source": [
    "count_of_te_by_dc_and_lp_grouped = px.bar(dc_lp, x='data_component',\n",
    "                                  y='count',\n",
    "                                  color='log_provider',\n",
    "                                  title='OSSEM: Count of MITRE ATT&CK Techniques by Data Component (Grouped Bar Chart)',\n",
    "                                  labels={'data_component':'Data Component','count':'Techniques','log_provider':'Log Provider'},\n",
    "                                  barmode='group');\n",
    "count_of_te_by_dc_and_lp_grouped.update_xaxes(type='category');\n",
    "count_of_te_by_dc_and_lp_grouped.update_xaxes(categoryorder='total descending');"
   ]
  },
  {
   "cell_type": "markdown",
   "id": "71bf4972",
   "metadata": {},
   "source": [
    "---\n",
    "#### OSSEM: Count of MITRE ATT&CK Techniques by Event ID"
   ]
  },
  {
   "cell_type": "code",
   "execution_count": 97,
   "id": "8a0e2366",
   "metadata": {},
   "outputs": [],
   "source": [
    "count_of_te_by_evt = df.groupby(['event_id','technique_id']).size().reset_index()\n",
    "#count_of_te_by_evt.head()\n",
    "count_of_te_by_evt.columns = count_of_te_by_evt.columns.map(str)\n",
    "count_of_te_by_evt = count_of_te_by_evt.rename(columns={\"0\": \"count\"})"
   ]
  },
  {
   "cell_type": "code",
   "execution_count": 98,
   "id": "736e16a3",
   "metadata": {},
   "outputs": [],
   "source": [
    "count_of_te_by_evt = count_of_te_by_evt.groupby('event_id').sum().reset_index()"
   ]
  },
  {
   "cell_type": "code",
   "execution_count": 99,
   "id": "83591cab",
   "metadata": {},
   "outputs": [],
   "source": [
    "fig_count_of_te_by_evt  = px.bar(count_of_te_by_evt, x='event_id',\n",
    "                                  y='count',\n",
    "                                  #color='log_provider',\n",
    "                                  title='OSSEM: Count of MITRE ATT&CK Techniques by Event ID',\n",
    "                                  labels={'event_id':'Event ID','count':'Techniques','log_provider':'Log Provider'})\n",
    "fig_count_of_te_by_evt.update_xaxes(type='category');\n",
    "fig_count_of_te_by_evt.update_xaxes(categoryorder='total descending');"
   ]
  },
  {
   "cell_type": "markdown",
   "id": "e33d0dff",
   "metadata": {},
   "source": [
    "---\n",
    "#### OSSEM: Count of MITRE ATT&CK Techniques by Event ID (Added Detail)"
   ]
  },
  {
   "cell_type": "code",
   "execution_count": 130,
   "id": "c12de278",
   "metadata": {},
   "outputs": [],
   "source": [
    "df['event_id'] = df['event_id'].astype(str)\n",
    "df['event_name'] = df['event_name'].astype(str)\n",
    "df['event_long'] = df['event_id'] + ': ' + df['event_name']"
   ]
  },
  {
   "cell_type": "code",
   "execution_count": 220,
   "id": "5bc81d32",
   "metadata": {},
   "outputs": [],
   "source": [
    "count_of_te_by_evt_long = df[['event_long','technique_id','log_provider']].drop_duplicates().groupby(['event_long','log_provider']).size().reset_index()\n",
    "count_of_te_by_evt_long['event_long'] = count_of_te_by_evt_long['event_long'].astype('category')\n",
    "count_of_te_by_evt.head()\n",
    "count_of_te_by_evt_long.columns = count_of_te_by_evt_long.columns.map(str)\n",
    "count_of_te_by_evt_long = count_of_te_by_evt_long.rename(columns={\"0\": \"count\"})"
   ]
  },
  {
   "cell_type": "code",
   "execution_count": 224,
   "id": "41530d7a",
   "metadata": {},
   "outputs": [],
   "source": [
    "fig_count_of_te_by_evt_long  = px.bar(count_of_te_by_evt_long.sort_values('count', ascending=False).head(50), x='event_long',\n",
    "                                  y='count',\n",
    "                                  color='log_provider',\n",
    "                                  title='OSSEM: Count of MITRE ATT&CK Techniques by Event ID and Log Provider',\n",
    "                                  labels={'event_long':'Event ID','count':'Techniques','log_provider':'Log Provider'},\n",
    "                                     height=1000)\n",
    "fig_count_of_te_by_evt_long.update_xaxes(type='category');\n",
    "fig_count_of_te_by_evt_long.update_xaxes(categoryorder='total descending');\n",
    "fig_count_of_te_by_evt_long.update_layout(margin=dict(l=20, r=20, t=40, b=20),paper_bgcolor=\"LightSteelBlue\",\n",
    ");\n",
    "#fig_count_of_te_by_evt_long.update_layout(autosize=False, width=500, height=500)"
   ]
  },
  {
   "cell_type": "markdown",
   "id": "42a7ae62",
   "metadata": {},
   "source": [
    "# DATA VISUALIZATIONS"
   ]
  },
  {
   "cell_type": "code",
   "execution_count": 128,
   "id": "c613699f",
   "metadata": {},
   "outputs": [],
   "source": [
    "count_of_te_by_lp.show()"
   ]
  },
  {
   "cell_type": "code",
   "execution_count": 49,
   "id": "b103263e",
   "metadata": {},
   "outputs": [],
   "source": [
    "count_of_te_by_lp_and_ds.show()"
   ]
  },
  {
   "cell_type": "code",
   "execution_count": null,
   "id": "c53144d7",
   "metadata": {},
   "outputs": [],
   "source": [
    "count_of_te_by_ds.show()"
   ]
  },
  {
   "cell_type": "code",
   "execution_count": 129,
   "id": "e45c29c8",
   "metadata": {},
   "outputs": [],
   "source": [
    "count_of_te_by_dc.show()"
   ]
  },
  {
   "cell_type": "code",
   "execution_count": null,
   "id": "92a3d460",
   "metadata": {},
   "outputs": [],
   "source": [
    "count_of_te_by_dc_and_lp.show()"
   ]
  },
  {
   "cell_type": "code",
   "execution_count": 127,
   "id": "71ed8f79",
   "metadata": {},
   "outputs": [],
   "source": [
    "fig_count_of_te_by_evt.show() # needs to be updated"
   ]
  },
  {
   "cell_type": "code",
   "execution_count": 225,
   "id": "a53178fe",
   "metadata": {},
   "outputs": [],
   "source": [
    "fig_count_of_te_by_evt_long.show()"
   ]
  },
  {
   "cell_type": "markdown",
   "id": "b6137ee5",
   "metadata": {},
   "source": [
    "#### References\n",
    "- https://ossemproject.com/intro.html"
   ]
  },
  {
   "cell_type": "code",
   "execution_count": null,
   "id": "2544f7c2",
   "metadata": {},
   "outputs": [],
   "source": []
  }
 ],
 "metadata": {
  "kernelspec": {
   "display_name": "Python 3 (ipykernel)",
   "language": "python",
   "name": "python3"
  },
  "language_info": {
   "codemirror_mode": {
    "name": "ipython",
    "version": 3
   },
   "file_extension": ".py",
   "mimetype": "text/x-python",
   "name": "python",
   "nbconvert_exporter": "python",
   "pygments_lexer": "ipython3",
   "version": "3.9.7"
  }
 },
 "nbformat": 4,
 "nbformat_minor": 5
}
