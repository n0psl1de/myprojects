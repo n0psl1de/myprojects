{
 "cells": [
  {
   "cell_type": "markdown",
   "id": "962b5720",
   "metadata": {},
   "source": [
    "# <center>Python Coding Concepts<center>"
   ]
  },
  {
   "cell_type": "markdown",
   "id": "9810300c",
   "metadata": {},
   "source": [
    "# LeetCode - Move Zeros (Brute Force Intuition)"
   ]
  },
  {
   "cell_type": "code",
   "execution_count": null,
   "id": "aaad606b",
   "metadata": {},
   "outputs": [],
   "source": [
    "'''\n",
    "LeetCode - Move Zeros (Brute Force Intuition)\n",
    "\n",
    "Given an integer array nums, move all 0's to the end of it while maintaining the relative order of the non-zero elements.\n",
    "\n",
    "Note that you must do this in-place without making a copy of the array.\n",
    "\n",
    "https://leetcode.com/problems/move-zeroes/\n",
    "'''"
   ]
  },
  {
   "cell_type": "code",
   "execution_count": 9,
   "id": "97030e71",
   "metadata": {},
   "outputs": [
    {
     "name": "stdout",
     "output_type": "stream",
     "text": [
      "Solution1: [1, 3, 12, 0, 0]\n"
     ]
    }
   ],
   "source": [
    "class Solution:\n",
    "    '''\n",
    "    Example #1 - Brute Force Approach\n",
    "\n",
    "    Time complexity = \n",
    "    Space complexity = \n",
    "\n",
    "    [0,1,0,3,12] --> [1,3,12,0,0]\n",
    "    \n",
    "    '''\n",
    "    def moveZeros(self,nums):\n",
    "        output = []                          # Create separate array called output\n",
    "        n = len(nums)\n",
    "        for i in range(0,n):                 # Iterate through length of input array\n",
    "            if nums[i] != 0:                  # If not 0, append element to output array\n",
    "                output.append(nums[i])\n",
    "\n",
    "        m = len(output)                      # Get length of output array\n",
    "        for i in range(m,n):                 # In the range of output array m and input array n, append 0 to output array\n",
    "            output.append(0)                 # This is a way of calculating the remaining index \n",
    "        print('Solution1:',output)\n",
    "        \n",
    "s = Solution()\n",
    "s.moveZeros([0,1,0,3,12])\n",
    "\n"
   ]
  },
  {
   "cell_type": "code",
   "execution_count": 57,
   "id": "1a13c5b9",
   "metadata": {},
   "outputs": [
    {
     "name": "stdout",
     "output_type": "stream",
     "text": [
      "Solution2: [1, 3, 12, 1, 2, 3, 4, 0, 0, 0, 0, 0]\n"
     ]
    }
   ],
   "source": [
    "# Best Solution\n",
    "\n",
    "class Solution:\n",
    "    '''\n",
    "    Move Zeros\n",
    "    \n",
    "    Problem:\n",
    "    - This is the more efficient way of solving the problem. \n",
    "    \n",
    "    Time complexity = O(n+m)\n",
    "    Space complexity = O(1)\n",
    "\n",
    "    [0,1,0,3,12,0,0,0,1,2,3,4] --> [1, 3, 12, 1, 2, 3, 4, 0, 0, 0, 0, 0]\n",
    "\n",
    "    '''\n",
    "    def moveZerosOptimized(self,nums):\n",
    "        j = 0\n",
    "        for x in nums:\n",
    "            if x != 0:\n",
    "                nums[j] = x\n",
    "                j+=1\n",
    "        for i in range(j,len(nums)):\n",
    "            nums[i] = 0\n",
    "        print('Solution2:',nums)\n",
    "        \n",
    "s = Solution()\n",
    "s.moveZerosOptimized([0,1,0,3,12,0,0,0,1,2,3,4])"
   ]
  },
  {
   "cell_type": "markdown",
   "id": "8c3a0776",
   "metadata": {},
   "source": [
    "# LeetCode - Boats to Save People aka Boats n Hoes"
   ]
  },
  {
   "cell_type": "code",
   "execution_count": 59,
   "id": "db58a911",
   "metadata": {},
   "outputs": [
    {
     "data": {
      "text/plain": [
       "\"\\nLeetCode - Boats to Save People aka Boats n Hoes\\n\\nGiven an array 'people' and integer 'limit'.\\n\\n'people' array is an array of people's weights \\n\\ni-th person has a weight people[i] and each boat can carry at most limit\\n\\nhttps://leetcode.com/problems/move-zeroes/\\n\\n\""
      ]
     },
     "execution_count": 59,
     "metadata": {},
     "output_type": "execute_result"
    }
   ],
   "source": [
    "'''\n",
    "LeetCode - Boats to Save People aka Boats n Hoes\n",
    "\n",
    "Given an array 'people' and integer 'limit'.\n",
    "\n",
    "'people' array is an array of people's weights \n",
    "\n",
    "i-th person has a weight people[i] and each boat can carry at most limit\n",
    "\n",
    "https://leetcode.com/problems/move-zeroes/\n",
    "\n",
    "'''"
   ]
  },
  {
   "cell_type": "code",
   "execution_count": 7,
   "id": "8faf5e54",
   "metadata": {},
   "outputs": [
    {
     "name": "stdout",
     "output_type": "stream",
     "text": [
      "Solution3: 3\n"
     ]
    }
   ],
   "source": [
    "import math\n",
    "\n",
    "class Solution():\n",
    "    '''\n",
    "    My attempt which works but let's move on to another option, \n",
    "    '''\n",
    "    def boatsToSavePeople(self,weights, limit):\n",
    "        boats = sum(weights) / limit\n",
    "        boats = math.ceil(boats)\n",
    "        print('Solution3:',boats)\n",
    "\n",
    "s = Solution3()\n",
    "\n",
    "s.boatsToSavePeople([1,2,3,1,1,1],4)"
   ]
  },
  {
   "cell_type": "code",
   "execution_count": 6,
   "id": "7368ef33",
   "metadata": {},
   "outputs": [
    {
     "name": "stdout",
     "output_type": "stream",
     "text": [
      "Solution5: 2\n"
     ]
    }
   ],
   "source": [
    "# Udemy Solution\n",
    "# https://github.com/BitPunchZ/Leetcode-in-python-50-Algorithms-Coding-Interview-Questions/blob/master/Interview%20Questions%20solutions/boats%20to%20save%20people/index.py\n",
    "\n",
    "class Solution:\n",
    "    def numRescueBoats(self, people, limit):\n",
    "        people.sort()\n",
    "\n",
    "        left = 0\n",
    "        right = len(people)-1\n",
    "\n",
    "        boats_number = 0\n",
    "\n",
    "        while(left<=right):\n",
    "            if(left==right):\n",
    "                boats_number+=1\n",
    "                break\n",
    "            if(people[left]+people[right]<=limit):\n",
    "                left+=1\n",
    "\n",
    "            right-=1\n",
    "            boats_number+=1\n",
    "        print('Solution5:',boats_number)\n",
    "\n",
    "s = Solution()\n",
    "s.numRescueBoats([1,2,2,3],4)"
   ]
  },
  {
   "cell_type": "code",
   "execution_count": 11,
   "id": "0f31647f",
   "metadata": {},
   "outputs": [
    {
     "data": {
      "text/plain": [
       "2"
      ]
     },
     "execution_count": 11,
     "metadata": {},
     "output_type": "execute_result"
    }
   ],
   "source": [
    "# My first go at a solution\n",
    "\n",
    "def numRescueBoats(people, limit):\n",
    "    \"\"\"\n",
    "    :type people: List[int]\n",
    "    :type limit: int\n",
    "    :rtype: int\n",
    "    \"\"\"\n",
    "    boats = sum(people) / limit\n",
    "    boats = int(math.ceil(boats))\n",
    "    return boats\n",
    "\n",
    "numRescueBoats([3,2,2,1],5)"
   ]
  },
  {
   "cell_type": "code",
   "execution_count": 12,
   "id": "048c5c7f",
   "metadata": {},
   "outputs": [
    {
     "name": "stdout",
     "output_type": "stream",
     "text": [
      "2\n"
     ]
    }
   ],
   "source": [
    "# LeetCode Solution\n",
    "# https://leetcode.com/problems/boats-to-save-people/solution/\n",
    "\n",
    "class Solution(object):\n",
    "    def numRescueBoats(self, people, limit):\n",
    "        people.sort()\n",
    "        i, j = 0, len(people) - 1\n",
    "        ans = 0\n",
    "        while i <= j:\n",
    "            ans += 1\n",
    "            if people[i] + people[j] <= limit:\n",
    "                i += 1\n",
    "            j -= 1\n",
    "        print(ans)\n",
    "    \n",
    "s = Solution()\n",
    "s.numRescueBoats([1,1,2,3],4)"
   ]
  },
  {
   "cell_type": "code",
   "execution_count": 37,
   "id": "69019c6b",
   "metadata": {},
   "outputs": [
    {
     "data": {
      "text/plain": [
       "5"
      ]
     },
     "execution_count": 37,
     "metadata": {},
     "output_type": "execute_result"
    }
   ],
   "source": [
    "# Best Solution\n",
    "\n",
    "class Solution:\n",
    "    def numRescueBoats(self, people, limit):\n",
    "        '''\n",
    "        Boats to Save People \n",
    "        \n",
    "        Problem:\n",
    "        - Given an array 'people' and integer 'limit'.\n",
    "        - 'people' array is an array of people's weights \n",
    "        - i-th person has a weight people[i] and each boat can carry at most limit\n",
    "\n",
    "        https://leetcode.com/problems/move-zeroes/\n",
    "\n",
    "        '''\n",
    "        \n",
    "        # We start by assorting the values in the people array\n",
    "        \n",
    "        people.sort()\n",
    "        \n",
    "        # We define the low value as 0, high value as len of array and the starting answer as 0. \n",
    "        \n",
    "        lo, hi, ans = 0, len(people) - 1, 0\n",
    "        \n",
    "        # If we haven't reached the end of the array then proceed. \n",
    "        \n",
    "        while lo <= hi:\n",
    "            \n",
    "            # If the length of the array minus the current index position is less than or equal to the limit:\n",
    "            ## Increase the index position by 1 (i.e., move the index forward by 1)\n",
    "            ## Decrease the upper index by 1\n",
    "            ## Incrase the output (i.e., ans or # of boats by 1)\n",
    "            \n",
    "            if people[hi] + people[lo] <= limit: lo += 1\n",
    "            hi -= 1; ans += 1\n",
    "            \n",
    "        # Return the answer\n",
    "        \n",
    "        return ans\n",
    "    \n",
    "arr = [1,1,2,4,4,3,2,1]      # An array of people's weights\n",
    "limit = 4                    # The number of people allowed per boat\n",
    "\n",
    "s = Solution()\n",
    "s.numRescueBoats(arr,limit)"
   ]
  },
  {
   "cell_type": "markdown",
   "id": "d1b4f127",
   "metadata": {},
   "source": [
    "# LeetCode - Valid Mountain Array Problem"
   ]
  },
  {
   "cell_type": "code",
   "execution_count": 58,
   "id": "62049651",
   "metadata": {},
   "outputs": [
    {
     "data": {
      "text/plain": [
       "True"
      ]
     },
     "execution_count": 58,
     "metadata": {},
     "output_type": "execute_result"
    }
   ],
   "source": [
    "# Best Solution\n",
    "\n",
    "class Solution:\n",
    "    \n",
    "    def mtnArray(self,arr):\n",
    "        '''\n",
    "        Valid Mountain Array Problem\n",
    "        \n",
    "        Problem:\n",
    "        Given an array of integers, return true if the following conditions are fulfilled:\n",
    "        - Length of the array is bigger than or equal to 3\n",
    "        - There exists some index i such that:\n",
    "        a[0] < a[1] < ... < a[i]\n",
    "        a[i] > a[i+1] > ... > a[[a.size]]\n",
    "\n",
    "        In a nutshell: Find if there is an increasing subarray followed by a decreasing subarray.\n",
    "\n",
    "        '''\n",
    "        \n",
    "        # We want to compare the index with the previous index so we set our index position to 1 to start. \n",
    "        \n",
    "        i = 1                                 \n",
    "        \n",
    "        # We need atleast 3 values for a mountain array so anything less than 3 returns False\n",
    "        \n",
    "        if len(arr) < 3:\n",
    "            return False\n",
    "        \n",
    "        # We start by comparing index position 1 with the length of the array. \n",
    "        # If index position is equal to the length of the array then we are done. \n",
    "        # If the index position is less than the length of the array we continue on. \n",
    "        # Next, we check to see if the value of i is greater than the previous index value (i.e., i-1)\n",
    "        # The first check asks if arr[1] is greater than arr[0]\n",
    "        # If the conditions are met, move the index position forward by 1\n",
    "        \n",
    "        \n",
    "        while i < len(arr) and arr[i] > arr[i-1]:\n",
    "            i+=1\n",
    "            \n",
    "        # if the previous condition wasn't met (i.e., the array isn't ascending), did the values flatten (e.g., 1 then 1)?\n",
    "        # Or does the index position i equal the length of the array indicating the loop is complete?\n",
    "            \n",
    "        if i == 1 or i == len(arr):\n",
    "            return False\n",
    "        \n",
    "        # The previous conditions indicate that we haven't reached the end, the values are no longer asending so are the values descending in value?\n",
    "        \n",
    "        while i < len(arr) and arr[i] < arr[i-1]:\n",
    "            i+=1\n",
    "        \n",
    "        # If we've reached the end of the loop and index position i equals the length of the array, compare the two values and return True. \n",
    "        \n",
    "        return i==len(arr)\n",
    "    \n",
    "arr = [0,3,2,1]\n",
    "\n",
    "s = Solution()\n",
    "s.mtnArray([1,2,3,2,1])"
   ]
  },
  {
   "cell_type": "markdown",
   "id": "8e38e815",
   "metadata": {},
   "source": [
    "# LeetCode - Container w/ the Most Water Problem"
   ]
  },
  {
   "cell_type": "code",
   "execution_count": 60,
   "id": "907fd67d",
   "metadata": {},
   "outputs": [
    {
     "data": {
      "text/plain": [
       "16"
      ]
     },
     "execution_count": 60,
     "metadata": {},
     "output_type": "execute_result"
    }
   ],
   "source": [
    "# Best Solution\n",
    "\n",
    "class Solution:\n",
    "    def containerWithMostWater(self,arr):\n",
    "        '''\n",
    "        Container w/ the Most Water Problem\n",
    "        \n",
    "        Problem: \n",
    "        Given n non-integer integers where each integer represent the height of a vertical line on a chart. \n",
    "        Find two lines, which together with x-axis forms a container, that holds the most water.\n",
    "        Return the area of the water. \n",
    "        \n",
    "        area = length * width\n",
    "        '''\n",
    "        \n",
    "        lo = 0\n",
    "        hi = len(arr)-1\n",
    "        maxarea = 0\n",
    "        \n",
    "        while lo < hi:\n",
    "            min_height = min(arr[lo],arr[hi])  # Get the lower of the height values from the two index positions\n",
    "            width = hi-lo                      # The width of the square is the hi index pos minus the low index pos\n",
    "            area = min_height*width            # The area of the square is min_height times width\n",
    "            maxarea = max(maxarea, area)       # Compare the area with value stored in maxarea variable. \n",
    "            if arr[lo] < arr[hi]:              # If lo idx pos is still lower than hi indx pos, move the low index forward by 1.\n",
    "                lo +=1\n",
    "            else: \n",
    "                hi-=1                          # Else reduces the hi idx pos by 1. \n",
    "            \n",
    "        return maxarea\n",
    "        \n",
    "        \n",
    "        \n",
    "arr = [1,8,6,2,5,4,3]      \n",
    "        \n",
    "s = Solution()\n",
    "s.containerWithMostWater(arr)"
   ]
  },
  {
   "cell_type": "markdown",
   "id": "039b5a6c",
   "metadata": {},
   "source": [
    "# LeetCode - Longest Substring without Repeating Characters"
   ]
  },
  {
   "cell_type": "code",
   "execution_count": 62,
   "id": "55c4f7d3",
   "metadata": {},
   "outputs": [
    {
     "name": "stdout",
     "output_type": "stream",
     "text": [
      "{}\n",
      "{'a': 0}\n",
      "{'a': 0}\n",
      "{'a': 0, 'b': 1}\n",
      "{'a': 0, 'b': 1}\n",
      "{'a': 0, 'b': 1, 'c': 2}\n",
      "{'a': 0, 'b': 1, 'c': 2}\n",
      "{'a': 0, 'b': 1, 'c': 2}\n",
      "{'a': 3, 'b': 1, 'c': 2}\n",
      "{'a': 3, 'b': 1, 'c': 2}\n",
      "{'a': 3, 'b': 1, 'c': 2}\n",
      "{'a': 3, 'b': 4, 'c': 2}\n",
      "{'a': 3, 'b': 4, 'c': 2}\n",
      "{'a': 3, 'b': 4, 'c': 2}\n",
      "{'a': 3, 'b': 4, 'c': 5}\n",
      "{'a': 3, 'b': 4, 'c': 5}\n",
      "{'a': 3, 'b': 4, 'c': 5}\n",
      "{'a': 3, 'b': 6, 'c': 5}\n",
      "{'a': 3, 'b': 6, 'c': 5}\n",
      "{'a': 3, 'b': 6, 'c': 5}\n",
      "{'a': 3, 'b': 6, 'c': 7}\n",
      "{'a': 3, 'b': 6, 'c': 7}\n",
      "{'a': 3, 'b': 6, 'c': 7}\n",
      "{'a': 3, 'b': 8, 'c': 7}\n",
      "{'a': 3, 'b': 8, 'c': 7}\n",
      "{'a': 3, 'b': 8, 'c': 7}\n",
      "{'a': 3, 'b': 8, 'c': 9}\n"
     ]
    },
    {
     "data": {
      "text/plain": [
       "3"
      ]
     },
     "execution_count": 62,
     "metadata": {},
     "output_type": "execute_result"
    }
   ],
   "source": [
    "class Solution:\n",
    "    def lengthOfLongestSubstring(self, s: str) -> int:\n",
    "        m = {}\n",
    "        left = 0\n",
    "        right = 0\n",
    "        ans = 0\n",
    "        n = len(s)\n",
    "        while(left<n and right<n):\n",
    "            el = s[right]\n",
    "            if(el in m):\n",
    "                left = max(left,m[el]+1)\n",
    "            m[el] = right\n",
    "            print(m)\n",
    "            ans = max(ans,right-left+1)\n",
    "            right+=1\n",
    "        return ans\n",
    "    \n",
    "s = 'abcabcbcbc'      \n",
    "        \n",
    "sol = Solution()\n",
    "sol.lengthOfLongestSubstring(s)"
   ]
  },
  {
   "cell_type": "code",
   "execution_count": null,
   "id": "4252f853",
   "metadata": {},
   "outputs": [],
   "source": []
  },
  {
   "cell_type": "code",
   "execution_count": null,
   "id": "f3b8304d",
   "metadata": {},
   "outputs": [],
   "source": []
  },
  {
   "cell_type": "code",
   "execution_count": null,
   "id": "2425ed1f",
   "metadata": {},
   "outputs": [],
   "source": []
  },
  {
   "cell_type": "code",
   "execution_count": null,
   "id": "fbd6c2d8",
   "metadata": {},
   "outputs": [],
   "source": []
  },
  {
   "cell_type": "code",
   "execution_count": null,
   "id": "705c6b4a",
   "metadata": {},
   "outputs": [],
   "source": []
  },
  {
   "cell_type": "markdown",
   "id": "a73e9824",
   "metadata": {},
   "source": [
    "# Letter Swap Problem"
   ]
  },
  {
   "cell_type": "code",
   "execution_count": 47,
   "id": "70b77b7b",
   "metadata": {},
   "outputs": [
    {
     "name": "stdout",
     "output_type": "stream",
     "text": [
      "['B', 'A', 'A', 'B', 'A', 'A', 'B']\n"
     ]
    }
   ],
   "source": [
    "# Best Solution?\n",
    "\n",
    "class Solution:\n",
    "    \n",
    "    def switchLetters(self,arr):\n",
    "    \n",
    "        '''\n",
    "        Letter Swap\n",
    "        \n",
    "        Problem:\n",
    "        - Meta Warm-Up Puzzle - For all elements in string 'ABBAB' swap the letters A -> B and B-> A.\n",
    "        - The key is to create a separate array and add the elements there.\n",
    "\n",
    "        '''\n",
    "    \n",
    "    \n",
    "        output = []\n",
    "\n",
    "\n",
    "        for i in range(0,len(arr)):\n",
    "\n",
    "\n",
    "            if arr[i] == 'A':\n",
    "\n",
    "                output.append('B')\n",
    "\n",
    "            if arr[i] == 'B':\n",
    "\n",
    "                output.append('A')\n",
    "\n",
    "        print(output)\n",
    "    \n",
    "arr = 'ABBABBA'\n",
    "    \n",
    "s = Solution()\n",
    "s.switchLetters(arr)"
   ]
  },
  {
   "cell_type": "markdown",
   "id": "d12bb6e5",
   "metadata": {},
   "source": [
    "# Longest Substring w/o Repeating Characters"
   ]
  },
  {
   "cell_type": "code",
   "execution_count": null,
   "id": "60512de7",
   "metadata": {},
   "outputs": [],
   "source": [
    "class Solution:\n",
    "    \n",
    "    def longestSubstring(self, arr): \n",
    "        pass\n",
    "    \n",
    "arr = []    \n",
    "    \n",
    "s = Solution()\n",
    "s.longestSubstring(arr)"
   ]
  },
  {
   "cell_type": "code",
   "execution_count": null,
   "id": "bfc123d8",
   "metadata": {},
   "outputs": [],
   "source": []
  },
  {
   "cell_type": "code",
   "execution_count": null,
   "id": "7191e359",
   "metadata": {},
   "outputs": [],
   "source": []
  },
  {
   "cell_type": "markdown",
   "id": "8ced8919",
   "metadata": {},
   "source": [
    "# Key Native Python Libaries"
   ]
  },
  {
   "cell_type": "code",
   "execution_count": null,
   "id": "72bd3bfa",
   "metadata": {},
   "outputs": [],
   "source": [
    "\n",
    "\n",
    "# Sorting \n",
    "\n",
    "from operator import itemgetter, attrgetter\n",
    "#sorted(student_tuples, key=itemgetter(2))\n",
    "#sorted(student_objects, key=attrgetter('age'))\n",
    "\n",
    "from collections import Counter\n",
    "Counter(_dict) # {\"A\":4, \"B\":3, \"C\":2, \"D\":1}\n",
    "\n",
    "from itertools import \n",
    "\n",
    "math, random, string, re, collections, itertools, os, sys, and subprocess\n",
    "\n",
    "\n",
    "min(),max()"
   ]
  },
  {
   "cell_type": "markdown",
   "id": "5a35a142",
   "metadata": {},
   "source": [
    "## \\*Args and \\**Kwargs"
   ]
  },
  {
   "cell_type": "code",
   "execution_count": null,
   "id": "e3ddd8c9",
   "metadata": {},
   "outputs": [],
   "source": [
    "# Using Regular Input and *Args\n",
    "def test_var_args(f_arg, *argv):\n",
    "    print(\"first normal arg:\", f_arg)\n",
    "    for arg in argv:\n",
    "        print(\"another arg through *argv:\", arg)\n",
    "\n",
    "test_var_args('yasoob', 'python', 'eggs', 'test')"
   ]
  },
  {
   "cell_type": "code",
   "execution_count": null,
   "id": "56a871d4",
   "metadata": {},
   "outputs": [],
   "source": [
    "# Using *Args\n",
    "def test_var_args(*argv):\n",
    "    #print(\"first normal arg:\", f_arg)\n",
    "    for arg in argv:\n",
    "        print(\"another arg through *argv:\", arg)\n",
    "\n",
    "test_var_args('yasoob', 'python', 'eggs', 'test')"
   ]
  },
  {
   "cell_type": "code",
   "execution_count": null,
   "id": "f7a8109e",
   "metadata": {},
   "outputs": [],
   "source": [
    "# Using **Kwargs\n",
    "def greet_me(**kwargs):\n",
    "    for key, value in kwargs.items():\n",
    "        print(\"{0} = {1}\".format(key, value))\n",
    "\n",
    "greet_me(name=\"yasoob\")"
   ]
  },
  {
   "cell_type": "code",
   "execution_count": null,
   "id": "94862787",
   "metadata": {},
   "outputs": [],
   "source": [
    "# Using *args\n",
    "\n",
    "args = (\"two\", 3, 5,6,7,8)\n",
    "def test_args(arg1, arg2, arg3,*args):\n",
    "    print(args)\n",
    "    print(\"arg1:\", arg1)\n",
    "    print(\"arg2:\", arg2)\n",
    "    print(\"arg3:\", arg3)\n",
    "    print('\\n\\n')\n",
    "\n",
    "test_args(*args)\n",
    "\n",
    "\n",
    "# Using *kwargs\n",
    "kwargs = {\"arg3\": 3, \"arg2\": \"two\", \"arg1\": 5,\"blah\":100}\n",
    "\n",
    "def test_kwargs(arg1, arg2, arg3,**kwargs):\n",
    "    print(kwargs)\n",
    "    print(\"arg1:\", arg1)\n",
    "    print(\"arg2:\", arg2)\n",
    "    print(\"arg3:\", arg3)\n",
    "    print('\\n\\n')\n",
    "\n",
    "test_kwargs(**kwargs)\n",
    "\n",
    "\n",
    "def test_kwargs2(**kwargs):\n",
    "    print(kwargs['arg1'])\n",
    "\n",
    "test_kwargs2(**kwargs)"
   ]
  },
  {
   "cell_type": "markdown",
   "id": "3257d604",
   "metadata": {},
   "source": [
    "## Combinations"
   ]
  },
  {
   "cell_type": "code",
   "execution_count": null,
   "id": "76daebb1",
   "metadata": {},
   "outputs": [],
   "source": [
    "import itertools\n",
    "\n",
    "l = [1,2,3]\n",
    "\n",
    "for i in itertools.combinations(l,2): print(i)"
   ]
  },
  {
   "cell_type": "code",
   "execution_count": null,
   "id": "af836a80",
   "metadata": {},
   "outputs": [],
   "source": [
    "l = [1,2,3]\n",
    "\n",
    "for i in itertools.combinations_with_replacement(l,2): print(i)"
   ]
  },
  {
   "cell_type": "code",
   "execution_count": null,
   "id": "60bfccb1",
   "metadata": {},
   "outputs": [],
   "source": [
    "l = [1,2,3]\n",
    "\n",
    "for i in itertools.permutations(l,2): print(i)"
   ]
  },
  {
   "cell_type": "code",
   "execution_count": null,
   "id": "782a08c2",
   "metadata": {},
   "outputs": [],
   "source": [
    "l = [1,2,3]\n",
    "\n",
    "for i in itertools.count(l,2): print(i)"
   ]
  },
  {
   "cell_type": "code",
   "execution_count": null,
   "id": "7266d76f",
   "metadata": {},
   "outputs": [],
   "source": []
  },
  {
   "cell_type": "markdown",
   "id": "0800435f",
   "metadata": {},
   "source": [
    "## Big O Time Complexity"
   ]
  },
  {
   "cell_type": "code",
   "execution_count": null,
   "id": "41480e41",
   "metadata": {},
   "outputs": [],
   "source": [
    "l1 = [0,1,2,3,4,5,6,7,8,9]\n",
    "l2 = []\n",
    "for i in l: "
   ]
  },
  {
   "cell_type": "code",
   "execution_count": null,
   "id": "614d31cc",
   "metadata": {},
   "outputs": [],
   "source": [
    "def sumUpToN(n):\n",
    "    return n*(n+1)/2\n",
    "\n",
    "result = sumUpToN(4)\n",
    "print(result)\n",
    "\n",
    "def sumUpToN(n):\n",
    "    sum = 0\n",
    "    for i in range(0,n+1):\n",
    "        sum += i\n",
    "    return sum\n",
    "\n",
    "result = sumUpToN(4)\n",
    "print(result)"
   ]
  },
  {
   "cell_type": "code",
   "execution_count": null,
   "id": "8a2b3f55",
   "metadata": {},
   "outputs": [],
   "source": [
    "def printTwice(n):\n",
    "    for i in range(0,n):\n",
    "        print(\"First Loop:\", i)\n",
    "        \n",
    "    for i in range(n,0,-1):\n",
    "        print(\"Second Loop:\", i)\n",
    "\n",
    "printTwice(4)"
   ]
  },
  {
   "cell_type": "code",
   "execution_count": null,
   "id": "19ce5113",
   "metadata": {},
   "outputs": [],
   "source": [
    "#O(N*N) = (N**2)\n",
    "\n",
    "def quadratic(n):\n",
    "    for i in range(0,n):\n",
    "        print('1st for loop:', i)\n",
    "        for j in range(0,n):\n",
    "            print('2nd for loop:', j)\n",
    "            #print(\"This quadratic\")\n",
    "\n",
    "quadratic(5)"
   ]
  },
  {
   "cell_type": "code",
   "execution_count": null,
   "id": "4ef52ecd",
   "metadata": {},
   "outputs": [],
   "source": [
    "#O(N*N*N) = (N**3)\n",
    "def cubicPrint(n):\n",
    "    for i in range(0,n):\n",
    "        print('1st for loop:', i)\n",
    "        for j in range(0,n):\n",
    "            print('2nd for loop:', j)\n",
    "            for k in range(0,n):\n",
    "                print('3rd for loop:', k)\n",
    "                #print(\"This is cubic\")\n",
    "\n",
    "cubicPrint(5)"
   ]
  },
  {
   "cell_type": "code",
   "execution_count": null,
   "id": "1cb2c1e3",
   "metadata": {},
   "outputs": [],
   "source": [
    "# Simplifying Big O Operations\n",
    "\n",
    "nums = [1,2,3,4]\n",
    "n = len(nums)\n",
    "sum = 0\n",
    "\n",
    "for i in range(0,n):\n",
    "    sum += nums[i]\n",
    "\n",
    "print(\"Sum of Array Elements:\", sum)"
   ]
  },
  {
   "cell_type": "code",
   "execution_count": null,
   "id": "cf58b8fa",
   "metadata": {},
   "outputs": [],
   "source": [
    "# O(N**2)\n",
    "def newPrint(n):\n",
    "    for i in range(0,n): # for i in range 3, run the next two nested for loops\n",
    "        for j in range(0,n):\n",
    "            print(\"First Loop:\", j)\n",
    "        for k in range(0,n):\n",
    "            print(\"Second Loop:\", k)\n",
    "\n",
    "newPrint(3)"
   ]
  },
  {
   "cell_type": "markdown",
   "id": "abbc06e7",
   "metadata": {},
   "source": [
    "## Big O Space Complexity"
   ]
  },
  {
   "cell_type": "code",
   "execution_count": null,
   "id": "a169396a",
   "metadata": {},
   "outputs": [],
   "source": [
    "# Simplifying Big O Operations\n",
    "\n",
    "arr = [1,2,3,4]\n",
    "\n",
    "def sumUpTo(arr):\n",
    "    sum = 0\n",
    "    n = len(arr)\n",
    "    for i in range(0,n):\n",
    "        sum += arr[i]\n",
    "\n",
    "    print(\"Sum of Array Elements:\", sum)\n",
    "\n",
    "sumUpTo(arr)\n",
    "    "
   ]
  },
  {
   "cell_type": "code",
   "execution_count": null,
   "id": "1783cbc2",
   "metadata": {},
   "outputs": [],
   "source": [
    "def getArrUpTo(n):\n",
    "    arr = []\n",
    "    for i in range(0,n):\n",
    "        arr.append(i)\n",
    "    print(arr)\n",
    "\n",
    "getArrUpTo(5)"
   ]
  },
  {
   "cell_type": "code",
   "execution_count": null,
   "id": "a1461507",
   "metadata": {},
   "outputs": [],
   "source": [
    "'''\n",
    "Space Complexity - Data Structures\n",
    "\n",
    "Hash tables:    0(N)\n",
    "Stacks:         0(N)\n",
    "Queues:         0(N)\n",
    "Strings:        0(N)\n",
    "Arrays:         0(N)\n",
    "'''"
   ]
  },
  {
   "cell_type": "markdown",
   "id": "752b4992",
   "metadata": {},
   "source": [
    "## Logarithms\n",
    "- Binary search (Log(N))\n",
    "- Merge sort (NLog(N))"
   ]
  },
  {
   "cell_type": "code",
   "execution_count": null,
   "id": "62ed0125",
   "metadata": {},
   "outputs": [],
   "source": [
    "import math\n",
    "math.log2(16)"
   ]
  },
  {
   "cell_type": "markdown",
   "id": "47ad0b51",
   "metadata": {},
   "source": [
    "## Binary Search\n",
    "- Used to find elements in a collection\n",
    "- Only works on sorted collections"
   ]
  },
  {
   "cell_type": "code",
   "execution_count": null,
   "id": "95475ac8",
   "metadata": {},
   "outputs": [],
   "source": []
  },
  {
   "cell_type": "code",
   "execution_count": null,
   "id": "7cdedafb",
   "metadata": {},
   "outputs": [],
   "source": []
  },
  {
   "cell_type": "code",
   "execution_count": null,
   "id": "dca7f827",
   "metadata": {},
   "outputs": [],
   "source": [
    "from operator import itemgetter, attrgetter\n",
    "student_tuples = [('john', 'A', 15),('jane', 'B', 12),('dave', 'B', 10)]\n",
    "\n",
    "student_objects = [Student('john', 'A', 15),Student('jane', 'B', 12),Student('dave', 'B', 10)]"
   ]
  },
  {
   "cell_type": "code",
   "execution_count": null,
   "id": "57a403c4",
   "metadata": {},
   "outputs": [],
   "source": [
    "sorted(student_tuples, key=itemgetter(2))"
   ]
  },
  {
   "cell_type": "code",
   "execution_count": null,
   "id": "37a32d85",
   "metadata": {},
   "outputs": [],
   "source": [
    "sorted(student_objects, key=attrgetter('age'))"
   ]
  },
  {
   "cell_type": "code",
   "execution_count": null,
   "id": "189b606a",
   "metadata": {},
   "outputs": [],
   "source": [
    "sorted(student_tuples, key=itemgetter(1,2))"
   ]
  },
  {
   "cell_type": "code",
   "execution_count": null,
   "id": "1db17564",
   "metadata": {},
   "outputs": [],
   "source": [
    "sorted(student_objects, key=attrgetter('grade', 'age'))"
   ]
  },
  {
   "cell_type": "markdown",
   "id": "3de6a6bb",
   "metadata": {},
   "source": [
    "## Get Sum of Array Elements"
   ]
  },
  {
   "cell_type": "code",
   "execution_count": null,
   "id": "a9243135",
   "metadata": {},
   "outputs": [],
   "source": [
    "nums = [1,2,3,4]\n",
    "n = len(nums)            # get len of array\n",
    "sum = 0\n",
    "\n",
    "for i in range(0,n):     # iterate through nums array\n",
    "    sum+=nums[i]         # for each element i array add it to the value of sum. \n",
    "    \n",
    "print(\"Sum of Array Elements:\", sum)"
   ]
  },
  {
   "cell_type": "code",
   "execution_count": null,
   "id": "4237cb28",
   "metadata": {},
   "outputs": [],
   "source": [
    "# Sorting Arrat w/ Numerical Elements\n",
    "\n",
    "nums = [1,4,3,4,5,6,3,4,5,2]\n",
    "nums.sort()\n",
    "nums"
   ]
  },
  {
   "cell_type": "code",
   "execution_count": null,
   "id": "d28a9978",
   "metadata": {},
   "outputs": [],
   "source": [
    "# Sorting Array w/ String Elements\n",
    "_str = ['a','b','a','t','e','b','c','r','z']\n",
    "_str.sort()\n",
    "_str"
   ]
  },
  {
   "cell_type": "code",
   "execution_count": null,
   "id": "e14a6387",
   "metadata": {},
   "outputs": [],
   "source": [
    "# Sorting Array w/ String Elements of Various Sizes\n",
    "nums_str = ['one','four','three','four','a', 'a', 'b', 'b', 'c']\n",
    "nums_str.sort()\n",
    "nums_str"
   ]
  },
  {
   "cell_type": "markdown",
   "id": "a5840924",
   "metadata": {},
   "source": [
    "## Binary Search"
   ]
  },
  {
   "cell_type": "code",
   "execution_count": null,
   "id": "7bfebcbf",
   "metadata": {},
   "outputs": [],
   "source": [
    "def binarySearch(arr, target):\n",
    "    left = 0\n",
    "    right = len(arr)-1\n",
    "    while left <= right:\n",
    "        mid = (left+right)//2\n",
    "        if arr[mid] == target:\n",
    "            return mid\n",
    "        elif arr[mid] < target:\n",
    "            left = mid + 1\n",
    "        else:\n",
    "            right = mid - 1\n",
    "            print(right)\n",
    "    return -1\n",
    "\n",
    "arr = [1,2,3,8,6,45,7,8,9,906,4,3,3,6,78,90,5,54]\n",
    "arr.sort()\n",
    "target = [5]\n",
    "\n",
    "result = binarySearch(arr, 6)\n",
    "\n",
    "if result != -1:\n",
    "    print(\"Element is present at index %d\" % result)\n",
    "else:\n",
    "    print(\"Element is not present in array\")"
   ]
  },
  {
   "cell_type": "markdown",
   "id": "200a596a",
   "metadata": {},
   "source": [
    "## Sliding Window (Optimization Technique)\n",
    "\n",
    "Problem Statement:\n",
    "\n",
    "Given an array of integers of size N, find the maximum sum of K consequitive elements. "
   ]
  },
  {
   "cell_type": "code",
   "execution_count": null,
   "id": "49930237",
   "metadata": {},
   "outputs": [],
   "source": [
    "# Brute Force Approach to Sliding Window\n",
    "\n",
    "def maxSum(arr, k):\n",
    "    max_sum = 0\n",
    "    n = len(arr)\n",
    "    for i in range(0<n-k+1):\n",
    "        current_sum = 0\n",
    "        for j in range(0,k):\n",
    "            current_sum += arr[i+j]\n",
    "        max_sum = max(current_sum, max_sum)\n",
    "    print(max_sum)\n",
    "    \n",
    "arr = [1,2,3,4,5]\n",
    "k = 2\n",
    "        \n",
    "maxSum(arr,k)\n"
   ]
  },
  {
   "cell_type": "code",
   "execution_count": null,
   "id": "5b0df311",
   "metadata": {},
   "outputs": [],
   "source": [
    "# Sliding Window\n",
    "lst = [1,2,3,4,5,6,7,8]\n",
    "\n",
    "def sliding_window(elements, window_size):\n",
    "    if len(elements) <= window_size:\n",
    "        return elements\n",
    "    for i in range(len(elements)):\n",
    "        print(elements[i:i+window_size])\n",
    "        \n",
    "sliding_window(lst, 3)"
   ]
  },
  {
   "cell_type": "code",
   "execution_count": null,
   "id": "a42b3fc4",
   "metadata": {},
   "outputs": [],
   "source": [
    "# Slidng Windows - Stop on Windows Size\n",
    "# Improvement on the previous example.\n",
    "\n",
    "lst = [1,2,3,4,5,6,7,8]\n",
    "\n",
    "def sliding_window(elements, window_size):\n",
    "    if len(elements) <= window_size:\n",
    "        return elements\n",
    "    for i in range(len(elements) - window_size + 1):\n",
    "        print(elements[i:i+window_size])\n",
    "\n",
    "sliding_window(lst, 3)"
   ]
  },
  {
   "cell_type": "code",
   "execution_count": null,
   "id": "67762a75",
   "metadata": {},
   "outputs": [],
   "source": []
  },
  {
   "cell_type": "code",
   "execution_count": null,
   "id": "8a6bb7fb",
   "metadata": {},
   "outputs": [],
   "source": [
    "# Siding Window w/ Generator\n",
    "lst = [1,2,3,4,5,6,7,8]\n",
    "\n",
    "def sliding_window(elements, window_size):\n",
    "\n",
    "    if len(elements) <= window_size:\n",
    "        return elements\n",
    "\n",
    "    for i in range(len(elements) - window_size + 1):\n",
    "        yield elements[i:i+window_size] # Using yield defines the function as a generator\n",
    "\n",
    "sw_gen = sliding_window(lst, 3)\n",
    "print(next(sw_gen))\n",
    "print(next(sw_gen))"
   ]
  },
  {
   "cell_type": "code",
   "execution_count": null,
   "id": "c7272cb9",
   "metadata": {},
   "outputs": [],
   "source": [
    "# Sliding Window to Calcuate Subtrings\n",
    "s = \"eidbaooo\"\n",
    "def sliding_window(elements, window_size):\n",
    "    if len(elements) <= window_size:\n",
    "        return elements\n",
    "    for i in range(len(elements) - window_size + 1):\n",
    "        print(elements[i:i+window_size])\n",
    "\n",
    "sliding_window(s,2)"
   ]
  },
  {
   "cell_type": "code",
   "execution_count": null,
   "id": "09cd9e6a",
   "metadata": {},
   "outputs": [],
   "source": []
  },
  {
   "cell_type": "markdown",
   "id": "c5ed81c9",
   "metadata": {},
   "source": [
    "## 4sum 2"
   ]
  },
  {
   "cell_type": "code",
   "execution_count": null,
   "id": "354cb7b4",
   "metadata": {},
   "outputs": [],
   "source": [
    "class Solution:\n",
    "    def fourSumCount(self, A: List[int], B: List[int], C: List[int], D: List[int]) -> int:\n",
    "      m = {}\n",
    "      ans = 0\n",
    "\n",
    "      for i in range(0,len(A)):\n",
    "        x = A[i]\n",
    "        for j in range(0,len(B)):\n",
    "          y = B[j]\n",
    "          if(x+y not in m):\n",
    "            m[x+y] = 0\n",
    "          m[x+y]+=1\n",
    "\n",
    "      for i in range(0,len(C)):\n",
    "        x = C[i]\n",
    "        for j in range(0,len(D)):\n",
    "          y = D[j]\n",
    "          target = -(x+y)\n",
    "          if(target in m):\n",
    "            ans+=m[target]\n",
    "\n",
    "      return ans"
   ]
  },
  {
   "cell_type": "markdown",
   "id": "49d1772d",
   "metadata": {},
   "source": [
    "## Best Time to Buy/Sell Stocks"
   ]
  },
  {
   "cell_type": "code",
   "execution_count": null,
   "id": "5d320b9c",
   "metadata": {},
   "outputs": [],
   "source": [
    "class Solution:\n",
    "    def maxProfit(self, prices: List[int]) -> int:\n",
    "        buyPrice = float(\"inf\")\n",
    "        profit = 0\n",
    "\n",
    "        for i, price in enumerate(prices):\n",
    "            if(buyPrice > price):\n",
    "                buyPrice = price\n",
    "            else:\n",
    "                profit = max(profit, price-buyPrice)\n",
    "\n",
    "        return profit"
   ]
  },
  {
   "cell_type": "markdown",
   "id": "33a23b5f",
   "metadata": {},
   "source": [
    "## Binary Tree Level Order Traversal"
   ]
  },
  {
   "cell_type": "code",
   "execution_count": null,
   "id": "5dfedc81",
   "metadata": {},
   "outputs": [],
   "source": [
    "# Definition for a binary tree node.\n",
    "# class TreeNode:\n",
    "#     def __init__(self, x):\n",
    "#         self.val = x\n",
    "#         self.left = None\n",
    "#         self.right = None\n",
    "\n",
    "from collections import deque\n",
    "\n",
    "class Solution:\n",
    "    def levelOrder(self, root: TreeNode) -> List[List[int]]:\n",
    "        ans = []\n",
    "\n",
    "        if(root is None):\n",
    "            return ans\n",
    "        \n",
    "        q = deque([root])\n",
    "\n",
    "        while(q):\n",
    "            n = len(q)\n",
    "            temp = []\n",
    "            for i in range(0,n):\n",
    "                f = q.popleft()\n",
    "                temp.append(f.val)\n",
    "\n",
    "                if(f.left is not None):\n",
    "                    q.append(f.left)\n",
    "                if(f.right is not None):\n",
    "                    q.append(f.right)\n",
    "\n",
    "            if(len(temp)>0):\n",
    "                ans.append(temp[:])\n",
    "                temp.clear()\n",
    "        return ans"
   ]
  },
  {
   "cell_type": "markdown",
   "id": "b5adc690",
   "metadata": {},
   "source": [
    "### Binary Tree Maximum Path Sum"
   ]
  },
  {
   "cell_type": "code",
   "execution_count": null,
   "id": "fa44b27e",
   "metadata": {},
   "outputs": [],
   "source": [
    "# Definition for a binary tree node.\n",
    "# class TreeNode:\n",
    "#     def __init__(self, x):\n",
    "#         self.val = x\n",
    "#         self.left = None\n",
    "#         self.right = None\n",
    "\n",
    "\n",
    "class Solution:\n",
    "    ans = -float(\"inf\")\n",
    "    def solution(self,node):\n",
    "        if(node is None):\n",
    "            return 0\n",
    "        left = self.solution(node.left)\n",
    "        right = self.solution(node.right)\n",
    "\n",
    "        mxSide = max(node.val,max(left,right)+node.val)\n",
    "        mxTop = max(mxSide,left+right+node.val)\n",
    "        self.ans = max(self.ans,mxTop)\n",
    "        return mxSide\n",
    "\n",
    "    def maxPathSum(self, root: TreeNode) -> int:\n",
    "        self.solution(root)\n",
    "        return self.ans"
   ]
  },
  {
   "cell_type": "markdown",
   "id": "b5351a82",
   "metadata": {},
   "source": [
    "### Least Combinations of a Phone Number"
   ]
  },
  {
   "cell_type": "code",
   "execution_count": null,
   "id": "9185ab25",
   "metadata": {},
   "outputs": [],
   "source": [
    "class Solution:\n",
    "\n",
    "    def backtracking(self, ans, m, digits, combination, index):\n",
    "        if(index > len(digits)):\n",
    "            return\n",
    "        if(len(combination) == len(digits)):\n",
    "            ans.append(combination[:])\n",
    "            return\n",
    "\n",
    "        currentDigit = digits[index]\n",
    "        curString = m[currentDigit]\n",
    "\n",
    "        for i in range(len(curString)):\n",
    "            self.backtracking(ans, m, digits, combination +\n",
    "                              curString[i], index+1)\n",
    "\n",
    "    def letterCombinations(self, digits: str) -> List[str]:\n",
    "        ans = []\n",
    "        if(len(digits) == 0):\n",
    "            return ans\n",
    "\n",
    "        m = {}\n",
    "\n",
    "        m['2'] = \"abc\"\n",
    "        m['3'] = \"def\"\n",
    "        m['4'] = \"ghi\"\n",
    "        m['5'] = \"jkl\"\n",
    "        m['6'] = \"mno\"\n",
    "        m['7'] = \"pqrs\"\n",
    "        m['8'] = \"tuv\"\n",
    "        m['9'] = \"wxyz\"\n",
    "\n",
    "        self.backtracking(ans, m, digits, \"\", 0)\n",
    "\n",
    "        return ans"
   ]
  },
  {
   "cell_type": "markdown",
   "id": "76794112",
   "metadata": {},
   "source": [
    "### Merge k Sorted List"
   ]
  },
  {
   "cell_type": "code",
   "execution_count": null,
   "id": "cb29522b",
   "metadata": {},
   "outputs": [],
   "source": [
    "# Definition for singly-linked list.\n",
    "# class ListNode:\n",
    "#     def __init__(self, x):\n",
    "#         self.val = x\n",
    "#         self.next = None\n",
    "\n",
    "\n",
    "class Solution:\n",
    "\n",
    "    def mergeTwoLists(self, l1, l2):\n",
    "        cur = ListNode(0)\n",
    "        ans = cur\n",
    "\n",
    "        while(l1 and l2):\n",
    "            if(l1.val > l2.val):\n",
    "                cur.next = l2\n",
    "                l2 = l2.next\n",
    "\n",
    "            else:\n",
    "                cur.next = l1\n",
    "                l1 = l1.next\n",
    "            cur = cur.next\n",
    "\n",
    "        while(l1):\n",
    "            cur.next = l1\n",
    "            l1 = l1.next\n",
    "            cur = cur.next\n",
    "        while(l2):\n",
    "            cur.next = l2\n",
    "            l2 = l2.next\n",
    "            cur = cur.next\n",
    "        return ans.next\n",
    "\n",
    "    def mergeKLists(self, lists: List[ListNode]) -> ListNode:\n",
    "        if(len(lists) == 0):\n",
    "            return None\n",
    "\n",
    "        i = 0\n",
    "        last = len(lists)-1\n",
    "        j = last\n",
    "\n",
    "        while(last != 0):\n",
    "            i = 0\n",
    "            j = last\n",
    "\n",
    "            while(j > i):\n",
    "                lists[i] = self.mergeTwoLists(lists[i], lists[j])\n",
    "                i += 1\n",
    "                j -= 1\n",
    "                last = j\n",
    "\n",
    "        return lists[0]"
   ]
  },
  {
   "cell_type": "markdown",
   "id": "154b81f4",
   "metadata": {},
   "source": [
    "### Serialize and Deserialize Binary Tree"
   ]
  },
  {
   "cell_type": "code",
   "execution_count": null,
   "id": "cd65980b",
   "metadata": {},
   "outputs": [],
   "source": [
    "# Definition for a binary tree node.\n",
    "# class TreeNode(object):\n",
    "#     def __init__(self, x):\n",
    "#         self.val = x\n",
    "#         self.left = None\n",
    "#         self.right = None\n",
    "\n",
    "\n",
    "class Codec:\n",
    "\n",
    "    def serialize(self, root):\n",
    "        \"\"\"Encodes a tree to a single string.\n",
    "        :type root: TreeNode\n",
    "        :rtype: str\n",
    "        \"\"\"\n",
    "        if(root is None):\n",
    "            return \"X#\"\n",
    "\n",
    "        leftSerialized = self.serialize(root.left)\n",
    "        rightSerialized = self.serialize(root.right)\n",
    "\n",
    "        return str(root.val)+\"#\"+leftSerialized+rightSerialized\n",
    "\n",
    "    def deserialize(self, data):\n",
    "        \"\"\"Decodes your encoded data to tree.\n",
    "        :type data: str\n",
    "        :rtype: TreeNode\n",
    "        \"\"\"\n",
    "\n",
    "        def dfs():\n",
    "            val = next(data)\n",
    "            if val == 'X':\n",
    "                return None\n",
    "            node = TreeNode(int(val))\n",
    "\n",
    "            node.left = dfs()\n",
    "            node.right = dfs()\n",
    "\n",
    "            return node\n",
    "\n",
    "        data = iter(data.split(\"#\"))\n",
    "        return dfs()\n",
    "\n",
    "\n",
    "# Your Codec object will be instantiated and called as such:\n",
    "# codec = Codec()\n",
    "# codec.deserialize(codec.serialize(root))"
   ]
  },
  {
   "cell_type": "markdown",
   "id": "2fa88ff0",
   "metadata": {},
   "source": [
    "### Add Binary"
   ]
  },
  {
   "cell_type": "code",
   "execution_count": null,
   "id": "0a6178b0",
   "metadata": {},
   "outputs": [],
   "source": [
    "class Solution(object):\n",
    "    def addBinary(self, a, b):\n",
    "        result = []\n",
    "        carry = 0\n",
    "        i = len(a)-1\n",
    "        j = len(b)-1\n",
    "\n",
    "        while i >= 0 or j >= 0 or carry:\n",
    "            total = carry\n",
    "\n",
    "            if i >= 0:\n",
    "                total += int(a[i])\n",
    "                i -= 1\n",
    "            if j >= 0:\n",
    "                total += int(b[j])\n",
    "                j -= 1\n",
    "\n",
    "            result.append(str(total % 2))\n",
    "            carry = total//2\n",
    "\n",
    "        return ''.join(reversed(result))"
   ]
  },
  {
   "cell_type": "markdown",
   "id": "ee0e24a8",
   "metadata": {},
   "source": [
    "### Add Two Numbers"
   ]
  },
  {
   "cell_type": "code",
   "execution_count": null,
   "id": "40b69c82",
   "metadata": {},
   "outputs": [],
   "source": [
    "# Definition for singly-linked list.\n",
    "# class ListNode:\n",
    "#     def __init__(self, x):\n",
    "#         self.val = x\n",
    "#         self.next = None\n",
    "\n",
    "class Solution:\n",
    "    def addTwoNumbers(self, l1: ListNode, l2: ListNode) -> ListNode:\n",
    "        ans = ListNode(None)\n",
    "        pointer = ans\n",
    "\n",
    "        carry = 0\n",
    "        sum = 0\n",
    "\n",
    "        while(l1!=None or l2!=None):\n",
    "            sum = carry\n",
    "            if(l1!=None):\n",
    "                sum+=l1.val\n",
    "                l1 = l1.next\n",
    "            if(l2!=None):\n",
    "                sum+=l2.val\n",
    "                l2 = l2.val\n",
    "            \n",
    "            carry = int(sum/10)\n",
    "            pointer.next  = ListNode(sum%10)\n",
    "\n",
    "            pointer = pointer.next\n",
    "        \n",
    "        if(carry>0):\n",
    "            pointer.next = ListNode(carry)\n",
    "        \n",
    "        return ans.next"
   ]
  },
  {
   "cell_type": "markdown",
   "id": "feb65afb",
   "metadata": {},
   "source": [
    "### Binary Tree Post Order Traversal"
   ]
  },
  {
   "cell_type": "code",
   "execution_count": null,
   "id": "70042077",
   "metadata": {},
   "outputs": [],
   "source": [
    "# Definition for a binary tree node.\n",
    "# class TreeNode:\n",
    "#     def __init__(self, x):\n",
    "#         self.val = x\n",
    "#         self.left = None\n",
    "#         self.right = None\n",
    "\n",
    "class Solution:\n",
    "    def postorderTraversal(self, root: TreeNode) -> List[int]:\n",
    "        if(not root):\n",
    "            return\n",
    "        \n",
    "        ans = []\n",
    "        s1 = []\n",
    "        s2 = []\n",
    "\n",
    "        s1.append(root)\n",
    "\n",
    "        while(s1):\n",
    "            x = s1[-1]\n",
    "            s1.pop()\n",
    "            s2.append(x)\n",
    "\n",
    "            if(x.left):\n",
    "                s1.append(x.left)\n",
    "            if(x.right):\n",
    "                s1.append(x.right)\n",
    "        \n",
    "        while(s2):\n",
    "            y = s2[-1]\n",
    "            s2.pop()\n",
    "            ans.append(y.val)\n",
    "        return ans"
   ]
  },
  {
   "cell_type": "markdown",
   "id": "a41e91a2",
   "metadata": {},
   "source": [
    "### Binary Tree Zigag Order Traversal"
   ]
  },
  {
   "cell_type": "code",
   "execution_count": null,
   "id": "9670c8e8",
   "metadata": {},
   "outputs": [],
   "source": [
    "# Definition for a binary tree node.\n",
    "# class TreeNode:\n",
    "#     def init(self, x):\n",
    "#         self.val = x\n",
    "#         self.left = None\n",
    "#         self.right = None\n",
    "\n",
    "\n",
    "class Solution:\n",
    "    def zigzagLevelOrder(self, root: TreeNode) -> List[List[int]]:\n",
    "        if not root:\n",
    "            return []\n",
    "        res = []\n",
    "        q = collections.deque()\n",
    "\n",
    "        zigzag = False\n",
    "        q.append(root)\n",
    "\n",
    "        while q:\n",
    "            level = []\n",
    "            for _ in range(len(q)):\n",
    "                if zigzag:\n",
    "                    node = q.pop()\n",
    "                    level.append(node.val)\n",
    "                    if node.right:\n",
    "                        q.appendleft(node.right)\n",
    "                    if node.left:\n",
    "                        q.appendleft(node.left)\n",
    "\n",
    "                else:\n",
    "                    node = q.popleft()\n",
    "                    level.append(node.val)\n",
    "                    if node.left:\n",
    "                        q.append(node.left)\n",
    "                    if node.right:\n",
    "                        q.append(node.right)\n",
    "            res.append(level)\n",
    "            zigzag = not zigzag\n",
    "\n",
    "        return res"
   ]
  },
  {
   "cell_type": "markdown",
   "id": "2efdc672",
   "metadata": {},
   "source": [
    "### Boats to Save People"
   ]
  },
  {
   "cell_type": "code",
   "execution_count": null,
   "id": "439b329a",
   "metadata": {},
   "outputs": [],
   "source": [
    "class Solution:\n",
    "    def numRescueBoats(self, people: List[int], limit: int) -> int:\n",
    "        people.sort()\n",
    "\n",
    "        left = 0\n",
    "        right = len(people)-1\n",
    "\n",
    "        boats_number = 0\n",
    "\n",
    "        while(left<=right):\n",
    "            if(left==right):\n",
    "                boats_number+=1\n",
    "                break\n",
    "            if(people[left]+people[right]<=limit):\n",
    "                left+=1\n",
    "\n",
    "            right-=1\n",
    "            boats_number+=1\n",
    "        return "
   ]
  },
  {
   "cell_type": "markdown",
   "id": "b73325b1",
   "metadata": {},
   "source": [
    "## Climbing Stairs"
   ]
  },
  {
   "cell_type": "code",
   "execution_count": null,
   "id": "4fd57469",
   "metadata": {},
   "outputs": [],
   "source": [
    "class Solution:\n",
    "    def climbStairs(self, n: int) -> int:\n",
    "        if(n == 1):\n",
    "            return 1\n",
    "        dp = [0]*(n+1)\n",
    "        dp[1] = 1\n",
    "        dp[2] = 2\n",
    "\n",
    "        for i in range(3, n+1):\n",
    "            dp[i] = dp[i-1]+d[i-2]\n",
    "\n",
    "        return dp[n]"
   ]
  },
  {
   "cell_type": "markdown",
   "id": "b874bbd0",
   "metadata": {},
   "source": [
    "### Coin Change"
   ]
  },
  {
   "cell_type": "code",
   "execution_count": null,
   "id": "f5c5feba",
   "metadata": {},
   "outputs": [],
   "source": [
    "class Solution:\n",
    "    def coinChange(self, coins: List[int], amount: int) -> int:\n",
    "        if amount <= 0:\n",
    "            return 0\n",
    "        \n",
    "        if min(coins) > amount:\n",
    "            return -1\n",
    "\n",
    "        INT_MAX = 1<<32\n",
    "        dp = [INT_MAX] * (amount +1)\n",
    "        \n",
    "        dp[0] = 0\n",
    "        \n",
    "        for i in range(1, amount + 1):\n",
    "            for coin in coins:\n",
    "                if coin <= i:\n",
    "                    dp[i] = min((dp[i-coin] + 1), dp[i])\n",
    "                    \n",
    "        return dp[amount] if dp[amount] != INT_MAX else -1"
   ]
  },
  {
   "cell_type": "markdown",
   "id": "b360aecf",
   "metadata": {},
   "source": [
    "### Combination Sum"
   ]
  },
  {
   "cell_type": "code",
   "execution_count": null,
   "id": "e13bc47e",
   "metadata": {},
   "outputs": [],
   "source": [
    "class Solution:\n",
    "    def solution(self, candidates,ans,cur,target,index,sum):\n",
    "        if(sum==target):\n",
    "            ans.append(cur[:])\n",
    "        elif(sum<target):\n",
    "            n = len(candidates)\n",
    "            for i in range(index,n):\n",
    "                cur.append(candidates[i])\n",
    "                self.solution(candidates,ans,cur,target,i,sum+candidates[i])\n",
    "                cur.pop()\n",
    "        return\n",
    "    def combinationSum(self, candidates: List[int], target: int) -> List[List[int]]:\n",
    "        ans = []\n",
    "        cur = []\n",
    "        self.solution(candidates,ans,cur,target,0,0)\n",
    "        return ans"
   ]
  },
  {
   "cell_type": "markdown",
   "id": "6618525c",
   "metadata": {},
   "source": [
    "### Contain Duplicate"
   ]
  },
  {
   "cell_type": "code",
   "execution_count": null,
   "id": "b27361a4",
   "metadata": {},
   "outputs": [],
   "source": [
    "from collections import defaultdict\n",
    "\n",
    "class Solution:\n",
    "    def containsDuplicate(self, nums: List[int]) -> bool:\n",
    "        m = defaultdict(int)\n",
    "\n",
    "        for num in nums:\n",
    "            if m[num]:\n",
    "                return True\n",
    "            m[num]+=1\n",
    "        return False"
   ]
  },
  {
   "cell_type": "markdown",
   "id": "5fc74261",
   "metadata": {},
   "source": [
    "### Contain w/ Most Water"
   ]
  },
  {
   "cell_type": "code",
   "execution_count": null,
   "id": "b54fa843",
   "metadata": {},
   "outputs": [],
   "source": [
    "class Solution:\n",
    "    def maxArea(self, height: List[int]) -> int:\n",
    "        maxarea = 0\n",
    "        l = 0\n",
    "        r = len(height)-1\n",
    "\n",
    "        while(l<r):\n",
    "            maxarea = max(maxarea, min(height[l],height[r])*(r-l))\n",
    "            if(height[l]<height[r]):\n",
    "                l+=1\n",
    "            else:\n",
    "                r-=1\n",
    "        return maxarea"
   ]
  },
  {
   "cell_type": "markdown",
   "id": "6739bc5a",
   "metadata": {},
   "source": [
    "### Count Primes"
   ]
  },
  {
   "cell_type": "code",
   "execution_count": null,
   "id": "a571d968",
   "metadata": {},
   "outputs": [],
   "source": [
    "class Solution:\n",
    "    def countPrimes(self, n: int) -> int:\n",
    "        \n",
    "        if n<2:\n",
    "            return 0\n",
    "        isPrime = [True]*n\n",
    "        isPrime[0] = isPrime[1] = False\n",
    "        \n",
    "        for i in range(2,math.ceil(math.sqrt(n))):\n",
    "            if isPrime[i]:\n",
    "                for multiples_of_i in range(i*i,n,i):\n",
    "                    isPrime[multiples_of_i] = False\n",
    "        \n",
    "        return sum(isPrime)"
   ]
  },
  {
   "cell_type": "markdown",
   "id": "527e445a",
   "metadata": {},
   "source": [
    "### Find First and Last of Last Element in Sorted Array"
   ]
  },
  {
   "cell_type": "code",
   "execution_count": null,
   "id": "f6266f3f",
   "metadata": {},
   "outputs": [],
   "source": [
    "class Solution:\n",
    "    def getLeftPosition(self, nums, target):\n",
    "        left = 0\n",
    "        right = len(nums)-1\n",
    "\n",
    "        while(left <= right):\n",
    "            mid = left+(right-left)//2\n",
    "            if(nums[mid] == target):\n",
    "                if(mid-1 >= 0 and nums[mid-1] != target or mid == 0):\n",
    "                    return mid\n",
    "                right = mid-1\n",
    "            elif(nums[mid] > target):\n",
    "                right = mid-1\n",
    "            else:\n",
    "                left = mid+1\n",
    "\n",
    "        return -1\n",
    "\n",
    "    def getRightPosition(self, nums, target):\n",
    "        left = 0\n",
    "        right = len(nums)-1\n",
    "\n",
    "        while(left <= right):\n",
    "            mid = left+(right-left)//2\n",
    "            if(nums[mid] == target):\n",
    "                if(mid+1 < len(nums) and nums[mid+1] != target or mid == len(nums)-1):\n",
    "                    return mid\n",
    "                left = mid+1\n",
    "            elif(nums[mid] > target):\n",
    "                right = mid-1\n",
    "            else:\n",
    "                left = mid+1\n",
    "\n",
    "        return -1\n",
    "\n",
    "    def searchRange(self, nums: List[int], target: int) -> List[int]:\n",
    "        left = self.getLeftPosition(nums, target)\n",
    "        right = self.getRightPosition(nums, target)\n",
    "\n",
    "        return [left, right]"
   ]
  },
  {
   "cell_type": "markdown",
   "id": "af5d862a",
   "metadata": {},
   "source": [
    "### First Bad Version"
   ]
  },
  {
   "cell_type": "code",
   "execution_count": null,
   "id": "ddad3caa",
   "metadata": {},
   "outputs": [],
   "source": [
    "# The isBadVersion API is already defined for you.\n",
    "# @param version, an integer\n",
    "# @return a bool\n",
    "# def isBadVersion(version):\n",
    "\n",
    "\n",
    "class Solution:\n",
    "    def firstBadVersion(self, n):\n",
    "        left = 1\n",
    "        right = n\n",
    "\n",
    "        while(left < right):\n",
    "            mid = left+(right-left)//2\n",
    "            if not isBadVersion(mid):\n",
    "                left = mid+1\n",
    "            else:\n",
    "                right = mid\n",
    "        return left"
   ]
  },
  {
   "cell_type": "markdown",
   "id": "c0652f69",
   "metadata": {},
   "source": [
    "### Group Anagrams"
   ]
  },
  {
   "cell_type": "code",
   "execution_count": null,
   "id": "ba0b8662",
   "metadata": {},
   "outputs": [],
   "source": [
    "class Solution:\n",
    "    def findHash(self,s):\n",
    "        return ''.join(sorted(s))\n",
    "    def groupAnagrams(self, strs: List[str]) -> List[List[str]]:\n",
    "        answers = []\n",
    "        m = {}\n",
    "\n",
    "        for s in strs:\n",
    "            hashed = self.findHash(s)\n",
    "            if(hashed not in m):\n",
    "                m[hashed] = []\n",
    "            m[hashed].append(s)\n",
    "        \n",
    "        for p in m.values():\n",
    "            answers.append(p)\n",
    "        \n",
    "        return answers"
   ]
  },
  {
   "cell_type": "markdown",
   "id": "1c717dad",
   "metadata": {},
   "source": [
    "### House Robber"
   ]
  },
  {
   "cell_type": "code",
   "execution_count": null,
   "id": "ea66c246",
   "metadata": {},
   "outputs": [],
   "source": [
    "class Solution:\n",
    "    def rob(self, nums: List[int]) -> int:\n",
    "        n = len(nums)\n",
    "        if(n==0):\n",
    "            return 0\n",
    "        \n",
    "        dp = [0] * n\n",
    "        dp[0] = nums[0]\n",
    "\n",
    "        for i in range(1,n):\n",
    "            if(i==1):\n",
    "                dp[i] = max(nums[0],nums[1])\n",
    "            else:\n",
    "                dp[i] = max(dp[i-1], dp[i-2]+nums[i])\n",
    "            \n",
    "        return dp[-1]"
   ]
  },
  {
   "cell_type": "code",
   "execution_count": null,
   "id": "f31c1c27",
   "metadata": {},
   "outputs": [],
   "source": [
    "### Kth Smallest Element in a BST"
   ]
  },
  {
   "cell_type": "code",
   "execution_count": null,
   "id": "7a6a0e42",
   "metadata": {},
   "outputs": [],
   "source": []
  },
  {
   "cell_type": "code",
   "execution_count": null,
   "id": "e13684a7",
   "metadata": {},
   "outputs": [],
   "source": []
  },
  {
   "cell_type": "code",
   "execution_count": null,
   "id": "e07f385b",
   "metadata": {},
   "outputs": [],
   "source": []
  },
  {
   "cell_type": "code",
   "execution_count": null,
   "id": "89de508a",
   "metadata": {},
   "outputs": [],
   "source": []
  },
  {
   "cell_type": "code",
   "execution_count": null,
   "id": "347ca7ac",
   "metadata": {},
   "outputs": [],
   "source": []
  },
  {
   "cell_type": "code",
   "execution_count": null,
   "id": "02d90063",
   "metadata": {},
   "outputs": [],
   "source": []
  },
  {
   "cell_type": "code",
   "execution_count": null,
   "id": "d91b08e5",
   "metadata": {},
   "outputs": [],
   "source": []
  },
  {
   "cell_type": "code",
   "execution_count": null,
   "id": "a21f4865",
   "metadata": {},
   "outputs": [],
   "source": []
  },
  {
   "cell_type": "code",
   "execution_count": null,
   "id": "8b573f18",
   "metadata": {},
   "outputs": [],
   "source": []
  },
  {
   "cell_type": "code",
   "execution_count": null,
   "id": "a8e1f976",
   "metadata": {},
   "outputs": [],
   "source": []
  },
  {
   "cell_type": "code",
   "execution_count": null,
   "id": "c1e7ce74",
   "metadata": {},
   "outputs": [],
   "source": []
  },
  {
   "cell_type": "code",
   "execution_count": null,
   "id": "48ab3134",
   "metadata": {},
   "outputs": [],
   "source": []
  },
  {
   "cell_type": "code",
   "execution_count": null,
   "id": "6a51e4a5",
   "metadata": {},
   "outputs": [],
   "source": []
  },
  {
   "cell_type": "code",
   "execution_count": null,
   "id": "1f535191",
   "metadata": {},
   "outputs": [],
   "source": []
  },
  {
   "cell_type": "code",
   "execution_count": null,
   "id": "c72d8e4e",
   "metadata": {},
   "outputs": [],
   "source": []
  },
  {
   "cell_type": "markdown",
   "id": "26a41789",
   "metadata": {},
   "source": [
    "## Data Types"
   ]
  },
  {
   "cell_type": "code",
   "execution_count": null,
   "id": "634fae2b",
   "metadata": {},
   "outputs": [],
   "source": [
    "x = \"Hello World\" # string\n",
    "print('\\nString:',x)\n",
    "x = 20 # integer\n",
    "print('Integer',x)\n",
    "x = 20.5 # float\n",
    "print('Float:',x)\n",
    "x = 1j # complex\n",
    "print('Complex:',x)\n",
    "x = [\"apple\", \"banana\", \"cherry\"] # list\n",
    "print('List:',x)\n",
    "x = (\"apple\", \"banana\", \"cherry\") # tuple\n",
    "print('Tuple:',x)\n",
    "x = range(6) # range\n",
    "print('Range:',x)\n",
    "x = {\"name\" : \"John\", \"age\" : 36} # dict\n",
    "print('Dict:',x)\n",
    "x = {\"apple\", \"banana\", \"cherry\"} # set\n",
    "print('Set:',x)\n",
    "x = frozenset({\"apple\", \"banana\", \"cherry\"}) # frozen set\n",
    "print('Frozen Set:',x)\n",
    "x = True # boolean\n",
    "print('Boolean:',x)\n",
    "x = b\"Hello\" # bytes\n",
    "print('Bytes:',x)\n",
    "x = bytearray(5) # byte array\n",
    "print('Byte Array:',x)\n",
    "x = memoryview(bytes(5)) # memory view\n",
    "print('Memory View:',x)\n",
    "x = None # none type\n",
    "print('None Type:',x)"
   ]
  },
  {
   "cell_type": "markdown",
   "id": "968f4c78",
   "metadata": {},
   "source": [
    "## For Loops"
   ]
  },
  {
   "cell_type": "code",
   "execution_count": null,
   "id": "c5091f2a",
   "metadata": {},
   "outputs": [],
   "source": [
    "for i in range(2, 10, 2):\n",
    "    print(i)"
   ]
  },
  {
   "cell_type": "code",
   "execution_count": null,
   "id": "c1798678",
   "metadata": {},
   "outputs": [],
   "source": [
    "a = [1, 3, 5, 7]\n",
    "for x in a:\n",
    "    print(x)"
   ]
  },
  {
   "cell_type": "markdown",
   "id": "e6268186",
   "metadata": {},
   "source": [
    "## While Loop"
   ]
  },
  {
   "cell_type": "code",
   "execution_count": null,
   "id": "5cbc01f1",
   "metadata": {},
   "outputs": [],
   "source": [
    "count = 5\n",
    "while count > 0:\n",
    "    print(count)\n",
    "    count -= 1"
   ]
  },
  {
   "cell_type": "code",
   "execution_count": null,
   "id": "0b79d652",
   "metadata": {},
   "outputs": [],
   "source": [
    "count = 5\n",
    "while count < 10:\n",
    "    print(count)\n",
    "    count += 1"
   ]
  },
  {
   "cell_type": "markdown",
   "id": "2894b31f",
   "metadata": {},
   "source": [
    "## Jump Statements"
   ]
  },
  {
   "cell_type": "code",
   "execution_count": null,
   "id": "b23a3dab",
   "metadata": {},
   "outputs": [],
   "source": [
    "for i in range(5):\n",
    "    print(i)\n",
    "    if i == 3:\n",
    "        print('break!')\n",
    "        break"
   ]
  },
  {
   "cell_type": "code",
   "execution_count": null,
   "id": "ac405dbc",
   "metadata": {},
   "outputs": [],
   "source": [
    "for i in range(5):\n",
    "    if i == 3:\n",
    "        print('continue!')\n",
    "        continue\n",
    "    print(i)"
   ]
  },
  {
   "cell_type": "code",
   "execution_count": null,
   "id": "d9e8b1b2",
   "metadata": {},
   "outputs": [],
   "source": []
  },
  {
   "cell_type": "code",
   "execution_count": null,
   "id": "4b98f7e8",
   "metadata": {},
   "outputs": [],
   "source": []
  },
  {
   "cell_type": "markdown",
   "id": "3983d231",
   "metadata": {},
   "source": [
    "## Functions"
   ]
  },
  {
   "cell_type": "code",
   "execution_count": null,
   "id": "13c4bae0",
   "metadata": {},
   "outputs": [],
   "source": [
    "# Modifying global variable from within a function\n",
    "def func():\n",
    "   global value\n",
    "   value = \"Local\"\n",
    "   \n",
    "value = \"Global\"\n",
    "func()\n",
    "print(value)"
   ]
  },
  {
   "cell_type": "code",
   "execution_count": null,
   "id": "2b0b2fb8",
   "metadata": {},
   "outputs": [],
   "source": [
    "# Function w/ Exception Handling\n",
    "def divide(a, denominator):\n",
    "   try:\n",
    "       return a / denominator\n",
    "   except ZeroDivisionError as e:\n",
    "       print('Divide By Zero!! Terminate!!')\n",
    "   finally:\n",
    "       print('Division Complete.')\n",
    "divide(1,2)"
   ]
  },
  {
   "cell_type": "markdown",
   "id": "fbdf4e9d",
   "metadata": {},
   "source": [
    "## Arrays"
   ]
  },
  {
   "cell_type": "code",
   "execution_count": null,
   "id": "49df8532",
   "metadata": {},
   "outputs": [],
   "source": [
    "arr = [1, 2]\n",
    "print(arr.append(1)) #[1, 2, 1]\n",
    "print(arr.pop()) #[1, 2]\n",
    "arr = arr + [5] # [1, 2, 5], concatenate arrays\n",
    "print(arr)"
   ]
  },
  {
   "cell_type": "code",
   "execution_count": null,
   "id": "24d459d2",
   "metadata": {},
   "outputs": [],
   "source": [
    "# Creating an array\n",
    "n = 10\n",
    "arr = [0] * n # [0, 0, 0, 0, 0]\n",
    "print(arr)"
   ]
  },
  {
   "cell_type": "code",
   "execution_count": null,
   "id": "8f0f9d9c",
   "metadata": {},
   "outputs": [],
   "source": [
    "# Create 2D matrix\n",
    "rows, cols = 5, 5\n",
    "#Note _ in the for loop just means we don't care about the index and are not going to use it so we don't name it\n",
    "arr = [[0] * cols for _ in range(rows)]\n",
    "arr"
   ]
  },
  {
   "cell_type": "code",
   "execution_count": null,
   "id": "fa645fd5",
   "metadata": {},
   "outputs": [],
   "source": [
    "# Arrays: [start:end:sliceLength] where end is exclusive. \n",
    "arr = [1,2,3,4,5,6,7,8,9]\n",
    "print(arr[:]) # [1, 2, 3, 4]\n",
    "print(arr[:2]) # [1, 2] (from index 0 to 1)\n",
    "print(arr[:-1]) #[1, 2, 3] (index from start up to and not including the last element)\n",
    "print(arr) # [1, 2, 3, 4, 5, 6, 7, 8, 9]\n",
    "print(arr[::2]) # [1, 3, 5, 7, 9], return array with steps of 2\n",
    "print(arr[::] == arr[::1]) #(both are equivalent and return the entire array)\n",
    "print(arr[::]) # return entire array\n",
    "print(arr[::2]) # [1, 3] (means start from index 0, and skip an element until the end, so we choose index 0, then index 2 and then it stops since index 4 is not in arr\n",
    "print(arr[::-1]) # [9, 8, 7, 6, 5, 4, 3, 2, 1], slice from end of the array to the beginning\n",
    "print(arr[::-2]) # [9, 7, 5, 3, 1]\\, slice from the end of the array to the beginning in steps of 2\n",
    "print(min(arr)) # Get min value in array\n",
    "print(max(arr)) # Get max value in array"
   ]
  },
  {
   "cell_type": "code",
   "execution_count": null,
   "id": "3429f0a9",
   "metadata": {},
   "outputs": [],
   "source": [
    "# Array: Is the array empty?\n",
    "arr = []\n",
    "if not arr:\n",
    "  print(\"It's empty\")"
   ]
  },
  {
   "cell_type": "code",
   "execution_count": null,
   "id": "204ec7b5",
   "metadata": {},
   "outputs": [],
   "source": [
    "# Sort array\n",
    "arr = [1, 5, 3, 2]\n",
    "arr.sort() #arr is now [1, 2, 3, 5]\n",
    "print(arr)\n",
    "arr.sort(reverse=True)\n",
    "print(arr)"
   ]
  },
  {
   "cell_type": "code",
   "execution_count": null,
   "id": "0baae193",
   "metadata": {},
   "outputs": [],
   "source": [
    "#this lambda function says for every tuple at an arbitray index, return the first element. This means return the first value in every tuple and sort by that\n",
    "arr = [(1, 2), (3, 4), (2, 5), (3, 6)]\n",
    "arr.sort(key = lambda x: x[0])\n",
    "arr # the 2nd value is not sorted a"
   ]
  },
  {
   "cell_type": "markdown",
   "id": "94165337",
   "metadata": {},
   "source": [
    "## String Manipulations"
   ]
  },
  {
   "cell_type": "code",
   "execution_count": null,
   "id": "766c8779",
   "metadata": {},
   "outputs": [],
   "source": [
    "# Split string into characters\n",
    "s = \"Easy\"\n",
    "l = list(s)\n",
    "for i in l: print(i)"
   ]
  },
  {
   "cell_type": "code",
   "execution_count": null,
   "id": "27d5995d",
   "metadata": {},
   "outputs": [],
   "source": [
    "# Concatenate string\n",
    "s = \"ab\"\n",
    "s += 'c' #abc\n",
    "s"
   ]
  },
  {
   "cell_type": "code",
   "execution_count": null,
   "id": "b881f95b",
   "metadata": {},
   "outputs": [],
   "source": [
    "#join, takes in an array of characters and returns a string\n",
    "s = [\"a\", \"b\", \"c\", \"d\"]\n",
    "a = \"\".join(s) # \"abcd\"\n",
    "a"
   ]
  },
  {
   "cell_type": "code",
   "execution_count": null,
   "id": "e5afe7fa",
   "metadata": {},
   "outputs": [],
   "source": [
    "# Check for substring in string\n",
    "name = \"John\"\n",
    "print(\"hn\" in name) #True\n",
    "print(\"nh\" in name) #False"
   ]
  },
  {
   "cell_type": "markdown",
   "id": "fd935cea",
   "metadata": {},
   "source": [
    "## List Manipulations"
   ]
  },
  {
   "cell_type": "code",
   "execution_count": null,
   "id": "a0d375bb",
   "metadata": {},
   "outputs": [],
   "source": [
    "# Get unique values from list\n",
    "l1 =[1, 2, 1, 1, 3, 4, 3, 3, 5]\n",
    "print(list(set(l)))"
   ]
  },
  {
   "cell_type": "code",
   "execution_count": null,
   "id": "6979494b",
   "metadata": {},
   "outputs": [],
   "source": [
    "print(l1) \n",
    "l1.append(7)\n",
    "print(l1)\n",
    "l1.pop(7)\n",
    "print(l1)"
   ]
  },
  {
   "cell_type": "code",
   "execution_count": null,
   "id": "93083976",
   "metadata": {},
   "outputs": [],
   "source": [
    "# List Concatenation\n",
    "example1 = [\"Sunday\", \"Monday\", \"Tuesday\", \"Wednesday\"];\n",
    "example2 = [\"Weekdays\", \"Weekends\"]\n",
    "example3 = example1 + example2\n",
    "print(example3)"
   ]
  },
  {
   "cell_type": "code",
   "execution_count": null,
   "id": "d00204b9",
   "metadata": {},
   "outputs": [],
   "source": [
    "del example3[2]\n",
    "print(example3)"
   ]
  },
  {
   "cell_type": "markdown",
   "id": "0831005e",
   "metadata": {},
   "source": [
    "## Dictionay Manipulations"
   ]
  },
  {
   "cell_type": "code",
   "execution_count": null,
   "id": "1ae24d41",
   "metadata": {},
   "outputs": [],
   "source": [
    "# Get count of string characters\n",
    "from collections import Counter\n",
    "s = \"AAAABBBCCD\"\n",
    "_str_count = Counter(s) # {\"A\":4, \"B\":3, \"C\":2, \"D\":1}\n",
    "_str_count"
   ]
  },
  {
   "cell_type": "code",
   "execution_count": null,
   "id": "5762ab06",
   "metadata": {},
   "outputs": [],
   "source": []
  },
  {
   "cell_type": "code",
   "execution_count": null,
   "id": "c843dc00",
   "metadata": {},
   "outputs": [],
   "source": [
    "from collections import defaultdict\n",
    "\n",
    "ordinaryDict = {}\n",
    "#we pass in the type that will be stored in values. Let's consider a map of characters to integers, we store ints as the value so we pass in int\n",
    "coolDict = collections.defaultdict(int)\n",
    "\n",
    "#this raises an exception since the key \"a\" is not defined in the dictionary\n",
    "#ordinaryDict[\"a\"] += 1 \n",
    "ordinaryDict[\"a\"] = 1 \n",
    "print('ordinaryDict:',ordinaryDict)\n",
    "\n",
    "#this works like a charm!\n",
    "coolDict[\"a\"] += 1\n",
    "print('coolDict:',coolDict)"
   ]
  },
  {
   "cell_type": "code",
   "execution_count": null,
   "id": "5ffcae39",
   "metadata": {},
   "outputs": [],
   "source": [
    "from collections import OrderedDict\n",
    "od = OrderedDict()\n",
    "od[\"a\"] = 1\n",
    "od[\"b\"] = 2\n",
    "od[\"c\"] = 3\n",
    "for (key, value) in od.items():\n",
    "  print(value)\n",
    "od[\"b\"] = 4 #od looks like {\"a\":1, \"b\":4, \"c\":3}\n",
    "od.move_to_end(\"b\") #od now looks like {\"a\":1, \"c\":3, \"b\":4}\n",
    "print(od.items())\n",
    "#takes a parameter whether to pop in a last in first out fashion (like a stack) or not (like a queue)\n",
    "od.popitem(last = False) # remove first kv of dict\n",
    "print(od.items())"
   ]
  },
  {
   "cell_type": "code",
   "execution_count": null,
   "id": "85614366",
   "metadata": {},
   "outputs": [],
   "source": []
  },
  {
   "cell_type": "code",
   "execution_count": null,
   "id": "63de6011",
   "metadata": {},
   "outputs": [],
   "source": []
  },
  {
   "cell_type": "code",
   "execution_count": null,
   "id": "ebef565a",
   "metadata": {},
   "outputs": [],
   "source": []
  },
  {
   "cell_type": "code",
   "execution_count": null,
   "id": "9b6303ae",
   "metadata": {},
   "outputs": [],
   "source": []
  },
  {
   "cell_type": "code",
   "execution_count": null,
   "id": "f84193e8",
   "metadata": {},
   "outputs": [],
   "source": []
  },
  {
   "cell_type": "code",
   "execution_count": null,
   "id": "60f88a52",
   "metadata": {},
   "outputs": [],
   "source": []
  },
  {
   "cell_type": "code",
   "execution_count": null,
   "id": "faa88c39",
   "metadata": {},
   "outputs": [],
   "source": []
  },
  {
   "cell_type": "code",
   "execution_count": null,
   "id": "732d2962",
   "metadata": {},
   "outputs": [],
   "source": []
  },
  {
   "cell_type": "code",
   "execution_count": null,
   "id": "df230d57",
   "metadata": {},
   "outputs": [],
   "source": []
  },
  {
   "cell_type": "code",
   "execution_count": null,
   "id": "55feb165",
   "metadata": {},
   "outputs": [],
   "source": [
    "# Remove Duplicates from Sorted Array\n",
    "\n",
    "class Solution(object):\n",
    "   def removeDuplicates(self, nums):\n",
    "      \"\"\"\n",
    "      :type nums: List[int]\n",
    "      :rtype: int\n",
    "      \"\"\"\n",
    "      if len(nums) == 0:\n",
    "         return 0\n",
    "      length = 1\n",
    "      previous = nums[0]\n",
    "      index = 1\n",
    "      for i in range(1,len(nums)):\n",
    "         if nums[i] != previous:\n",
    "            length += 1\n",
    "            previous = nums[i]\n",
    "            nums[index] = nums[i]\n",
    "            index+=1\n",
    "      return length\n",
    "input_list = [1,1,2,2,2,3,3,3,3,4,5,5,5,6]\n",
    "ob1 = Solution()\n",
    "print(ob1.removeDuplicates(input_list))"
   ]
  },
  {
   "cell_type": "code",
   "execution_count": null,
   "id": "6434f332",
   "metadata": {},
   "outputs": [],
   "source": []
  },
  {
   "cell_type": "code",
   "execution_count": null,
   "id": "be9b9cda",
   "metadata": {},
   "outputs": [],
   "source": []
  },
  {
   "cell_type": "code",
   "execution_count": null,
   "id": "71925a92",
   "metadata": {},
   "outputs": [],
   "source": []
  }
 ],
 "metadata": {
  "kernelspec": {
   "display_name": "Python 3 (ipykernel)",
   "language": "python",
   "name": "python3"
  },
  "language_info": {
   "codemirror_mode": {
    "name": "ipython",
    "version": 3
   },
   "file_extension": ".py",
   "mimetype": "text/x-python",
   "name": "python",
   "nbconvert_exporter": "python",
   "pygments_lexer": "ipython3",
   "version": "3.9.7"
  }
 },
 "nbformat": 4,
 "nbformat_minor": 5
}
