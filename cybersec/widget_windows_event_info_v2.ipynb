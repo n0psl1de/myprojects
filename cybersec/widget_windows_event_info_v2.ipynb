{
 "cells": [
  {
   "cell_type": "code",
   "execution_count": 1,
   "id": "a80bb87f-b164-4e59-b57e-6b3a6c6054cb",
   "metadata": {},
   "outputs": [],
   "source": [
    "import pandas as pd\n",
    "import requests\n",
    "import yaml\n",
    "import ipywidgets as widgets\n",
    "from IPython.display import display\n",
    "pd.set_option('display.max_rows', None)\n",
    "pd.set_option('display.max_columns', None)\n",
    "pd.set_option('display.width', None)"
   ]
  },
  {
   "cell_type": "code",
   "execution_count": 2,
   "id": "94d7694a-84ca-4b17-aece-76b52e656783",
   "metadata": {},
   "outputs": [],
   "source": [
    "# Download OSSEM data set and convert it to a Pandas data frame. \n",
    "url_ossem = 'https://raw.githubusercontent.com/OTRF/OSSEM-DM/main/use-cases/mitre_attack/techniques_to_events_mapping.yaml'\n",
    "yamlContent = requests.get(url_ossem)\n",
    "yamlMapping = yaml.safe_load(yamlContent.text)\n",
    "df = pd.json_normalize(yamlMapping)"
   ]
  },
  {
   "cell_type": "code",
   "execution_count": 3,
   "id": "8522a8ac",
   "metadata": {},
   "outputs": [],
   "source": [
    "# Drop columns we don't need\n",
    "df = df.drop(['relationship_id','audit_category','audit_sub_category','filter_in','filter_in.ObjectType'], axis=1)"
   ]
  },
  {
   "cell_type": "code",
   "execution_count": 8,
   "id": "88b8b31d-b16d-4f90-b963-fd40688ab614",
   "metadata": {},
   "outputs": [],
   "source": [
    "def main_func(event_id):\n",
    "    try: \n",
    "        _output1 = df[df['event_id'] == int(event_id)].groupby(['event_id','event_name','source','relationship','target','log_provider']).sum()\n",
    "        display(_output1)\n",
    "    except: pass\n",
    "\n",
    "def win_txt_srch(event_name):\n",
    "    _str = event_name\n",
    "    _str.lower()\n",
    "    df['event_name'] = df['event_name'].str.lower()\n",
    "    try: \n",
    "        if event_name == '': pass\n",
    "        else:\n",
    "            _output2 = df[df['event_name'].str.contains(_str)].groupby(['event_id','event_name','source','relationship','target','log_provider']).sum()\n",
    "            display(_output2)\n",
    "    except: pass\n"
   ]
  },
  {
   "cell_type": "code",
   "execution_count": 9,
   "id": "013a568d-c250-4ca2-a301-bc4a7eaebee6",
   "metadata": {},
   "outputs": [],
   "source": [
    "event_id = widgets.Text(description='Event ID: ', placeholder='Type Here', layout={'width': 'max-content'})\n",
    "event_name = widgets.Text(description='Text Search: ', placeholder='Type Here',layout={'width': 'max-content'})\n",
    "ui1 = widgets.HBox([event_id])\n",
    "ui2 = widgets.HBox([event_name])\n",
    "out = widgets.interactive_output(main_func, {'event_id': event_id})\n",
    "out2 = widgets.interactive_output(win_txt_srch, {'event_name':event_name})"
   ]
  },
  {
   "cell_type": "markdown",
   "id": "d804f783",
   "metadata": {},
   "source": [
    "---\n",
    "### Menu: Get Windows Event ID Information"
   ]
  },
  {
   "cell_type": "code",
   "execution_count": 10,
   "id": "eeb0b42e-7cf6-440d-85df-0168d7c93fd9",
   "metadata": {},
   "outputs": [
    {
     "data": {
      "application/vnd.jupyter.widget-view+json": {
       "model_id": "b60a2c42c1b549c8af04105b248f298e",
       "version_major": 2,
       "version_minor": 0
      },
      "text/plain": [
       "HBox(children=(Text(value='', description='Event ID: ', layout=Layout(width='max-content'), placeholder='Type …"
      ]
     },
     "metadata": {},
     "output_type": "display_data"
    },
    {
     "data": {
      "application/vnd.jupyter.widget-view+json": {
       "model_id": "59e9c286e7204020adf5dcd0c85d086b",
       "version_major": 2,
       "version_minor": 0
      },
      "text/plain": [
       "Output()"
      ]
     },
     "metadata": {},
     "output_type": "display_data"
    }
   ],
   "source": [
    "display(ui1,out)"
   ]
  },
  {
   "cell_type": "code",
   "execution_count": 11,
   "id": "22d2484e",
   "metadata": {},
   "outputs": [
    {
     "data": {
      "application/vnd.jupyter.widget-view+json": {
       "model_id": "4d4ddf371e314b998d3f75528b45fb26",
       "version_major": 2,
       "version_minor": 0
      },
      "text/plain": [
       "HBox(children=(Text(value='', description='Text Search: ', layout=Layout(width='max-content'), placeholder='Ty…"
      ]
     },
     "metadata": {},
     "output_type": "display_data"
    },
    {
     "data": {
      "application/vnd.jupyter.widget-view+json": {
       "model_id": "b686babab684414aba24e2494da2d85a",
       "version_major": 2,
       "version_minor": 0
      },
      "text/plain": [
       "Output()"
      ]
     },
     "metadata": {},
     "output_type": "display_data"
    }
   ],
   "source": [
    "display(ui2,out2)"
   ]
  },
  {
   "cell_type": "code",
   "execution_count": null,
   "id": "eb462ba4",
   "metadata": {},
   "outputs": [],
   "source": []
  }
 ],
 "metadata": {
  "kernelspec": {
   "display_name": "Python 3 (ipykernel)",
   "language": "python",
   "name": "python3"
  },
  "language_info": {
   "codemirror_mode": {
    "name": "ipython",
    "version": 3
   },
   "file_extension": ".py",
   "mimetype": "text/x-python",
   "name": "python",
   "nbconvert_exporter": "python",
   "pygments_lexer": "ipython3",
   "version": "3.9.7"
  }
 },
 "nbformat": 4,
 "nbformat_minor": 5
}
