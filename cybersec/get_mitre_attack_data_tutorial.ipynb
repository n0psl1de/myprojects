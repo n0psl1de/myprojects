{
 "cells": [
  {
   "cell_type": "markdown",
   "id": "e276ea3c",
   "metadata": {},
   "source": [
    "### Basic MITRE ATT&CK Data Analysis"
   ]
  },
  {
   "cell_type": "markdown",
   "id": "951fb4ca",
   "metadata": {},
   "source": [
    "#### Step 1: Import Python Modules"
   ]
  },
  {
   "cell_type": "code",
   "execution_count": 2,
   "id": "f160c04f",
   "metadata": {
    "tags": []
   },
   "outputs": [],
   "source": [
    "import pandas as pd\n",
    "import janitor as jn"
   ]
  },
  {
   "cell_type": "markdown",
   "id": "6eb87a5b",
   "metadata": {},
   "source": [
    "#### Step 2: Define Settings\n",
    "- Disabling display restrictions can be helpful for initial analysis. "
   ]
  },
  {
   "cell_type": "code",
   "execution_count": 3,
   "id": "910190ff",
   "metadata": {},
   "outputs": [],
   "source": [
    "pd.set_option('display.max_rows', None)\n",
    "pd.set_option('display.max_columns', None)"
   ]
  },
  {
   "cell_type": "markdown",
   "id": "baee5282",
   "metadata": {},
   "source": [
    "#### Step 3: Download the MITRE Enterprise ATT&CK Data Set\n",
    "- The data is downloaded from an Excel file and each sheet converted into a separate Pandas data frame. "
   ]
  },
  {
   "cell_type": "code",
   "execution_count": 4,
   "id": "27594e74-f690-40f6-a30a-2ded8e8ece9e",
   "metadata": {
    "tags": []
   },
   "outputs": [],
   "source": [
    "url_attack = 'https://attack.mitre.org/docs/enterprise-attack-v10.1/enterprise-attack-v10.1.xlsx'\n",
    "df_datasources = pd.read_excel(url_attack, sheet_name='datasources')\n",
    "df_tactics = pd.read_excel(url_attack, sheet_name='tactics')\n",
    "df_techniques = pd.read_excel(url_attack, sheet_name='techniques')\n",
    "df_relationships = pd.read_excel(url_attack, sheet_name='relationships')\n",
    "df_mitigations = pd.read_excel(url_attack, sheet_name='mitigations')\n",
    "df_software = pd.read_excel(url_attack, sheet_name='software')\n",
    "df_groups = pd.read_excel(url_attack, sheet_name='groups')"
   ]
  },
  {
   "cell_type": "markdown",
   "id": "b5ba760e",
   "metadata": {},
   "source": [
    "#### Step 4: Clean-Up Column Names"
   ]
  },
  {
   "cell_type": "code",
   "execution_count": 5,
   "id": "5371138d",
   "metadata": {},
   "outputs": [
    {
     "data": {
      "text/plain": [
       "Index(['ID', 'name', 'description', 'url', 'created', 'last modified',\n",
       "       'version', 'tactics', 'detection', 'platforms', 'data sources',\n",
       "       'is sub-technique', 'sub-technique of', 'contributors',\n",
       "       'system requirements', 'permissions required', 'effective permissions',\n",
       "       'defenses bypassed', 'impact type', 'supports remote'],\n",
       "      dtype='object')"
      ]
     },
     "execution_count": 5,
     "metadata": {},
     "output_type": "execute_result"
    }
   ],
   "source": [
    "df_techniques.columns"
   ]
  },
  {
   "cell_type": "code",
   "execution_count": 6,
   "id": "e8288185-164c-46ef-9e5f-caf87f05184a",
   "metadata": {
    "tags": []
   },
   "outputs": [],
   "source": [
    "# Clean MITRE Enterprise ATT&CK DATA\n",
    "df_datasources = jn.clean_names(df_datasources)\n",
    "df_tactics = jn.clean_names(df_tactics)\n",
    "df_techniques = jn.clean_names(df_techniques)\n",
    "df_relationships = jn.clean_names(df_relationships)\n",
    "df_mitigations = jn.clean_names(df_mitigations)\n",
    "df_software = jn.clean_names(df_software)\n",
    "df_groups = jn.clean_names(df_groups)"
   ]
  },
  {
   "cell_type": "code",
   "execution_count": 7,
   "id": "28e3bcb1",
   "metadata": {},
   "outputs": [
    {
     "data": {
      "text/plain": [
       "Index(['id', 'name', 'description', 'url', 'created', 'last_modified',\n",
       "       'version', 'tactics', 'detection', 'platforms', 'data_sources',\n",
       "       'is_sub_technique', 'sub_technique_of', 'contributors',\n",
       "       'system_requirements', 'permissions_required', 'effective_permissions',\n",
       "       'defenses_bypassed', 'impact_type', 'supports_remote'],\n",
       "      dtype='object')"
      ]
     },
     "execution_count": 7,
     "metadata": {},
     "output_type": "execute_result"
    }
   ],
   "source": [
    "df_techniques.columns"
   ]
  },
  {
   "cell_type": "code",
   "execution_count": null,
   "id": "0cc64e80",
   "metadata": {},
   "outputs": [],
   "source": [
    "df_relationships[df_relationships['target_id'].isin(list_of_techniques) &  (df_relationships[\"source_type\"] == 'mitigation')]"
   ]
  },
  {
   "cell_type": "code",
   "execution_count": null,
   "id": "4664fb6a-16de-4e34-afe7-6a52a2175ef6",
   "metadata": {},
   "outputs": [],
   "source": [
    "df_techniques.head(10)"
   ]
  },
  {
   "cell_type": "markdown",
   "id": "7a812561-a0b1-4338-9d1d-bccfaf6a16fa",
   "metadata": {},
   "source": [
    "### References\n",
    "\n",
    "https://attack.mitre.org/\n",
    "\n",
    "https://attack.mitre.org/docs/enterprise-attack-v10.1/enterprise-attack-v10.1.xlsx"
   ]
  },
  {
   "cell_type": "markdown",
   "id": "df4bdb7a-3a32-443c-822f-bd0d61a31e7e",
   "metadata": {},
   "source": []
  },
  {
   "cell_type": "code",
   "execution_count": 19,
   "id": "1b4dfa31",
   "metadata": {},
   "outputs": [
    {
     "data": {
      "text/plain": [
       "id                        object\n",
       "name                      object\n",
       "description               object\n",
       "url                       object\n",
       "created                   object\n",
       "last_modified             object\n",
       "version                  float64\n",
       "tactics                   object\n",
       "detection                 object\n",
       "platforms                 object\n",
       "data_sources              object\n",
       "is_sub_technique            bool\n",
       "sub_technique_of          object\n",
       "contributors              object\n",
       "system_requirements       object\n",
       "permissions_required      object\n",
       "effective_permissions     object\n",
       "defenses_bypassed         object\n",
       "impact_type               object\n",
       "supports_remote          float64\n",
       "dtype: object"
      ]
     },
     "execution_count": 19,
     "metadata": {},
     "output_type": "execute_result"
    }
   ],
   "source": [
    "#df_techniques.info()\n",
    "df_techniques.dtypes"
   ]
  },
  {
   "cell_type": "code",
   "execution_count": 8,
   "id": "d780ae83",
   "metadata": {},
   "outputs": [
    {
     "data": {
      "text/html": [
       "<div>\n",
       "<style scoped>\n",
       "    .dataframe tbody tr th:only-of-type {\n",
       "        vertical-align: middle;\n",
       "    }\n",
       "\n",
       "    .dataframe tbody tr th {\n",
       "        vertical-align: top;\n",
       "    }\n",
       "\n",
       "    .dataframe thead th {\n",
       "        text-align: right;\n",
       "    }\n",
       "</style>\n",
       "<table border=\"1\" class=\"dataframe\">\n",
       "  <thead>\n",
       "    <tr style=\"text-align: right;\">\n",
       "      <th></th>\n",
       "      <th>source_id</th>\n",
       "      <th>source_name</th>\n",
       "      <th>source_type</th>\n",
       "      <th>mapping_type</th>\n",
       "      <th>target_id</th>\n",
       "      <th>target_name</th>\n",
       "      <th>target_type</th>\n",
       "      <th>mapping_description</th>\n",
       "    </tr>\n",
       "  </thead>\n",
       "  <tbody>\n",
       "    <tr>\n",
       "      <th>0</th>\n",
       "      <td>NaN</td>\n",
       "      <td>Active DNS</td>\n",
       "      <td>datacomponent</td>\n",
       "      <td>detects</td>\n",
       "      <td>T1583</td>\n",
       "      <td>Acquire Infrastructure</td>\n",
       "      <td>technique</td>\n",
       "      <td>NaN</td>\n",
       "    </tr>\n",
       "    <tr>\n",
       "      <th>1</th>\n",
       "      <td>NaN</td>\n",
       "      <td>Active DNS</td>\n",
       "      <td>datacomponent</td>\n",
       "      <td>detects</td>\n",
       "      <td>T1584</td>\n",
       "      <td>Compromise Infrastructure</td>\n",
       "      <td>technique</td>\n",
       "      <td>NaN</td>\n",
       "    </tr>\n",
       "    <tr>\n",
       "      <th>2</th>\n",
       "      <td>NaN</td>\n",
       "      <td>Active DNS</td>\n",
       "      <td>datacomponent</td>\n",
       "      <td>detects</td>\n",
       "      <td>T1584.002</td>\n",
       "      <td>DNS Server</td>\n",
       "      <td>technique</td>\n",
       "      <td>NaN</td>\n",
       "    </tr>\n",
       "    <tr>\n",
       "      <th>3</th>\n",
       "      <td>NaN</td>\n",
       "      <td>Active DNS</td>\n",
       "      <td>datacomponent</td>\n",
       "      <td>detects</td>\n",
       "      <td>T1583.001</td>\n",
       "      <td>Domains</td>\n",
       "      <td>technique</td>\n",
       "      <td>NaN</td>\n",
       "    </tr>\n",
       "    <tr>\n",
       "      <th>4</th>\n",
       "      <td>NaN</td>\n",
       "      <td>Active DNS</td>\n",
       "      <td>datacomponent</td>\n",
       "      <td>detects</td>\n",
       "      <td>T1584.001</td>\n",
       "      <td>Domains</td>\n",
       "      <td>technique</td>\n",
       "      <td>NaN</td>\n",
       "    </tr>\n",
       "    <tr>\n",
       "      <th>5</th>\n",
       "      <td>NaN</td>\n",
       "      <td>Active Directory Credential Request</td>\n",
       "      <td>datacomponent</td>\n",
       "      <td>detects</td>\n",
       "      <td>T1558.004</td>\n",
       "      <td>AS-REP Roasting</td>\n",
       "      <td>technique</td>\n",
       "      <td>NaN</td>\n",
       "    </tr>\n",
       "    <tr>\n",
       "      <th>6</th>\n",
       "      <td>NaN</td>\n",
       "      <td>Active Directory Credential Request</td>\n",
       "      <td>datacomponent</td>\n",
       "      <td>detects</td>\n",
       "      <td>T1558.001</td>\n",
       "      <td>Golden Ticket</td>\n",
       "      <td>technique</td>\n",
       "      <td>NaN</td>\n",
       "    </tr>\n",
       "    <tr>\n",
       "      <th>7</th>\n",
       "      <td>NaN</td>\n",
       "      <td>Active Directory Credential Request</td>\n",
       "      <td>datacomponent</td>\n",
       "      <td>detects</td>\n",
       "      <td>T1558.003</td>\n",
       "      <td>Kerberoasting</td>\n",
       "      <td>technique</td>\n",
       "      <td>NaN</td>\n",
       "    </tr>\n",
       "    <tr>\n",
       "      <th>8</th>\n",
       "      <td>NaN</td>\n",
       "      <td>Active Directory Credential Request</td>\n",
       "      <td>datacomponent</td>\n",
       "      <td>detects</td>\n",
       "      <td>T1550.002</td>\n",
       "      <td>Pass the Hash</td>\n",
       "      <td>technique</td>\n",
       "      <td>NaN</td>\n",
       "    </tr>\n",
       "    <tr>\n",
       "      <th>9</th>\n",
       "      <td>NaN</td>\n",
       "      <td>Active Directory Credential Request</td>\n",
       "      <td>datacomponent</td>\n",
       "      <td>detects</td>\n",
       "      <td>T1550.003</td>\n",
       "      <td>Pass the Ticket</td>\n",
       "      <td>technique</td>\n",
       "      <td>NaN</td>\n",
       "    </tr>\n",
       "  </tbody>\n",
       "</table>\n",
       "</div>"
      ],
      "text/plain": [
       "  source_id                          source_name    source_type mapping_type  \\\n",
       "0       NaN                           Active DNS  datacomponent      detects   \n",
       "1       NaN                           Active DNS  datacomponent      detects   \n",
       "2       NaN                           Active DNS  datacomponent      detects   \n",
       "3       NaN                           Active DNS  datacomponent      detects   \n",
       "4       NaN                           Active DNS  datacomponent      detects   \n",
       "5       NaN  Active Directory Credential Request  datacomponent      detects   \n",
       "6       NaN  Active Directory Credential Request  datacomponent      detects   \n",
       "7       NaN  Active Directory Credential Request  datacomponent      detects   \n",
       "8       NaN  Active Directory Credential Request  datacomponent      detects   \n",
       "9       NaN  Active Directory Credential Request  datacomponent      detects   \n",
       "\n",
       "   target_id                target_name target_type mapping_description  \n",
       "0      T1583     Acquire Infrastructure   technique                 NaN  \n",
       "1      T1584  Compromise Infrastructure   technique                 NaN  \n",
       "2  T1584.002                 DNS Server   technique                 NaN  \n",
       "3  T1583.001                    Domains   technique                 NaN  \n",
       "4  T1584.001                    Domains   technique                 NaN  \n",
       "5  T1558.004            AS-REP Roasting   technique                 NaN  \n",
       "6  T1558.001              Golden Ticket   technique                 NaN  \n",
       "7  T1558.003              Kerberoasting   technique                 NaN  \n",
       "8  T1550.002              Pass the Hash   technique                 NaN  \n",
       "9  T1550.003            Pass the Ticket   technique                 NaN  "
      ]
     },
     "execution_count": 8,
     "metadata": {},
     "output_type": "execute_result"
    }
   ],
   "source": [
    "df_relationships.head(10)"
   ]
  },
  {
   "cell_type": "code",
   "execution_count": null,
   "id": "88795f64",
   "metadata": {},
   "outputs": [],
   "source": []
  }
 ],
 "metadata": {
  "kernelspec": {
   "display_name": "Python 3 (ipykernel)",
   "language": "python",
   "name": "python3"
  },
  "language_info": {
   "codemirror_mode": {
    "name": "ipython",
    "version": 3
   },
   "file_extension": ".py",
   "mimetype": "text/x-python",
   "name": "python",
   "nbconvert_exporter": "python",
   "pygments_lexer": "ipython3",
   "version": "3.9.7"
  }
 },
 "nbformat": 4,
 "nbformat_minor": 5
}
