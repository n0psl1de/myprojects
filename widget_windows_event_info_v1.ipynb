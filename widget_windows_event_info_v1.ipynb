{
 "cells": [
  {
   "cell_type": "code",
   "execution_count": 63,
   "id": "a80bb87f-b164-4e59-b57e-6b3a6c6054cb",
   "metadata": {},
   "outputs": [],
   "source": [
    "import pandas as pd\n",
    "import requests\n",
    "import yaml\n",
    "import ipywidgets as widgets\n",
    "from IPython.display import display\n",
    "pd.set_option('display.max_rows', None)\n",
    "pd.set_option('display.max_columns', None)\n",
    "pd.set_option('display.width', None)"
   ]
  },
  {
   "cell_type": "code",
   "execution_count": 64,
   "id": "94d7694a-84ca-4b17-aece-76b52e656783",
   "metadata": {},
   "outputs": [],
   "source": [
    "# Download OSSEM data set and convert it to a Pandas data frame. \n",
    "url_ossem = 'https://raw.githubusercontent.com/OTRF/OSSEM-DM/main/use-cases/mitre_attack/techniques_to_events_mapping.yaml'\n",
    "yamlContent = requests.get(url_ossem)\n",
    "yamlMapping = yaml.safe_load(yamlContent.text)\n",
    "df = pd.json_normalize(yamlMapping)"
   ]
  },
  {
   "cell_type": "code",
   "execution_count": 65,
   "id": "84e85d27",
   "metadata": {},
   "outputs": [],
   "source": [
    "# Drop columns we don't need\n",
    "df = df.drop(['relationship_id','audit_category','audit_sub_category','filter_in','filter_in.ObjectType'], axis=1)"
   ]
  },
  {
   "cell_type": "code",
   "execution_count": 88,
   "id": "88b8b31d-b16d-4f90-b963-fd40688ab614",
   "metadata": {},
   "outputs": [],
   "source": [
    "def main_func(event_id):\n",
    "    try: \n",
    "        _output = df[df['event_id'] == int(event_id)].groupby(['event_id','event_name','source','relationship','target','log_provider']).sum()\n",
    "        display(_output)\n",
    "    except: pass"
   ]
  },
  {
   "cell_type": "code",
   "execution_count": 89,
   "id": "013a568d-c250-4ca2-a301-bc4a7eaebee6",
   "metadata": {},
   "outputs": [],
   "source": [
    "event_id = widgets.Text(description='Event ID: ', value='4688',layout={'width': 'max-content'})\n",
    "ui = widgets.HBox([event_id])\n",
    "out = widgets.interactive_output(main_func, {'event_id': event_id})"
   ]
  },
  {
   "cell_type": "markdown",
   "id": "d804f783",
   "metadata": {},
   "source": [
    "---\n",
    "### Menu: Get Windows Event ID Information"
   ]
  },
  {
   "cell_type": "code",
   "execution_count": 90,
   "id": "eeb0b42e-7cf6-440d-85df-0168d7c93fd9",
   "metadata": {},
   "outputs": [
    {
     "data": {
      "application/vnd.jupyter.widget-view+json": {
       "model_id": "0773029a3a7d40e1aeec96c087f3e00f",
       "version_major": 2,
       "version_minor": 0
      },
      "text/plain": [
       "HBox(children=(Text(value='4688', description='Event ID: ', layout=Layout(width='max-content')),))"
      ]
     },
     "metadata": {},
     "output_type": "display_data"
    },
    {
     "data": {
      "application/vnd.jupyter.widget-view+json": {
       "model_id": "3b63645365a14d0cb9ecc9bc65dd3c56",
       "version_major": 2,
       "version_minor": 0
      },
      "text/plain": [
       "Output(outputs=({'output_type': 'display_data', 'data': {'text/plain': '                                      …"
      ]
     },
     "metadata": {},
     "output_type": "display_data"
    }
   ],
   "source": [
    "display(ui,out)"
   ]
  },
  {
   "cell_type": "code",
   "execution_count": null,
   "id": "847923eb",
   "metadata": {},
   "outputs": [],
   "source": []
  }
 ],
 "metadata": {
  "kernelspec": {
   "display_name": "Python 3 (ipykernel)",
   "language": "python",
   "name": "python3"
  },
  "language_info": {
   "codemirror_mode": {
    "name": "ipython",
    "version": 3
   },
   "file_extension": ".py",
   "mimetype": "text/x-python",
   "name": "python",
   "nbconvert_exporter": "python",
   "pygments_lexer": "ipython3",
   "version": "3.9.7"
  }
 },
 "nbformat": 4,
 "nbformat_minor": 5
}
